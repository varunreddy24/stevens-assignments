{
 "cells": [
  {
   "cell_type": "markdown",
   "metadata": {},
   "source": [
    "# CS 584 Assignment 2 -- MLP and Word Vectors\n",
    "\n",
    "#### Name: (Your Name)"
   ]
  },
  {
   "cell_type": "markdown",
   "metadata": {},
   "source": [
    "## In this assignment, you are required to follow the steps below:\n",
    "1. Review the lecture slides.\n",
    "2. Implement MLP.\n",
    "3. Implement Word2Vec\n",
    "\n",
    "*** Please read the code and comments very carefully and install these packages (NumPy, Pandas, sklearn, tqdm, spacy, and matplotlib) before you start ***"
   ]
  },
  {
   "cell_type": "code",
   "execution_count": 1,
   "metadata": {},
   "outputs": [
    {
     "name": "stdout",
     "output_type": "stream",
     "text": [
      "Requirement already satisfied: spacy in c:\\users\\varun\\appdata\\local\\programs\\python\\python39\\lib\\site-packages (3.2.2)\n",
      "Requirement already satisfied: preshed<3.1.0,>=3.0.2 in c:\\users\\varun\\appdata\\local\\programs\\python\\python39\\lib\\site-packages (from spacy) (3.0.6)\n",
      "Requirement already satisfied: murmurhash<1.1.0,>=0.28.0 in c:\\users\\varun\\appdata\\local\\programs\\python\\python39\\lib\\site-packages (from spacy) (1.0.6)\n",
      "Requirement already satisfied: numpy>=1.15.0 in c:\\users\\varun\\appdata\\local\\programs\\python\\python39\\lib\\site-packages (from spacy) (1.22.2)\n",
      "Requirement already satisfied: catalogue<2.1.0,>=2.0.6 in c:\\users\\varun\\appdata\\local\\programs\\python\\python39\\lib\\site-packages (from spacy) (2.0.6)\n",
      "Requirement already satisfied: pathy>=0.3.5 in c:\\users\\varun\\appdata\\local\\programs\\python\\python39\\lib\\site-packages (from spacy) (0.6.1)\n",
      "Requirement already satisfied: requests<3.0.0,>=2.13.0 in c:\\users\\varun\\appdata\\local\\programs\\python\\python39\\lib\\site-packages (from spacy) (2.27.1)\n",
      "Requirement already satisfied: typer<0.5.0,>=0.3.0 in c:\\users\\varun\\appdata\\local\\programs\\python\\python39\\lib\\site-packages (from spacy) (0.4.0)\n",
      "Requirement already satisfied: tqdm<5.0.0,>=4.38.0 in c:\\users\\varun\\appdata\\local\\programs\\python\\python39\\lib\\site-packages (from spacy) (4.62.3)\n",
      "Requirement already satisfied: setuptools in c:\\users\\varun\\appdata\\local\\programs\\python\\python39\\lib\\site-packages (from spacy) (60.9.1)\n",
      "Requirement already satisfied: jinja2 in c:\\users\\varun\\appdata\\local\\programs\\python\\python39\\lib\\site-packages (from spacy) (3.0.3)\n",
      "Requirement already satisfied: packaging>=20.0 in c:\\users\\varun\\appdata\\local\\programs\\python\\python39\\lib\\site-packages (from spacy) (21.3)\n",
      "Requirement already satisfied: langcodes<4.0.0,>=3.2.0 in c:\\users\\varun\\appdata\\local\\programs\\python\\python39\\lib\\site-packages (from spacy) (3.3.0)\n",
      "Requirement already satisfied: pydantic!=1.8,!=1.8.1,<1.9.0,>=1.7.4 in c:\\users\\varun\\appdata\\local\\programs\\python\\python39\\lib\\site-packages (from spacy) (1.8.2)\n",
      "Requirement already satisfied: wasabi<1.1.0,>=0.8.1 in c:\\users\\varun\\appdata\\local\\programs\\python\\python39\\lib\\site-packages (from spacy) (0.9.0)\n",
      "Requirement already satisfied: blis<0.8.0,>=0.4.0 in c:\\users\\varun\\appdata\\local\\programs\\python\\python39\\lib\\site-packages (from spacy) (0.7.6)\n",
      "Requirement already satisfied: thinc<8.1.0,>=8.0.12 in c:\\users\\varun\\appdata\\local\\programs\\python\\python39\\lib\\site-packages (from spacy) (8.0.13)\n",
      "Requirement already satisfied: cymem<2.1.0,>=2.0.2 in c:\\users\\varun\\appdata\\local\\programs\\python\\python39\\lib\\site-packages (from spacy) (2.0.6)\n",
      "Requirement already satisfied: srsly<3.0.0,>=2.4.1 in c:\\users\\varun\\appdata\\local\\programs\\python\\python39\\lib\\site-packages (from spacy) (2.4.2)\n",
      "Requirement already satisfied: spacy-loggers<2.0.0,>=1.0.0 in c:\\users\\varun\\appdata\\local\\programs\\python\\python39\\lib\\site-packages (from spacy) (1.0.1)\n",
      "Requirement already satisfied: spacy-legacy<3.1.0,>=3.0.8 in c:\\users\\varun\\appdata\\local\\programs\\python\\python39\\lib\\site-packages (from spacy) (3.0.8)\n",
      "Requirement already satisfied: pyparsing!=3.0.5,>=2.0.2 in c:\\users\\varun\\appdata\\local\\programs\\python\\python39\\lib\\site-packages (from packaging>=20.0->spacy) (3.0.7)\n",
      "Requirement already satisfied: smart-open<6.0.0,>=5.0.0 in c:\\users\\varun\\appdata\\local\\programs\\python\\python39\\lib\\site-packages (from pathy>=0.3.5->spacy) (5.2.1)\n",
      "Requirement already satisfied: typing-extensions>=3.7.4.3 in c:\\users\\varun\\appdata\\roaming\\python\\python39\\site-packages (from pydantic!=1.8,!=1.8.1,<1.9.0,>=1.7.4->spacy) (4.0.1)\n",
      "Requirement already satisfied: charset-normalizer~=2.0.0 in c:\\users\\varun\\appdata\\local\\programs\\python\\python39\\lib\\site-packages (from requests<3.0.0,>=2.13.0->spacy) (2.0.11)\n",
      "Note: you may need to restart the kernel to use updated packages.\n"
     ]
    },
    {
     "name": "stderr",
     "output_type": "stream",
     "text": [
      "UsageError: Line magic function `%python` not found (But cell magic `%%python` exists, did you mean that instead?).\n"
     ]
    },
    {
     "name": "stdout",
     "output_type": "stream",
     "text": [
      "Requirement already satisfied: urllib3<1.27,>=1.21.1 in c:\\users\\varun\\appdata\\local\\programs\\python\\python39\\lib\\site-packages (from requests<3.0.0,>=2.13.0->spacy) (1.26.8)\n",
      "Requirement already satisfied: idna<4,>=2.5 in c:\\users\\varun\\appdata\\local\\programs\\python\\python39\\lib\\site-packages (from requests<3.0.0,>=2.13.0->spacy) (3.3)\n",
      "Requirement already satisfied: certifi>=2017.4.17 in c:\\users\\varun\\appdata\\local\\programs\\python\\python39\\lib\\site-packages (from requests<3.0.0,>=2.13.0->spacy) (2021.10.8)\n",
      "Requirement already satisfied: colorama in c:\\users\\varun\\appdata\\local\\programs\\python\\python39\\lib\\site-packages (from tqdm<5.0.0,>=4.38.0->spacy) (0.4.4)\n",
      "Requirement already satisfied: click<9.0.0,>=7.1.1 in c:\\users\\varun\\appdata\\roaming\\python\\python39\\site-packages (from typer<0.5.0,>=0.3.0->spacy) (8.0.3)\n",
      "Requirement already satisfied: MarkupSafe>=2.0 in c:\\users\\varun\\appdata\\local\\programs\\python\\python39\\lib\\site-packages (from jinja2->spacy) (2.0.1)\n"
     ]
    }
   ],
   "source": [
    "###############################################################\n",
    "#                                                             #\n",
    "#    Run this cell to make sure all packages are installed.   #\n",
    "#                                                             #\n",
    "###############################################################\n",
    "\n",
    "# %pip install numpy pandas scikit-learn tqdm matplotlib\n",
    "import pandas as pd\n",
    "%pip install -U spacy\n",
    "%python -m spacy download en_core_web_sm"
   ]
  },
  {
   "cell_type": "markdown",
   "metadata": {},
   "source": [
    "## 1. MLP (30 points)\n",
    "In this section, you are required to implement the MLP in the following steps.\n",
    "1. Data Processing (Same as assignment 1, you could directly use your code in assignment 1.)\n",
    "2. MLP\n",
    "3. Evaluation"
   ]
  },
  {
   "cell_type": "markdown",
   "metadata": {},
   "source": [
    "### 1.1 Data Processing"
   ]
  },
  {
   "cell_type": "markdown",
   "metadata": {},
   "source": [
    "#### load data"
   ]
  },
  {
   "cell_type": "code",
   "execution_count": 8,
   "metadata": {},
   "outputs": [],
   "source": [
    "import pandas as pd\n",
    "\n",
    "# training data\n",
    "train_df = pd.read_csv('./data/train.csv', header=None)\n",
    "train_df.columns = ['label', 'title', 'text']\n",
    "\n",
    "# test data\n",
    "test_df = pd.read_csv('./data/test.csv', header=None)\n",
    "test_df.columns = ['label', 'title', 'text']"
   ]
  },
  {
   "cell_type": "markdown",
   "metadata": {},
   "source": [
    "####  Preprocessing"
   ]
  },
  {
   "cell_type": "code",
   "execution_count": 3,
   "metadata": {},
   "outputs": [],
   "source": [
    "import re\n",
    "import string\n",
    "\n",
    "class Preprocesser(object):\n",
    "    def __init__(self, punctuation=True, url=True, number=True):\n",
    "        self.punctuation = punctuation\n",
    "        self.url = url\n",
    "        self.number = number\n",
    "    \n",
    "    def apply(self, text):\n",
    "        \n",
    "        text = self._lowercase(text)\n",
    "        \n",
    "        if self.url:\n",
    "            text = self._remove_url(text)\n",
    "            \n",
    "        if self.punctuation:\n",
    "            text = self._remove_punctuation(text)\n",
    "            \n",
    "        if self.number:\n",
    "            text = self._remove_number(text)\n",
    "        \n",
    "        text = re.sub(r'\\s+', ' ', text)\n",
    "            \n",
    "        return text\n",
    "    \n",
    "        \n",
    "    def _remove_punctuation(self, text):\n",
    "        ''' Please fill this function to remove all the punctuations in the text\n",
    "        '''\n",
    "        ### Start your code\n",
    "        text = text.translate(str.maketrans('','', string.punctuation)) \n",
    "        ### End\n",
    "        \n",
    "        return text\n",
    "    \n",
    "    def _remove_url(self, text):\n",
    "        ''' Please fill this function to remove all the urls in the text\n",
    "        '''\n",
    "        ### Start your code\n",
    "        url_pattern = re.compile(\"(https?:\\/\\/(?:www\\.|(?!www))[a-zA-Z0-9][a-zA-Z0-9-]+[a-zA-Z0-9]\\.[^\\s]{2,}|www\\.[a-zA-Z0-9][a-zA-Z0-9-]+[a-zA-Z0-9]\\.[^\\s]{2,}|https?:\\/\\/(?:www\\.|(?!www))[a-zA-Z0-9]+\\.[^\\s]{2,}|www\\.[a-zA-Z0-9]+\\.[^\\s]{2,})\")\n",
    "        text = url_pattern.sub('', text)\n",
    "        ### End\n",
    "        \n",
    "        return text\n",
    "    \n",
    "    def _remove_number(self, text):\n",
    "        ''' Please fill this function to remove all the numbers in the text\n",
    "        '''\n",
    "        \n",
    "        ### Start your code        \n",
    "        text = text.translate(str.maketrans('','',string.digits))\n",
    "        ### End\n",
    "        \n",
    "        return text\n",
    "    \n",
    "    def _lowercase(self, text):\n",
    "        ''' Please fill this function to lower the text\n",
    "        '''\n",
    "        \n",
    "        ### Start your code\n",
    "        text = text.lower()        \n",
    "        ### End\n",
    "        \n",
    "        return text\n"
   ]
  },
  {
   "cell_type": "markdown",
   "metadata": {},
   "source": [
    "#### Tokenization"
   ]
  },
  {
   "cell_type": "code",
   "execution_count": 4,
   "metadata": {},
   "outputs": [],
   "source": [
    "import spacy\n",
    "nlp = spacy.load('en_core_web_sm')\n",
    "\n",
    "def tokenize(text):\n",
    "    ''' Please fill this function to tokenize text.\n",
    "            1. Tokenize the text.\n",
    "            2. Remove stop words.\n",
    "            3. Optional: lemmatize words accordingly.\n",
    "    '''\n",
    "    \n",
    "    ### Start your code\n",
    "    text = nlp(text)\n",
    "    tokens = [token.lemma_ for token in text if not token.is_stop]\n",
    "    ### End\n",
    "    \n",
    "    return tokens"
   ]
  },
  {
   "cell_type": "code",
   "execution_count": 5,
   "id": "e5cc0087",
   "metadata": {},
   "outputs": [],
   "source": [
    "import nltk\n",
    "\n",
    "def tokenize(text):\n",
    "    ''' Please fill this function to tokenize text.\n",
    "            1. Tokenize the text.\n",
    "            2. Remove stop words.\n",
    "            3. Optional: lemmatize words accordingly.\n",
    "    '''\n",
    "    \n",
    "    ### Start your code\n",
    "    tokens = nltk.tokenize.word_tokenize(text)\n",
    "    stopwords = nltk.corpus.stopwords.words('english')\n",
    "    tokens = [token for token in tokens if token not in stopwords]\n",
    "    lemmatizer = nltk.stem.WordNetLemmatizer()\n",
    "    tokens = [lemmatizer.lemmatize(token) for token in tokens]\n",
    "    ### End\n",
    "    \n",
    "    return tokens"
   ]
  },
  {
   "cell_type": "code",
   "execution_count": 6,
   "id": "5cf83d64",
   "metadata": {},
   "outputs": [
    {
     "name": "stdout",
     "output_type": "stream",
     "text": [
      "Interest rates are trimmed to 7.5 by the South African central bank (https://www.xxx.xxx), but the lack of warning hits the rand and surprises markets. ==> ['interest', 'rate', 'trimmed', 'south', 'african', 'central', 'bank', 'lack', 'warning', 'hit', 'rand', 'surprise', 'market']\n"
     ]
    }
   ],
   "source": [
    "text = \"Interest rates are trimmed to 7.5 by the South African central bank (https://www.xxx.xxx), but the lack of warning hits the rand and surprises markets.\"\n",
    "\n",
    "processer = Preprocesser()\n",
    "clean_text = processer.apply(text)\n",
    "\n",
    "tokens = tokenize(clean_text)\n",
    "\n",
    "print(f'{text} ==> {tokens}')\n"
   ]
  },
  {
   "cell_type": "markdown",
   "metadata": {},
   "source": [
    "#### Data Split"
   ]
  },
  {
   "cell_type": "code",
   "execution_count": 9,
   "metadata": {},
   "outputs": [
    {
     "name": "stdout",
     "output_type": "stream",
     "text": [
      "The size of training set: 96000\n",
      "The size of validation set: 24000\n",
      "The size of testing set: 7600\n"
     ]
    }
   ],
   "source": [
    "from sklearn.model_selection import train_test_split\n",
    "\n",
    "text_train = train_df['text'].values.astype(str)\n",
    "label_train = train_df['label'].values.astype(int) - 1 # -1 because labels start from 1\n",
    "\n",
    "text_test = test_df['text'].values.astype(str)\n",
    "label_test = test_df['label'].values.astype(int) - 1 # -1 because labels start from 1\n",
    "\n",
    "\n",
    "text_train, text_valid, label_train, label_valid = train_test_split(text_train, label_train, test_size=0.2)\n",
    "\n",
    "\n",
    "print('The size of training set:', text_train.shape[0])\n",
    "print('The size of validation set:', text_valid.shape[0])\n",
    "print('The size of testing set:', text_test.shape[0])"
   ]
  },
  {
   "cell_type": "markdown",
   "metadata": {},
   "source": [
    "#### Feature Extraction"
   ]
  },
  {
   "cell_type": "code",
   "execution_count": 10,
   "metadata": {},
   "outputs": [],
   "source": [
    "from collections import defaultdict, Counter\n",
    "import numpy as np\n",
    "from tqdm.notebook import tqdm\n",
    "\n",
    "class TfIdfExtractor(object):\n",
    "    \n",
    "    def __init__(self, vocab_size=None):\n",
    "        self.vocab_size = vocab_size\n",
    "        \n",
    "        self.vocab = defaultdict(lambda: 0)\n",
    "        self.word2idx = {}\n",
    "        self.df = defaultdict(lambda: 0)\n",
    "        self.num_doc = 0\n",
    "        \n",
    "        self.processer = Preprocesser()\n",
    "        \n",
    "        \n",
    "    def fit(self, texts):\n",
    "        ''' In this function, you are required to implement the fitting process.\n",
    "                1. Construct the vocabulary (self.vocab).\n",
    "                2. Construct the document frequency dictionary (self.df).\n",
    "                3. Sort the tokens(the keys in self.vocab) based on the frequence (the values of self.vocab).\n",
    "            Input:\n",
    "                texts: a list of text (training set)\n",
    "            Output:\n",
    "                None\n",
    "        '''\n",
    "\n",
    "        self.num_doc = len(texts)\n",
    "        \n",
    "        for text in tqdm(texts, desc='fitting text'):\n",
    "            clean_text = self.processer.apply(text)\n",
    "            tokens = tokenize(clean_text)\n",
    "            ### Start your code (step 1 & 2)\n",
    "            tokens_counter = Counter(tokens)\n",
    "            for i,j in tokens_counter.items():\n",
    "                self.vocab[i] += j\n",
    "                self.df[i] += 1\n",
    "            ### End\n",
    "        \n",
    "        ### Start your code (Step 3)\n",
    "        self.vocab = {i:j for i,j in sorted(self.vocab.items(), key=lambda x:x[1], reverse=True)}\n",
    "        ### End\n",
    "        \n",
    "        \n",
    "        if self.vocab_size is not None:\n",
    "            self.vocab = {key: self.vocab[key] for key in list(self.vocab.keys())[:self.vocab_size]}\n",
    "        \n",
    "        self.word2idx = {key: idx for idx, key in enumerate(self.vocab.keys())}\n",
    "\n",
    "\n",
    "    def transform(self, texts):\n",
    "        ''' In this function, you need to encode the input text into TF-IDF vector.\n",
    "            Input:\n",
    "                texts: a list of text.\n",
    "            Ouput:\n",
    "                a N-d matrix (Tf-Idf) \n",
    "        '''\n",
    "        tfidf = np.zeros((len(texts), len(self.vocab)))\n",
    "        \n",
    "        for i, text in tqdm(enumerate(texts), desc='transforming', total=len(texts)):\n",
    "            clean_text = self.processer.apply(text)\n",
    "            tokens = tokenize(clean_text)\n",
    "            \n",
    "            ### Start your code\n",
    "            tokens_counter = Counter(tokens)\n",
    "\n",
    "            for token, counter in tokens_counter.items():\n",
    "                if token in self.vocab:\n",
    "                    tfidf[i][self.word2idx[token]] = counter/min(len(tokens),self.vocab_size)\n",
    "\n",
    "        idf_values = np.zeros((self.vocab_size))\n",
    "\n",
    "        for i,j in self.df.items():\n",
    "            if i in self.vocab:\n",
    "                idf_values[self.word2idx[i]] = np.log((self.num_doc + 1)/(j + 1))+1\n",
    "                \n",
    "        tfidf = tfidf*idf_values[None:,]\n",
    "\n",
    "                \n",
    "            ### End\n",
    "        \n",
    "        return tfidf\n",
    "\n",
    "    ### NEED TO BE REMOVED\n",
    "    def _tf_idf(self, token, tokens):\n",
    "        tf = tokens.count(token) / len(tokens)\n",
    "        idf = np.log(self.num_doc / self.df[token])\n",
    "        return tf * idf\n",
    "    "
   ]
  },
  {
   "cell_type": "markdown",
   "metadata": {},
   "source": [
    "#### Obtain the outputs"
   ]
  },
  {
   "cell_type": "code",
   "execution_count": 11,
   "metadata": {},
   "outputs": [
    {
     "data": {
      "application/vnd.jupyter.widget-view+json": {
       "model_id": "2de90e8208af44f59956e6c66de432a3",
       "version_major": 2,
       "version_minor": 0
      },
      "text/plain": [
       "fitting text:   0%|          | 0/96000 [00:00<?, ?it/s]"
      ]
     },
     "metadata": {},
     "output_type": "display_data"
    },
    {
     "data": {
      "application/vnd.jupyter.widget-view+json": {
       "model_id": "f9672b8be0134102932e7716ac7eaa3e",
       "version_major": 2,
       "version_minor": 0
      },
      "text/plain": [
       "transforming:   0%|          | 0/96000 [00:00<?, ?it/s]"
      ]
     },
     "metadata": {},
     "output_type": "display_data"
    },
    {
     "data": {
      "application/vnd.jupyter.widget-view+json": {
       "model_id": "56bb69bd7ce148e399ac72297999509e",
       "version_major": 2,
       "version_minor": 0
      },
      "text/plain": [
       "transforming:   0%|          | 0/24000 [00:00<?, ?it/s]"
      ]
     },
     "metadata": {},
     "output_type": "display_data"
    },
    {
     "data": {
      "application/vnd.jupyter.widget-view+json": {
       "model_id": "98a32bf99c0a4edc85761b3c773ab3f2",
       "version_major": 2,
       "version_minor": 0
      },
      "text/plain": [
       "transforming:   0%|          | 0/7600 [00:00<?, ?it/s]"
      ]
     },
     "metadata": {},
     "output_type": "display_data"
    },
    {
     "name": "stdout",
     "output_type": "stream",
     "text": [
      "The size of training set: (96000, 4000)\n",
      "The size of validation set: (24000, 4000)\n",
      "The size of test set: (7600, 4000)\n"
     ]
    }
   ],
   "source": [
    "# You can change this number to see the difference of the performances. (larger vocab size needs more memory)\n",
    "vocab_size = 4000 \n",
    "num_class = 4\n",
    "\n",
    "extractor = TfIdfExtractor(vocab_size=vocab_size)\n",
    "extractor.fit(text_train)\n",
    "\n",
    "x_train = extractor.transform(text_train)\n",
    "x_valid = extractor.transform(text_valid)\n",
    "x_test = extractor.transform(text_test)\n",
    "\n",
    "\n",
    "# convert label to one-hot vector\n",
    "y_train = np.zeros((label_train.shape[0], num_class))\n",
    "y_train[np.arange(label_train.shape[0]), label_train] = 1\n",
    "\n",
    "y_valid = np.zeros((label_valid.shape[0], num_class))\n",
    "y_valid[np.arange(label_valid.shape[0]), label_valid] = 1\n",
    "\n",
    "y_test = np.zeros((label_test.shape[0], num_class))\n",
    "y_test[np.arange(label_test.shape[0]), label_test] = 1\n",
    "\n",
    "\n",
    "print('The size of training set:', x_train.shape)\n",
    "print('The size of validation set:', x_valid.shape)\n",
    "print('The size of test set:', x_test.shape)"
   ]
  },
  {
   "cell_type": "markdown",
   "metadata": {},
   "source": [
    "### 1.2 MLP (30 points)\n",
    "\n",
    "In this section, you are required to implement a 1-layer MLP from scratch."
   ]
  },
  {
   "cell_type": "markdown",
   "metadata": {},
   "source": [
    "#### 1.2.1 Implement MLP (fill the code: 20 points)\n",
    "\n",
    "> $z_1 = w_1x$\n",
    "\n",
    "> $h_1 = activation(z_1)$\n",
    "\n",
    "> $z_2 = w_2 h_1$\n",
    "\n",
    "> $\\hat{y} = softmax(z_2)$"
   ]
  },
  {
   "cell_type": "code",
   "execution_count": 40,
   "metadata": {},
   "outputs": [],
   "source": [
    "class MLP(object):\n",
    "    \n",
    "    def __init__(self, num_feature, hidden_size, num_class):\n",
    "        ''' Initialize the weight of MLP.\n",
    "            Inputs:\n",
    "                num_feature: scalar, the number of features (in this case, it is the vocab size).\n",
    "                hidden_size: scaler, the number of neurons in the hidden layer.\n",
    "                num_class: scalar, the number of classes.\n",
    "        '''\n",
    "        \n",
    "        ### Start your code\n",
    "        # self.w1 = np.random.rand(hidden_size, num_feature+1)\n",
    "        self.w1 = np.random.rand(hidden_size, num_feature)\n",
    "        # self.w2 = np.random.rand(num_class, hidden_size+1)\n",
    "        self.w2 = np.random.rand(num_class, hidden_size)\n",
    "        ### End\n",
    "        \n",
    "        \n",
    "    def forward(self, x):\n",
    "        ''' Implement the forward pass.\n",
    "            Input:\n",
    "                x: N-d matrix\n",
    "            Outputs\n",
    "                y_hat: the output of the model, N-K matrix.\n",
    "                h1: the output of the first hidden layer.\n",
    "                z1: the output of the first hidden before activation function.\n",
    "                \n",
    "                Note that the reason for return h1 and z1 is for calculating the gradient of self.w1 and self.w2.\n",
    "                Feel free to change it accordingly.\n",
    "        '''\n",
    "        \n",
    "        ### Start your code\n",
    "        # x = np.hstack((np.ones((x.shape[0], 1)), x))\n",
    "        z1 = np.matmul(x, self.w1.T)\n",
    "        h1 = self.activation(z1)\n",
    "\n",
    "        # h1 = np.hstack((np.ones(((h1.shape[0], 1))), h1))\n",
    "        z2 = np.matmul(h1, self.w2.T)\n",
    "        y_hat = self.softmax(z2)\n",
    "        ### End\n",
    "        \n",
    "        return y_hat, (h1, z1)\n",
    "    \n",
    "    \n",
    "    def backward(self, lr, x, y, y_hat, h1, z1):\n",
    "        ''' Implement back-propagation.\n",
    "            Inputs:\n",
    "                lr: learning rate.\n",
    "                x: the input, N-d matrix.\n",
    "                y_hat: the output, N-K matrix.\n",
    "                y: ground truth (N-K one-hot matrix).\n",
    "                h1: the output of the first hidden layer.\n",
    "                z1: the output of the first hidden before activation function.\n",
    "        '''\n",
    "\n",
    "        # Get the gradient of w1 and w2\n",
    "        grad_w1, grad_w2 = self.gradient(x, y, y_hat, h1, z1)\n",
    "        \n",
    "        # Gradient descent\n",
    "        self.w1 -= lr * grad_w1\n",
    "        self.w2 -= lr * grad_w2\n",
    "        \n",
    "    \n",
    "    def objective(self, y, y_hat):\n",
    "        ''' Compute the loss\n",
    "            Inputs:\n",
    "                y: N-K matrix, ground truth.\n",
    "                y_hat: N-K matrix, prediction.\n",
    "            Output:\n",
    "                loss: scalar, the loss of the model.\n",
    "        '''\n",
    "        \n",
    "        loss = 0.\n",
    "        \n",
    "        ### Start your code\n",
    "        loss = -np.mean(np.sum(y * np.log(y_hat),axis=1))\n",
    "        ### End\n",
    "        \n",
    "        return loss\n",
    "    \n",
    "    \n",
    "    def gradient(self, x, y, y_hat, h1, z1):\n",
    "        ''' Compute the gradient of self.w1 and self.w2\n",
    "            Inputs:\n",
    "                x: the input, N-d matrix.\n",
    "                y_hat: the output, N-K matrix.\n",
    "                y: ground truth (N-K one-hot matrix).\n",
    "                h1: the output of the first hidden layer.\n",
    "                z1: the output of the first hidden before activation function.\n",
    "            Outputs:\n",
    "                grad_w1: the gradient of self.w1.\n",
    "                grad_w2: the gradient of self.w2.\n",
    "        '''\n",
    "        n = x.shape[0]\n",
    "        \n",
    "        grad_w1 = 0. # 0 is a placeholder, the actual value should be a matrix\n",
    "        grad_w2 = 0. # 0 is a placeholder, the actual value should be a matrix\n",
    "        \n",
    "        ### Start your code\n",
    "        dz2 = y_hat - y\n",
    "        grad_w2 = (1/n)*np.matmul(dz2.T, h1)\n",
    "\n",
    "        dz1 = np.multiply(np.matmul(dz2, self.w2), (z1>0).astype('int'))\n",
    "        grad_w1 = (1/n)*np.matmul(dz1.T, x)\n",
    "        \n",
    "        ### End\n",
    "        \n",
    "        return grad_w1, grad_w2\n",
    "    \n",
    "    \n",
    "    def activation(self, x):\n",
    "        ''' Implement an activation function, ReLU or Sigmoid.\n",
    "            Please note that for different activation functions, \n",
    "            you have to implement different gradient in function \"backward()\"\n",
    "            \n",
    "            Input:\n",
    "                x: N-d matrix\n",
    "            Output:\n",
    "                x: sigmoid(x) or ReLU(x)\n",
    "        '''\n",
    "        \n",
    "        ### Start your code\n",
    "        x = np.maximum(x,0)\n",
    "        # x = 1 / (1 + np.exp(-x))\n",
    "        ### End\n",
    "        \n",
    "        return x\n",
    "    \n",
    "    \n",
    "    def softmax(self, x):\n",
    "        if len(x.shape) == 1:\n",
    "            x = x - np.max(x)\n",
    "            return np.exp(x) / np.sum(np.exp(x))\n",
    "        else:\n",
    "            x = x - np.max(x, axis=1).reshape(-1, 1)\n",
    "        return np.exp(x) / np.sum(np.exp(x), axis=1).reshape(-1, 1)\n",
    "\n",
    "    \n",
    "    "
   ]
  },
  {
   "cell_type": "markdown",
   "metadata": {},
   "source": [
    "#### Gradient Checking\n",
    "Please run the following cell to do the gradient checking. This block will check your implementation of calculating the gradient of w1 and w2. Make sure you pass this test, otherwise you can not train your model correctly.\n",
    "\n",
    "**Note that** if you don't pass this test case, please check the functions **\"MLP.gradient()\"** and **\"MLP.objective()\"** very carefully."
   ]
  },
  {
   "cell_type": "code",
   "execution_count": 41,
   "metadata": {},
   "outputs": [
    {
     "name": "stdout",
     "output_type": "stream",
     "text": [
      "Gradient check passed!\n"
     ]
    }
   ],
   "source": [
    "###############################################\n",
    "#                                             #\n",
    "#   Checking functions below. DO NOT MODIFY   #\n",
    "#                                             #\n",
    "###############################################\n",
    "def gradient_checking(model, X, y, epsilon):    \n",
    "    y_hat, (h1, z1) = model.forward(X)\n",
    "    grad_w1, grad_w2 = model.gradient(X, y, y_hat, h1, z1)\n",
    "    \n",
    "    it = np.nditer(model.w2, flags=['multi_index'], op_flags=['readwrite'])\n",
    "    while not it.finished:\n",
    "        ix = it.multi_index\n",
    "\n",
    "        model.w2[ix] += epsilon # increment by eps\n",
    "        y_hat, _ = model.forward(X)\n",
    "        l1 = model.objective(y, y_hat)\n",
    "        \n",
    "        model.w2[ix] -= 2 * epsilon # restore to previous value (very important!)\n",
    "        y_hat, _ = model.forward(X)\n",
    "        l2 = model.objective(y, y_hat)\n",
    "        \n",
    "        model.w2[ix] += epsilon\n",
    "        numgrad = (l1 - l2) / 2 / epsilon\n",
    "\n",
    "        # Compare gradients\n",
    "        reldiff = abs(numgrad - grad_w2[ix])\n",
    "        if reldiff > 1e-4:\n",
    "            print(\"Gradient check failed for w2.\")\n",
    "            print(\"First gradient error found at index %s in the vector of gradients\" % str(ix))\n",
    "            print(\"Your gradient: %f \\t Numerical gradient: %f\" % (\n",
    "                grad_w2[ix], numgrad))\n",
    "            return\n",
    "\n",
    "        it.iternext() # Step to next dimension\n",
    "        \n",
    "    it = np.nditer(model.w1, flags=['multi_index'], op_flags=['readwrite'])\n",
    "    while not it.finished:\n",
    "        ix = it.multi_index\n",
    "\n",
    "        model.w1[ix] += epsilon # increment by eps\n",
    "        y_hat, _ = model.forward(X)\n",
    "        l1 = model.objective(y, y_hat)\n",
    "        \n",
    "        model.w1[ix] -= 2 * epsilon # restore to previous value (very important!)\n",
    "        y_hat, _ = model.forward(X)\n",
    "        l2 = model.objective(y, y_hat)\n",
    "        \n",
    "        model.w1[ix] += epsilon\n",
    "        numgrad = (l1 - l2) / 2 / epsilon\n",
    "\n",
    "        # Compare gradients\n",
    "        reldiff = abs(numgrad - grad_w1[ix])\n",
    "        if reldiff > 1e-4:\n",
    "            print(\"Gradient check failed for w1.\")\n",
    "            print(\"First gradient error found at index %s in the vector of gradients\" % str(ix))\n",
    "            print(\"Your gradient: %f \\t Numerical gradient: %f\" % (\n",
    "                grad_w1[ix], numgrad))\n",
    "            return\n",
    "\n",
    "        it.iternext() # Step to next dimension\n",
    "        \n",
    "    print(\"Gradient check passed!\")\n",
    "    \n",
    "epsilon = 1E-4\n",
    "np.random.seed(10)\n",
    "dummy_X = np.random.rand(10, 5)\n",
    "dummy_y = np.eye(3)[np.random.choice(3, 10)]\n",
    "dummy_model = MLP(5, 3, 3)\n",
    "gradient_checking(dummy_model, dummy_X, dummy_y, epsilon)"
   ]
  },
  {
   "cell_type": "markdown",
   "metadata": {},
   "source": [
    "#### 1.2.2 Optimization (Fill the code: 10 points)\n",
    "\n",
    "In this section, you are requried to call the MLP model to implement the Mini-batch GD."
   ]
  },
  {
   "cell_type": "code",
   "execution_count": 44,
   "metadata": {},
   "outputs": [],
   "source": [
    "def optimization(model, X, y, lr, batch_size=None, num_epoch=100):\n",
    "    ''' Implement Mini-batch GD\n",
    "        Inputs:\n",
    "            X: N-d matrix\n",
    "            y: N vector\n",
    "            lr: learning rate\n",
    "            batch_size: optional, depends on if you use Mini-batch GD\n",
    "            num_epoch: the number of epochs\n",
    "        Output:\n",
    "            A list of training losses against epoch\n",
    "            A list of validation losses against epoch\n",
    "    '''\n",
    "    train_losses = []\n",
    "    valid_losses = []\n",
    "    \n",
    "    n, _ = X.shape\n",
    "    \n",
    "    for e in range(num_epoch):\n",
    "        train_loss = 0.\n",
    "        \n",
    "        losses = []\n",
    "        \n",
    "        rand_indices = np.random.permutation(n)\n",
    "        x_rand = X[rand_indices]\n",
    "        y_rand = y[rand_indices]\n",
    "        \n",
    "        for b in tqdm(range(0, n, batch_size), f'Epoch {e+1}/{num_epoch}'):\n",
    "            x_batch = x_rand[b: b+batch_size] \n",
    "            y_batch = y_rand[b: b+batch_size]\n",
    "            \n",
    "            ### Start your code\n",
    "            \n",
    "            ### Step 1, call forward function to get outputs\n",
    "            y_hat, (h1, z1) = model.forward(x_batch)\n",
    "            \n",
    "            ### Step 2, call objective function to get loss\n",
    "            loss = model.objective(y_batch, y_hat)\n",
    "            \n",
    "            ### Step 3, call backward to update the weights\n",
    "            model.backward(lr, x_batch, y_batch, y_hat, h1, z1)\n",
    "            \n",
    "            # End\n",
    "            \n",
    "            losses.append(loss)\n",
    "        \n",
    "        train_loss = np.mean(losses)\n",
    "        \n",
    "        \n",
    "        y_hat, _ = model.forward(x_valid)\n",
    "        valid_loss = model.objective(y_valid, y_hat)\n",
    "        \n",
    "        \n",
    "        train_losses.append(train_loss)\n",
    "        valid_losses.append(valid_loss)\n",
    "        print(f'At epoch {e+1}, training loss: {train_loss:.4f}, validation loss: {valid_loss:.4f}.')\n",
    "            \n",
    "    return train_losses, valid_losses"
   ]
  },
  {
   "cell_type": "markdown",
   "metadata": {},
   "source": [
    "#### Run the following cell to train the model. (Feel free to tune the hpyer-parameters)"
   ]
  },
  {
   "cell_type": "code",
   "execution_count": 45,
   "metadata": {},
   "outputs": [
    {
     "data": {
      "application/vnd.jupyter.widget-view+json": {
       "model_id": "b460db6c293a404997dc0e5b4737f80d",
       "version_major": 2,
       "version_minor": 0
      },
      "text/plain": [
       "Epoch 1/50:   0%|          | 0/3000 [00:01<?, ?it/s]"
      ]
     },
     "metadata": {},
     "output_type": "display_data"
    },
    {
     "name": "stdout",
     "output_type": "stream",
     "text": [
      "At epoch 1, training loss: 1.5987, validation loss: 1.5287.\n"
     ]
    },
    {
     "data": {
      "application/vnd.jupyter.widget-view+json": {
       "model_id": "b21d6900688a4cf99cf09e005c8cb4d4",
       "version_major": 2,
       "version_minor": 0
      },
      "text/plain": [
       "Epoch 2/50:   0%|          | 0/3000 [00:00<?, ?it/s]"
      ]
     },
     "metadata": {},
     "output_type": "display_data"
    },
    {
     "name": "stdout",
     "output_type": "stream",
     "text": [
      "At epoch 2, training loss: 1.4879, validation loss: 1.4550.\n"
     ]
    },
    {
     "data": {
      "application/vnd.jupyter.widget-view+json": {
       "model_id": "9e3fd00d80c946b8aa6bc10a68a1c365",
       "version_major": 2,
       "version_minor": 0
      },
      "text/plain": [
       "Epoch 3/50:   0%|          | 0/3000 [00:00<?, ?it/s]"
      ]
     },
     "metadata": {},
     "output_type": "display_data"
    },
    {
     "name": "stdout",
     "output_type": "stream",
     "text": [
      "At epoch 3, training loss: 1.4201, validation loss: 1.3919.\n"
     ]
    },
    {
     "data": {
      "application/vnd.jupyter.widget-view+json": {
       "model_id": "d3ae46cde682449a939b25f13a816199",
       "version_major": 2,
       "version_minor": 0
      },
      "text/plain": [
       "Epoch 4/50:   0%|          | 0/3000 [00:00<?, ?it/s]"
      ]
     },
     "metadata": {},
     "output_type": "display_data"
    },
    {
     "name": "stdout",
     "output_type": "stream",
     "text": [
      "At epoch 4, training loss: 1.3667, validation loss: 1.3456.\n"
     ]
    },
    {
     "data": {
      "application/vnd.jupyter.widget-view+json": {
       "model_id": "60ba54cb37604f5386647d44f9422cb1",
       "version_major": 2,
       "version_minor": 0
      },
      "text/plain": [
       "Epoch 5/50:   0%|          | 0/3000 [00:00<?, ?it/s]"
      ]
     },
     "metadata": {},
     "output_type": "display_data"
    },
    {
     "name": "stdout",
     "output_type": "stream",
     "text": [
      "At epoch 5, training loss: 1.3237, validation loss: 1.3073.\n"
     ]
    },
    {
     "data": {
      "application/vnd.jupyter.widget-view+json": {
       "model_id": "e9b1af532d6a42c9b33aeab1bb7c0724",
       "version_major": 2,
       "version_minor": 0
      },
      "text/plain": [
       "Epoch 6/50:   0%|          | 0/3000 [00:00<?, ?it/s]"
      ]
     },
     "metadata": {},
     "output_type": "display_data"
    },
    {
     "name": "stdout",
     "output_type": "stream",
     "text": [
      "At epoch 6, training loss: 1.2881, validation loss: 1.2759.\n"
     ]
    },
    {
     "data": {
      "application/vnd.jupyter.widget-view+json": {
       "model_id": "a1f646819fe54b5aa0b018f4b62afb7e",
       "version_major": 2,
       "version_minor": 0
      },
      "text/plain": [
       "Epoch 7/50:   0%|          | 0/3000 [00:00<?, ?it/s]"
      ]
     },
     "metadata": {},
     "output_type": "display_data"
    },
    {
     "name": "stdout",
     "output_type": "stream",
     "text": [
      "At epoch 7, training loss: 1.2577, validation loss: 1.2461.\n"
     ]
    },
    {
     "data": {
      "application/vnd.jupyter.widget-view+json": {
       "model_id": "bd1aaad59e53428aaadf8cad0c104d05",
       "version_major": 2,
       "version_minor": 0
      },
      "text/plain": [
       "Epoch 8/50:   0%|          | 0/3000 [00:00<?, ?it/s]"
      ]
     },
     "metadata": {},
     "output_type": "display_data"
    },
    {
     "name": "stdout",
     "output_type": "stream",
     "text": [
      "At epoch 8, training loss: 1.2316, validation loss: 1.2230.\n"
     ]
    },
    {
     "data": {
      "application/vnd.jupyter.widget-view+json": {
       "model_id": "73b0e0d974bb4e14b7be732994991239",
       "version_major": 2,
       "version_minor": 0
      },
      "text/plain": [
       "Epoch 9/50:   0%|          | 0/3000 [00:00<?, ?it/s]"
      ]
     },
     "metadata": {},
     "output_type": "display_data"
    },
    {
     "name": "stdout",
     "output_type": "stream",
     "text": [
      "At epoch 9, training loss: 1.2080, validation loss: 1.2016.\n"
     ]
    },
    {
     "data": {
      "application/vnd.jupyter.widget-view+json": {
       "model_id": "379518f18574480eb19ec87c8032a43b",
       "version_major": 2,
       "version_minor": 0
      },
      "text/plain": [
       "Epoch 10/50:   0%|          | 0/3000 [00:00<?, ?it/s]"
      ]
     },
     "metadata": {},
     "output_type": "display_data"
    },
    {
     "name": "stdout",
     "output_type": "stream",
     "text": [
      "At epoch 10, training loss: 1.1864, validation loss: 1.1782.\n"
     ]
    },
    {
     "data": {
      "application/vnd.jupyter.widget-view+json": {
       "model_id": "39563580a86c47d087297fd6500a66a1",
       "version_major": 2,
       "version_minor": 0
      },
      "text/plain": [
       "Epoch 11/50:   0%|          | 0/3000 [00:00<?, ?it/s]"
      ]
     },
     "metadata": {},
     "output_type": "display_data"
    },
    {
     "name": "stdout",
     "output_type": "stream",
     "text": [
      "At epoch 11, training loss: 1.1661, validation loss: 1.1611.\n"
     ]
    },
    {
     "data": {
      "application/vnd.jupyter.widget-view+json": {
       "model_id": "271d1ebe36b2468da05ecb81f067a927",
       "version_major": 2,
       "version_minor": 0
      },
      "text/plain": [
       "Epoch 12/50:   0%|          | 0/3000 [00:00<?, ?it/s]"
      ]
     },
     "metadata": {},
     "output_type": "display_data"
    },
    {
     "name": "stdout",
     "output_type": "stream",
     "text": [
      "At epoch 12, training loss: 1.1468, validation loss: 1.1400.\n"
     ]
    },
    {
     "data": {
      "application/vnd.jupyter.widget-view+json": {
       "model_id": "fd804da6460d4e81a33e81ca1955edb4",
       "version_major": 2,
       "version_minor": 0
      },
      "text/plain": [
       "Epoch 13/50:   0%|          | 0/3000 [00:00<?, ?it/s]"
      ]
     },
     "metadata": {},
     "output_type": "display_data"
    },
    {
     "name": "stdout",
     "output_type": "stream",
     "text": [
      "At epoch 13, training loss: 1.1282, validation loss: 1.1212.\n"
     ]
    },
    {
     "data": {
      "application/vnd.jupyter.widget-view+json": {
       "model_id": "6d3242055be049cc9234af289eff45ad",
       "version_major": 2,
       "version_minor": 0
      },
      "text/plain": [
       "Epoch 14/50:   0%|          | 0/3000 [00:00<?, ?it/s]"
      ]
     },
     "metadata": {},
     "output_type": "display_data"
    },
    {
     "name": "stdout",
     "output_type": "stream",
     "text": [
      "At epoch 14, training loss: 1.1099, validation loss: 1.1069.\n"
     ]
    },
    {
     "data": {
      "application/vnd.jupyter.widget-view+json": {
       "model_id": "1e9b2a38b27d43fa8284c722d5ca52b8",
       "version_major": 2,
       "version_minor": 0
      },
      "text/plain": [
       "Epoch 15/50:   0%|          | 0/3000 [00:00<?, ?it/s]"
      ]
     },
     "metadata": {},
     "output_type": "display_data"
    },
    {
     "name": "stdout",
     "output_type": "stream",
     "text": [
      "At epoch 15, training loss: 1.0922, validation loss: 1.0884.\n"
     ]
    },
    {
     "data": {
      "application/vnd.jupyter.widget-view+json": {
       "model_id": "6e380428e4124434966f58d76e388e57",
       "version_major": 2,
       "version_minor": 0
      },
      "text/plain": [
       "Epoch 16/50:   0%|          | 0/3000 [00:00<?, ?it/s]"
      ]
     },
     "metadata": {},
     "output_type": "display_data"
    },
    {
     "name": "stdout",
     "output_type": "stream",
     "text": [
      "At epoch 16, training loss: 1.0751, validation loss: 1.0697.\n"
     ]
    },
    {
     "data": {
      "application/vnd.jupyter.widget-view+json": {
       "model_id": "ca50b2a630714d15bff702d0660745d6",
       "version_major": 2,
       "version_minor": 0
      },
      "text/plain": [
       "Epoch 17/50:   0%|          | 0/3000 [00:00<?, ?it/s]"
      ]
     },
     "metadata": {},
     "output_type": "display_data"
    },
    {
     "name": "stdout",
     "output_type": "stream",
     "text": [
      "At epoch 17, training loss: 1.0579, validation loss: 1.0549.\n"
     ]
    },
    {
     "data": {
      "application/vnd.jupyter.widget-view+json": {
       "model_id": "39e53c358fe9481c8f84fea18bb3038a",
       "version_major": 2,
       "version_minor": 0
      },
      "text/plain": [
       "Epoch 18/50:   0%|          | 0/3000 [00:00<?, ?it/s]"
      ]
     },
     "metadata": {},
     "output_type": "display_data"
    },
    {
     "name": "stdout",
     "output_type": "stream",
     "text": [
      "At epoch 18, training loss: 1.0410, validation loss: 1.0379.\n"
     ]
    },
    {
     "data": {
      "application/vnd.jupyter.widget-view+json": {
       "model_id": "98077534771f413e81681ef77da55873",
       "version_major": 2,
       "version_minor": 0
      },
      "text/plain": [
       "Epoch 19/50:   0%|          | 0/3000 [00:00<?, ?it/s]"
      ]
     },
     "metadata": {},
     "output_type": "display_data"
    },
    {
     "name": "stdout",
     "output_type": "stream",
     "text": [
      "At epoch 19, training loss: 1.0247, validation loss: 1.0208.\n"
     ]
    },
    {
     "data": {
      "application/vnd.jupyter.widget-view+json": {
       "model_id": "2ef5fbc9f3854f3da5cbaaee4293ca9e",
       "version_major": 2,
       "version_minor": 0
      },
      "text/plain": [
       "Epoch 20/50:   0%|          | 0/3000 [00:00<?, ?it/s]"
      ]
     },
     "metadata": {},
     "output_type": "display_data"
    },
    {
     "name": "stdout",
     "output_type": "stream",
     "text": [
      "At epoch 20, training loss: 1.0083, validation loss: 1.0062.\n"
     ]
    },
    {
     "data": {
      "application/vnd.jupyter.widget-view+json": {
       "model_id": "381a59862041465282032248d081efc8",
       "version_major": 2,
       "version_minor": 0
      },
      "text/plain": [
       "Epoch 21/50:   0%|          | 0/3000 [00:00<?, ?it/s]"
      ]
     },
     "metadata": {},
     "output_type": "display_data"
    },
    {
     "name": "stdout",
     "output_type": "stream",
     "text": [
      "At epoch 21, training loss: 0.9925, validation loss: 0.9883.\n"
     ]
    },
    {
     "data": {
      "application/vnd.jupyter.widget-view+json": {
       "model_id": "abe06561ffbe4c9ba31056e59ca3260c",
       "version_major": 2,
       "version_minor": 0
      },
      "text/plain": [
       "Epoch 22/50:   0%|          | 0/3000 [00:00<?, ?it/s]"
      ]
     },
     "metadata": {},
     "output_type": "display_data"
    },
    {
     "name": "stdout",
     "output_type": "stream",
     "text": [
      "At epoch 22, training loss: 0.9769, validation loss: 0.9742.\n"
     ]
    },
    {
     "data": {
      "application/vnd.jupyter.widget-view+json": {
       "model_id": "7b3f1922a0cb448eb95ebd523ae824e0",
       "version_major": 2,
       "version_minor": 0
      },
      "text/plain": [
       "Epoch 23/50:   0%|          | 0/3000 [00:00<?, ?it/s]"
      ]
     },
     "metadata": {},
     "output_type": "display_data"
    },
    {
     "name": "stdout",
     "output_type": "stream",
     "text": [
      "At epoch 23, training loss: 0.9616, validation loss: 0.9578.\n"
     ]
    },
    {
     "data": {
      "application/vnd.jupyter.widget-view+json": {
       "model_id": "29551a1eb15a4facaa3008949c2579a6",
       "version_major": 2,
       "version_minor": 0
      },
      "text/plain": [
       "Epoch 24/50:   0%|          | 0/3000 [00:00<?, ?it/s]"
      ]
     },
     "metadata": {},
     "output_type": "display_data"
    },
    {
     "name": "stdout",
     "output_type": "stream",
     "text": [
      "At epoch 24, training loss: 0.9468, validation loss: 0.9439.\n"
     ]
    },
    {
     "data": {
      "application/vnd.jupyter.widget-view+json": {
       "model_id": "41669239dd1c4168b5c892a6b16f99da",
       "version_major": 2,
       "version_minor": 0
      },
      "text/plain": [
       "Epoch 25/50:   0%|          | 0/3000 [00:00<?, ?it/s]"
      ]
     },
     "metadata": {},
     "output_type": "display_data"
    },
    {
     "name": "stdout",
     "output_type": "stream",
     "text": [
      "At epoch 25, training loss: 0.9323, validation loss: 0.9301.\n"
     ]
    },
    {
     "data": {
      "application/vnd.jupyter.widget-view+json": {
       "model_id": "b9c4e020ff824f50b93b959c3992b102",
       "version_major": 2,
       "version_minor": 0
      },
      "text/plain": [
       "Epoch 26/50:   0%|          | 0/3000 [00:00<?, ?it/s]"
      ]
     },
     "metadata": {},
     "output_type": "display_data"
    },
    {
     "name": "stdout",
     "output_type": "stream",
     "text": [
      "At epoch 26, training loss: 0.9180, validation loss: 0.9157.\n"
     ]
    },
    {
     "data": {
      "application/vnd.jupyter.widget-view+json": {
       "model_id": "0cc5daf5b1c8465481ac600ef930dc9c",
       "version_major": 2,
       "version_minor": 0
      },
      "text/plain": [
       "Epoch 27/50:   0%|          | 0/3000 [00:00<?, ?it/s]"
      ]
     },
     "metadata": {},
     "output_type": "display_data"
    },
    {
     "name": "stdout",
     "output_type": "stream",
     "text": [
      "At epoch 27, training loss: 0.9044, validation loss: 0.9035.\n"
     ]
    },
    {
     "data": {
      "application/vnd.jupyter.widget-view+json": {
       "model_id": "9e2cf34a0d8342919d294d7012896037",
       "version_major": 2,
       "version_minor": 0
      },
      "text/plain": [
       "Epoch 28/50:   0%|          | 0/3000 [00:00<?, ?it/s]"
      ]
     },
     "metadata": {},
     "output_type": "display_data"
    },
    {
     "name": "stdout",
     "output_type": "stream",
     "text": [
      "At epoch 28, training loss: 0.8910, validation loss: 0.8890.\n"
     ]
    },
    {
     "data": {
      "application/vnd.jupyter.widget-view+json": {
       "model_id": "ef8c724d950a40e18b931e80eab925c8",
       "version_major": 2,
       "version_minor": 0
      },
      "text/plain": [
       "Epoch 29/50:   0%|          | 0/3000 [00:00<?, ?it/s]"
      ]
     },
     "metadata": {},
     "output_type": "display_data"
    },
    {
     "name": "stdout",
     "output_type": "stream",
     "text": [
      "At epoch 29, training loss: 0.8781, validation loss: 0.8756.\n"
     ]
    },
    {
     "data": {
      "application/vnd.jupyter.widget-view+json": {
       "model_id": "f98a94215a994978a3f253317c54e54b",
       "version_major": 2,
       "version_minor": 0
      },
      "text/plain": [
       "Epoch 30/50:   0%|          | 0/3000 [00:00<?, ?it/s]"
      ]
     },
     "metadata": {},
     "output_type": "display_data"
    },
    {
     "name": "stdout",
     "output_type": "stream",
     "text": [
      "At epoch 30, training loss: 0.8656, validation loss: 0.8658.\n"
     ]
    },
    {
     "data": {
      "application/vnd.jupyter.widget-view+json": {
       "model_id": "19e8b0dbbb1c4417a81662744558f7d8",
       "version_major": 2,
       "version_minor": 0
      },
      "text/plain": [
       "Epoch 31/50:   0%|          | 0/3000 [00:00<?, ?it/s]"
      ]
     },
     "metadata": {},
     "output_type": "display_data"
    },
    {
     "name": "stdout",
     "output_type": "stream",
     "text": [
      "At epoch 31, training loss: 0.8533, validation loss: 0.8523.\n"
     ]
    },
    {
     "data": {
      "application/vnd.jupyter.widget-view+json": {
       "model_id": "6e09a3be0dc24328a545872068102a08",
       "version_major": 2,
       "version_minor": 0
      },
      "text/plain": [
       "Epoch 32/50:   0%|          | 0/3000 [00:00<?, ?it/s]"
      ]
     },
     "metadata": {},
     "output_type": "display_data"
    },
    {
     "name": "stdout",
     "output_type": "stream",
     "text": [
      "At epoch 32, training loss: 0.8417, validation loss: 0.8399.\n"
     ]
    },
    {
     "data": {
      "application/vnd.jupyter.widget-view+json": {
       "model_id": "2e85fdce125642eebf1ff554df3658eb",
       "version_major": 2,
       "version_minor": 0
      },
      "text/plain": [
       "Epoch 33/50:   0%|          | 0/3000 [00:00<?, ?it/s]"
      ]
     },
     "metadata": {},
     "output_type": "display_data"
    },
    {
     "name": "stdout",
     "output_type": "stream",
     "text": [
      "At epoch 33, training loss: 0.8304, validation loss: 0.8290.\n"
     ]
    },
    {
     "data": {
      "application/vnd.jupyter.widget-view+json": {
       "model_id": "b0c4718a5fbc4e8782da5f1886decac4",
       "version_major": 2,
       "version_minor": 0
      },
      "text/plain": [
       "Epoch 34/50:   0%|          | 0/3000 [00:00<?, ?it/s]"
      ]
     },
     "metadata": {},
     "output_type": "display_data"
    },
    {
     "name": "stdout",
     "output_type": "stream",
     "text": [
      "At epoch 34, training loss: 0.8194, validation loss: 0.8187.\n"
     ]
    },
    {
     "data": {
      "application/vnd.jupyter.widget-view+json": {
       "model_id": "73f94b91e1e941dba73a6f1be3f5273a",
       "version_major": 2,
       "version_minor": 0
      },
      "text/plain": [
       "Epoch 35/50:   0%|          | 0/3000 [00:00<?, ?it/s]"
      ]
     },
     "metadata": {},
     "output_type": "display_data"
    },
    {
     "name": "stdout",
     "output_type": "stream",
     "text": [
      "At epoch 35, training loss: 0.8089, validation loss: 0.8078.\n"
     ]
    },
    {
     "data": {
      "application/vnd.jupyter.widget-view+json": {
       "model_id": "9401b685d155408897b095bdeccbc00d",
       "version_major": 2,
       "version_minor": 0
      },
      "text/plain": [
       "Epoch 36/50:   0%|          | 0/3000 [00:00<?, ?it/s]"
      ]
     },
     "metadata": {},
     "output_type": "display_data"
    },
    {
     "name": "stdout",
     "output_type": "stream",
     "text": [
      "At epoch 36, training loss: 0.7985, validation loss: 0.7987.\n"
     ]
    },
    {
     "data": {
      "application/vnd.jupyter.widget-view+json": {
       "model_id": "813d5939e3864104838e7ccab94e549a",
       "version_major": 2,
       "version_minor": 0
      },
      "text/plain": [
       "Epoch 37/50:   0%|          | 0/3000 [00:00<?, ?it/s]"
      ]
     },
     "metadata": {},
     "output_type": "display_data"
    },
    {
     "name": "stdout",
     "output_type": "stream",
     "text": [
      "At epoch 37, training loss: 0.7887, validation loss: 0.7895.\n"
     ]
    },
    {
     "data": {
      "application/vnd.jupyter.widget-view+json": {
       "model_id": "b13407090ab3494bb09680f224f69607",
       "version_major": 2,
       "version_minor": 0
      },
      "text/plain": [
       "Epoch 38/50:   0%|          | 0/3000 [00:00<?, ?it/s]"
      ]
     },
     "metadata": {},
     "output_type": "display_data"
    },
    {
     "name": "stdout",
     "output_type": "stream",
     "text": [
      "At epoch 38, training loss: 0.7792, validation loss: 0.7791.\n"
     ]
    },
    {
     "data": {
      "application/vnd.jupyter.widget-view+json": {
       "model_id": "a6fa1ef9cf6e4aa09ae3f7ebf3342e3c",
       "version_major": 2,
       "version_minor": 0
      },
      "text/plain": [
       "Epoch 39/50:   0%|          | 0/3000 [00:00<?, ?it/s]"
      ]
     },
     "metadata": {},
     "output_type": "display_data"
    },
    {
     "name": "stdout",
     "output_type": "stream",
     "text": [
      "At epoch 39, training loss: 0.7700, validation loss: 0.7708.\n"
     ]
    },
    {
     "data": {
      "application/vnd.jupyter.widget-view+json": {
       "model_id": "2467196338a24064b3cf93a9a3a82d04",
       "version_major": 2,
       "version_minor": 0
      },
      "text/plain": [
       "Epoch 40/50:   0%|          | 0/3000 [00:00<?, ?it/s]"
      ]
     },
     "metadata": {},
     "output_type": "display_data"
    },
    {
     "name": "stdout",
     "output_type": "stream",
     "text": [
      "At epoch 40, training loss: 0.7611, validation loss: 0.7616.\n"
     ]
    },
    {
     "data": {
      "application/vnd.jupyter.widget-view+json": {
       "model_id": "f2e5e5d53ec54a97a87be2dfde22644e",
       "version_major": 2,
       "version_minor": 0
      },
      "text/plain": [
       "Epoch 41/50:   0%|          | 0/3000 [00:00<?, ?it/s]"
      ]
     },
     "metadata": {},
     "output_type": "display_data"
    },
    {
     "name": "stdout",
     "output_type": "stream",
     "text": [
      "At epoch 41, training loss: 0.7524, validation loss: 0.7532.\n"
     ]
    },
    {
     "data": {
      "application/vnd.jupyter.widget-view+json": {
       "model_id": "834e5e08f32941cbb499cbf1c6d125e9",
       "version_major": 2,
       "version_minor": 0
      },
      "text/plain": [
       "Epoch 42/50:   0%|          | 0/3000 [00:00<?, ?it/s]"
      ]
     },
     "metadata": {},
     "output_type": "display_data"
    },
    {
     "name": "stdout",
     "output_type": "stream",
     "text": [
      "At epoch 42, training loss: 0.7443, validation loss: 0.7450.\n"
     ]
    },
    {
     "data": {
      "application/vnd.jupyter.widget-view+json": {
       "model_id": "70a56321dcb44b6a9f4d874c615be28e",
       "version_major": 2,
       "version_minor": 0
      },
      "text/plain": [
       "Epoch 43/50:   0%|          | 0/3000 [00:00<?, ?it/s]"
      ]
     },
     "metadata": {},
     "output_type": "display_data"
    },
    {
     "name": "stdout",
     "output_type": "stream",
     "text": [
      "At epoch 43, training loss: 0.7363, validation loss: 0.7374.\n"
     ]
    },
    {
     "data": {
      "application/vnd.jupyter.widget-view+json": {
       "model_id": "1e83cf79b02e4d349d9102d5cd9dff05",
       "version_major": 2,
       "version_minor": 0
      },
      "text/plain": [
       "Epoch 44/50:   0%|          | 0/3000 [00:00<?, ?it/s]"
      ]
     },
     "metadata": {},
     "output_type": "display_data"
    },
    {
     "name": "stdout",
     "output_type": "stream",
     "text": [
      "At epoch 44, training loss: 0.7288, validation loss: 0.7306.\n"
     ]
    },
    {
     "data": {
      "application/vnd.jupyter.widget-view+json": {
       "model_id": "a8fee81e86e444faac049ecc09806d54",
       "version_major": 2,
       "version_minor": 0
      },
      "text/plain": [
       "Epoch 45/50:   0%|          | 0/3000 [00:00<?, ?it/s]"
      ]
     },
     "metadata": {},
     "output_type": "display_data"
    },
    {
     "name": "stdout",
     "output_type": "stream",
     "text": [
      "At epoch 45, training loss: 0.7213, validation loss: 0.7225.\n"
     ]
    },
    {
     "data": {
      "application/vnd.jupyter.widget-view+json": {
       "model_id": "4a399ebd60d448cb96198b54d9b5ae28",
       "version_major": 2,
       "version_minor": 0
      },
      "text/plain": [
       "Epoch 46/50:   0%|          | 0/3000 [00:00<?, ?it/s]"
      ]
     },
     "metadata": {},
     "output_type": "display_data"
    },
    {
     "name": "stdout",
     "output_type": "stream",
     "text": [
      "At epoch 46, training loss: 0.7140, validation loss: 0.7166.\n"
     ]
    },
    {
     "data": {
      "application/vnd.jupyter.widget-view+json": {
       "model_id": "75a5923e761d46e1b7cfb7f8d3b7b74a",
       "version_major": 2,
       "version_minor": 0
      },
      "text/plain": [
       "Epoch 47/50:   0%|          | 0/3000 [00:00<?, ?it/s]"
      ]
     },
     "metadata": {},
     "output_type": "display_data"
    },
    {
     "name": "stdout",
     "output_type": "stream",
     "text": [
      "At epoch 47, training loss: 0.7071, validation loss: 0.7099.\n"
     ]
    },
    {
     "data": {
      "application/vnd.jupyter.widget-view+json": {
       "model_id": "0ca9ac74a61d422e907b833fbde0f77a",
       "version_major": 2,
       "version_minor": 0
      },
      "text/plain": [
       "Epoch 48/50:   0%|          | 0/3000 [00:00<?, ?it/s]"
      ]
     },
     "metadata": {},
     "output_type": "display_data"
    },
    {
     "name": "stdout",
     "output_type": "stream",
     "text": [
      "At epoch 48, training loss: 0.7004, validation loss: 0.7035.\n"
     ]
    },
    {
     "data": {
      "application/vnd.jupyter.widget-view+json": {
       "model_id": "5a755b6c29d5426d80f77e149e1670d6",
       "version_major": 2,
       "version_minor": 0
      },
      "text/plain": [
       "Epoch 49/50:   0%|          | 0/3000 [00:00<?, ?it/s]"
      ]
     },
     "metadata": {},
     "output_type": "display_data"
    },
    {
     "name": "stdout",
     "output_type": "stream",
     "text": [
      "At epoch 49, training loss: 0.6939, validation loss: 0.6989.\n"
     ]
    },
    {
     "data": {
      "application/vnd.jupyter.widget-view+json": {
       "model_id": "d3d4684ef9d24b8cb552103c90b01d1e",
       "version_major": 2,
       "version_minor": 0
      },
      "text/plain": [
       "Epoch 50/50:   0%|          | 0/3000 [00:00<?, ?it/s]"
      ]
     },
     "metadata": {},
     "output_type": "display_data"
    },
    {
     "name": "stdout",
     "output_type": "stream",
     "text": [
      "At epoch 50, training loss: 0.6877, validation loss: 0.6913.\n"
     ]
    }
   ],
   "source": [
    "num_epoch = 50\n",
    "lr = 0.001\n",
    "batch_size = 32\n",
    "hidden_size = 50\n",
    "\n",
    "model = MLP(vocab_size, hidden_size, num_class)\n",
    "train_losses, valid_losses = optimization(model, x_train, y_train, lr, batch_size=batch_size, num_epoch=num_epoch)"
   ]
  },
  {
   "cell_type": "markdown",
   "metadata": {},
   "source": [
    "#### 1.2.3 Evaluation"
   ]
  },
  {
   "cell_type": "markdown",
   "metadata": {},
   "source": [
    "#### Run the following cell to evaluate the performance of your model"
   ]
  },
  {
   "cell_type": "code",
   "execution_count": 46,
   "metadata": {},
   "outputs": [
    {
     "name": "stdout",
     "output_type": "stream",
     "text": [
      "(7600,)\n",
      "MLP\n",
      "\n",
      "  Precision:\n",
      "    class 0: 0.7560, class 1: 0.7869, class 2: 0.6902, class 3: 0.7305\n",
      "\n",
      "  Recall:\n",
      "    class 0: 0.7747, class 1: 0.8495, class 2: 0.7316, class 3: 0.6105\n"
     ]
    }
   ],
   "source": [
    "from sklearn.metrics import precision_score, recall_score\n",
    "\n",
    "y_hat, _ = model.forward(x_test)\n",
    "y_hat = np.argmax(y_hat, axis=1)\n",
    "y_true = np.argmax(y_test, axis=1)\n",
    "\n",
    "print(y_true.shape)\n",
    "precision = precision_score(y_true, y_hat, average=None)\n",
    "recall = recall_score(y_true, y_hat, average=None)\n",
    "\n",
    "print('MLP')\n",
    "print()\n",
    "print('  Precision:')\n",
    "print(f'    class {0}: {precision[0]:.4f}, class {1}: {precision[1]:.4f}, class {2}: {precision[2]:.4f}, class {3}: {precision[3]:.4f}')\n",
    "print()\n",
    "print('  Recall:')\n",
    "print(f'    class {0}: {recall[0]:.4f}, class {1}: {recall[1]:.4f}, class {2}: {recall[2]:.4f}, class {3}: {recall[3]:.4f}')"
   ]
  },
  {
   "cell_type": "markdown",
   "metadata": {},
   "source": [
    "#### Run the following cell to plot the training loss and validation loss against epoch"
   ]
  },
  {
   "cell_type": "code",
   "execution_count": 47,
   "metadata": {},
   "outputs": [
    {
     "data": {
      "image/png": "[encoded data removed]",
      "text/plain": [
       "<Figure size 432x288 with 1 Axes>"
      ]
     },
     "metadata": {
      "needs_background": "light"
     },
     "output_type": "display_data"
    }
   ],
   "source": [
    "import matplotlib.pyplot as plt\n",
    "\n",
    "%matplotlib inline\n",
    "\n",
    "\n",
    "plt.plot(range(num_epoch), train_losses, valid_losses)\n",
    "plt.xlabel('Epoch')\n",
    "plt.ylabel('Loss')\n",
    "plt.legend([\"Training loss\", \"Validation loss\"])\n",
    "plt.title('SGD')\n",
    "plt.show()"
   ]
  },
  {
   "cell_type": "markdown",
   "metadata": {},
   "source": [
    "## 2. Word Vector (70 points)"
   ]
  },
  {
   "cell_type": "markdown",
   "metadata": {},
   "source": [
    "In this section, you are required to implement a Word2Vec model."
   ]
  },
  {
   "cell_type": "markdown",
   "metadata": {},
   "source": [
    "### 2.1 Written Questions (25 points, each question is 5 points. )\n",
    "\n",
    "\n",
    "To better understand the insight of Word2Vec, Please answer the following questions. (You can either answer those questions in this notebook, or submit a pdf with your answers.)\n",
    "\n",
    "1. Derive the gradients of the sigmoid function and show that it can be rewritten as a function of the function value (i.e., in some expressions where only $\\sigma(x)$, but not $x$, is present). Assume that the input $x$ is a scalar for this question. Recall, the sigmoid function is:\n",
    "\n",
    "$$\\sigma(x) = \\frac{1}{1+e^{-x}}$$\n",
    "\n",
    "\n",
    "2. Assume you are given a predicted word vector $\\mathbf{v}_c$ corresponding to the center word $c$ for skipgram, and the word prediction is made with the **softmax** function，\n",
    "\n",
    "<center>$\\hat{y}_o = p(o|c) = \\frac{\\exp(\\mathbf{u}_o^\\top \\mathbf{v}_c)}{\\sum_{w=1}^W \\exp(\\mathbf{u}_w^\\top\\mathbf{v}_c)}$</center>\n",
    "\n",
    "> where $o$ is the expected word, $w$ denotes the $w$-th word and $\\mathbf{u}_w$ (w = 1, ..., W) are the “output” word vectors for all words in the vocabulary.\n",
    "The cross entropy function is defined as:\n",
    "\n",
    "<center>$J_\\text{CE}(o,\\mathbf{v}_c, U) =CE(\\mathbf{y}, \\hat{\\mathbf{y}})= -\\sum_i y_i \\log(\\hat{y}_i)$</center>\n",
    "\n",
    "> where the gold vector $\\mathbf{y}$ is a one-hot vector, the softmax prediction vector $\\hat{\\mathbf{y}}$ is a\n",
    "probability distribution over the output space, and $U= [u_1, u_2, ..., u_W]$ is the matrix of all the output vectors. \n",
    "Assume cross entropy cost is applied to this prediction, derive the gradients with respect to $\\mathbf{v}_c$.\n",
    "\n",
    "3. Derive gradients for the \"output\" word vector $\\mathbf{u}_w$ (including $\\mathbf{u}_o$) in the previous part.\n",
    "\n",
    "\n",
    "4. Repeat (2) and (3) assuming we are using the negative sampling loss for the predicted vector $\\mathbf{v}_c$. Assume that K negative samples (words) are drawn and they are 1,...,K respectively. For simplicity of notation, assume ($o\\notin \\{1,...,K\\}$). Again for a given word $o$, use $\\mathbf{u}_o$ to denote its output vector. The negative sampling loss function in this case is:\n",
    "$$J_\\text{neg-sample}(o,\\mathbf{v}_c, U) =-\\log(\\sigma(\\mathbf{u}_o^\\top \\mathbf{v}_c)) -\\sum_{k=1}^K \\log(\\sigma(-\\mathbf{u}_k^\\top \\mathbf{v}_c))$$\n",
    "\n",
    "5. Derive gradients for all of the word vectors for skip-gram given the previous parts and given a set of context words $[\\text{word}_{c-m}, . . . , \\text{word}_c, . . . , \\text{word}_{c+m}]$ where $m$ is the\n",
    "context size. Denote the \"input\" and \"output\" word vectors for word $k$ as $\\mathbf{v}_k$ and $\\mathbf{u}_k$ respectively.\n",
    "\n",
    "> _Hint: feel free to use $F(o, \\mathbf{v}_c)$ (where $o$ is the expected word) as a placeholder for the $J_\\text{CE}(o,\\mathbf{v}_c ...)$ or $J_\\text{neg-sample}(o,\\mathbf{v}_c...)$ cost functions in this part -- you’ll see that this is a useful abstraction for the coding part. That is, your solution may contain terms of the form $\\frac{\\partial F(o, \\mathbf{v}_c)}{\\partial ...}$ Recall that for skip-gram, the cost for a context centered around c is:\n",
    "$$\\sum_{-m \\leq j\\leq m, j\\neq0} F(w_{c+j}, \\mathbf{v}_c)$$_"
   ]
  },
  {
   "cell_type": "markdown",
   "metadata": {},
   "source": [
    "### 2.2 Coding (45 points)"
   ]
  },
  {
   "cell_type": "markdown",
   "metadata": {},
   "source": [
    "#### 2.2.1 Sigmoid Function (Fill the code: 5 points)"
   ]
  },
  {
   "cell_type": "code",
   "execution_count": 70,
   "metadata": {},
   "outputs": [],
   "source": [
    "def sigmoid(x):\n",
    "    ''' Compute the sigmoid function.\n",
    "        Inputs:\n",
    "            x: A scalar or numpy array\n",
    "        Outputs:\n",
    "            s: sigmoid(x)\n",
    "    '''\n",
    "    s = 0.\n",
    "    \n",
    "    ### Start your code\n",
    "    s = 1 / (1 + np.exp(-x))\n",
    "    ### End\n",
    "    \n",
    "    return s\n",
    "\n",
    "\n",
    "def softmax(x):\n",
    "    ''' Compute the softmax function for each row of the input x. \n",
    "        It is crucial that this function is optimized for speed \n",
    "        because it will be used frequently in later code. \n",
    "\n",
    "        Inputs:\n",
    "        x: A D dimensional vector or N x D dimensional numpy matrix.\n",
    "        Outputs:\n",
    "        x: You are allowed to modify x in-place\n",
    "    '''\n",
    "    if len(x.shape) == 1:\n",
    "        x = x - np.max(x)\n",
    "        return np.exp(x) / np.sum(np.exp(x))\n",
    "    else:\n",
    "        x = x - np.max(x, axis=1).reshape(-1, 1)\n",
    "    return np.exp(x) / np.sum(np.exp(x), axis=1).reshape(-1, 1)\n",
    "    "
   ]
  },
  {
   "cell_type": "markdown",
   "metadata": {},
   "source": [
    "#### 2.2.2 Word2Vec models with Stochastic gradient descent (SGD)"
   ]
  },
  {
   "cell_type": "markdown",
   "metadata": {},
   "source": [
    "#### Naive Softmax loss & gradient function for word2vec models (fill the code: 10 points)"
   ]
  },
  {
   "cell_type": "code",
   "execution_count": 71,
   "metadata": {},
   "outputs": [],
   "source": [
    "def naiveSoftmaxLossAndGradient(centerWordVec, outsideWordIdx, outsideVectors, dataset):\n",
    "    ''' Implement tha naive softmax loss and gradients between a center word's embedding \n",
    "        and an outside word's embedding. This will be the building block for our word2vec\n",
    "        models.\n",
    "        \n",
    "        Inputs:\n",
    "            centerWordVec: numpy ndarray, center word's embedding (v_c in question 2.1.1).\n",
    "            outsideWordIdx: integer, the index of the outside word (o of u_o in question 2.1.1).\n",
    "            outsideVectors: outside vectors (rows of matrix) for all words in vocab (U in question 2.1.1).\n",
    "            dataset: for negative sampling, ignore this argument in this function.\n",
    "        \n",
    "        Outputs:\n",
    "            loss: naive softmax loss\n",
    "            gradCenterVec: the gradient with respect to the center word vector (dJ/dv_c in question 2.1.1).\n",
    "            gradOutsideVecs: the gradient with respect to all the outside word vectors (dJ / dU).\n",
    "    '''\n",
    "    \n",
    "    ### Start your code (Please use the provided softmax function)\n",
    "    y_hat = softmax(outsideVectors@centerWordVec)\n",
    "    loss = -np.log(y_hat[outsideWordIdx])\n",
    "    y_hat[outsideWordIdx] -= 1.0\n",
    "    gradCenterVec = outsideVectors.T@y_hat\n",
    "    gradOutsideVecs = np.outer(y_hat,centerWordVec)\n",
    "    ### End\n",
    "    \n",
    "    return loss, gradCenterVec, gradOutsideVecs"
   ]
  },
  {
   "cell_type": "markdown",
   "metadata": {},
   "source": [
    "#### Negative sampling loss function for word2vec models (Fill the code: 10 points)"
   ]
  },
  {
   "cell_type": "code",
   "execution_count": 72,
   "metadata": {},
   "outputs": [],
   "source": [
    "def getNegativeSamples(outsideWordIdx, dataset, K):\n",
    "    \"\"\" Samples K indexes which are not the outsideWordIdx \"\"\"\n",
    "\n",
    "    negSampleWordIndices = [None] * K\n",
    "    for k in range(K):\n",
    "        newidx = dataset.sampleTokenIdx()\n",
    "        while newidx == outsideWordIdx:\n",
    "            newidx = dataset.sampleTokenIdx()\n",
    "        negSampleWordIndices[k] = newidx\n",
    "    return negSampleWordIndices\n",
    "\n",
    "def negSamplingLossAndGradient(centerWordVec, outsideWordIdx, outsideVectors, dataset, K=10):\n",
    "    ''' Implement the negative sampling loss and gradients for a centerWordVec\n",
    "        and a outsideWordIdx word vector as a building block for word2vec\n",
    "        models. K is the number of negative samples to take.\n",
    "\n",
    "        Note: The same word may be negatively sampled multiple times. For\n",
    "        example if an outside word is sampled twice, you shall have to\n",
    "        double count the gradient with respect to this word. Thrice if\n",
    "        it was sampled three times, and so forth.\n",
    "\n",
    "        Inputs/Outpus Specifications: same as naiveSoftmaxLossAndGradient\n",
    "    '''\n",
    "    \n",
    "    negSampleWordIndices = getNegativeSamples(outsideWordIdx, dataset, K)\n",
    "    indices = [outsideWordIdx] + negSampleWordIndices\n",
    "    \n",
    "    ### Start your code (Please use your implementation of sigmoid)\n",
    "    gradCenterVec, gradOutsideVecs = np.zeros(centerWordVec.shape),np.zeros(outsideVectors.shape)\n",
    "    \n",
    "    y_hat = sigmoid(np.dot(outsideVectors[outsideWordIdx],centerWordVec))\n",
    "    loss = -np.log(y_hat)\n",
    "    gradCenterVec += outsideVectors[outsideWordIdx] * (y_hat - 1.0)\n",
    "    gradOutsideVecs[outsideWordIdx] = centerWordVec * (y_hat - 1.0)\n",
    "    \n",
    "    for i in range(K):\n",
    "        y_hat = sigmoid(-np.dot(outsideVectors[indices[i+1]],centerWordVec))\n",
    "        loss -= np.log(y_hat)\n",
    "        gradCenterVec += outsideVectors[indices[i+1]] * (1.0 - y_hat)\n",
    "        gradOutsideVecs[indices[i+1]] += centerWordVec * (1.0 - y_hat)\n",
    "\n",
    "    \n",
    "    ### End\n",
    "    \n",
    "    return loss, gradCenterVec, gradOutsideVecs\n"
   ]
  },
  {
   "cell_type": "markdown",
   "metadata": {},
   "source": [
    "#### Skip-gram model in word2vec (Fill the code, 10 points)"
   ]
  },
  {
   "cell_type": "code",
   "execution_count": 73,
   "metadata": {},
   "outputs": [],
   "source": [
    "def skipgram(currentCenterWord, windowSize, outsideWords, word2Ind,\n",
    "             centerWordVectors, outsideVectors, dataset,\n",
    "             word2vecLossAndGradient=naiveSoftmaxLossAndGradient):\n",
    "    ''' Implement the skip-gram model in this function.\n",
    "    \n",
    "        Inputs:\n",
    "            currentCenterWord: a string of the current center word\n",
    "            windowSize: integer, context window size\n",
    "            outsideWords: list of no more than 2*windowSize strings, the outside words\n",
    "            word2Ind: a dictionary that maps words to their indices in\n",
    "                      the word vector list\n",
    "            centerWordVectors: center word vectors (as rows) for all words in vocab\n",
    "                                (V in pdf handout)\n",
    "            outsideVectors: outside word vectors (as rows) for all words in vocab\n",
    "                            (U in pdf handout)\n",
    "            word2vecLossAndGradient: the loss and gradient function for\n",
    "                                       a prediction vector given the outsideWordIdx\n",
    "                                       word vectors, could be one of the two\n",
    "                                       loss functions you implemented above.\n",
    "\n",
    "        Outputs:\n",
    "            loss: the loss function value for the skip-gram model\n",
    "                    (J in the pdf handout)\n",
    "            gradCenterVecs: the gradient with respect to the center word vectors\n",
    "                    (dJ / dV in the pdf handout)\n",
    "            gradOutsideVectors: the gradient with respect to the outside word vectors\n",
    "                                (dJ / dU in the pdf handout)\n",
    "    '''\n",
    "    \n",
    "    loss = 0.0\n",
    "    gradCenterVecs = np.zeros(centerWordVectors.shape)\n",
    "    gradOutsideVectors = np.zeros(outsideVectors.shape)\n",
    "\n",
    "    # Start your code\n",
    "    i = word2Ind[currentCenterWord]\n",
    "    centerWordVec = centerWordVectors[i]\n",
    "    \n",
    "    for ow in outsideWords:\n",
    "        j = word2Ind[ow]\n",
    "        ls, cnt_grad, out_grad = word2vecLossAndGradient(centerWordVec, j, outsideVectors, dataset)\n",
    "        loss += ls\n",
    "        gradCenterVecs[i] += cnt_grad\n",
    "        gradOutsideVectors += out_grad\n",
    "    # End\n",
    "\n",
    "    return loss, gradCenterVecs, gradOutsideVectors\n",
    "\n",
    "\n",
    "\n",
    "def normalizeRows(x):\n",
    "    \"\"\" Row normalization function\n",
    "\n",
    "    Implement a function that normalizes each row of a matrix to have\n",
    "    unit length.\n",
    "    \"\"\"\n",
    "    N = x.shape[0]\n",
    "    x /= np.sqrt(np.sum(x**2, axis=1)).reshape((N, 1)) + 1e-30\n",
    "    return x\n",
    "\n",
    "\n",
    "def word2vec_sgd_wrapper(word2vecModel, word2Ind, wordVectors, dataset,\n",
    "                         windowSize,\n",
    "                         word2vecLossAndGradient=naiveSoftmaxLossAndGradient):\n",
    "    batchsize = 50\n",
    "    loss = 0.0\n",
    "    grad = np.zeros(wordVectors.shape)\n",
    "    N = wordVectors.shape[0]\n",
    "    centerWordVectors = wordVectors[:int(N/2), :]\n",
    "    outsideVectors = wordVectors[int(N/2):, :]\n",
    "    for i in range(batchsize):\n",
    "        windowSize1 = random.randint(1, windowSize)\n",
    "        centerWord, context = dataset.getRandomContext(windowSize1)\n",
    "\n",
    "        c, gin, gout = word2vecModel(\n",
    "            centerWord, windowSize1, context, word2Ind, centerWordVectors,\n",
    "            outsideVectors, dataset, word2vecLossAndGradient\n",
    "        )\n",
    "        loss += c / batchsize\n",
    "        grad[:int(N/2), :] += gin / batchsize\n",
    "        grad[int(N/2):, :] += gout / batchsize\n",
    "\n",
    "    return loss, grad"
   ]
  },
  {
   "cell_type": "markdown",
   "metadata": {},
   "source": [
    "#### Run the following cell to test your implementations"
   ]
  },
  {
   "cell_type": "code",
   "execution_count": 74,
   "metadata": {},
   "outputs": [
    {
     "name": "stdout",
     "output_type": "stream",
     "text": [
      "==== Gradient check for skip-gram with naiveSoftmaxLossAndGradient ====\n",
      "Gradient check passed!\n",
      "==== Gradient check for skip-gram with negSamplingLossAndGradient ====\n",
      "Gradient check passed!\n",
      "\n",
      "=== Results ===\n",
      "Skip-Gram with naiveSoftmaxLossAndGradient\n",
      "Your Result:\n",
      "Loss: 11.16610900153398\n",
      "Gradient wrt Center Vectors (dJ/dV):\n",
      " [[ 0.          0.          0.        ]\n",
      " [ 0.          0.          0.        ]\n",
      " [-1.26947339 -1.36873189  2.45158957]\n",
      " [ 0.          0.          0.        ]\n",
      " [ 0.          0.          0.        ]]\n",
      "Gradient wrt Outside Vectors (dJ/dU):\n",
      " [[-0.41045956  0.18834851  1.43272264]\n",
      " [ 0.38202831 -0.17530219 -1.33348241]\n",
      " [ 0.07009355 -0.03216399 -0.24466386]\n",
      " [ 0.09472154 -0.04346509 -0.33062865]\n",
      " [-0.13638384  0.06258276  0.47605228]]\n",
      "\n",
      "Expected Result: Value should approximate these:\n",
      "Loss: 11.16610900153398\n",
      "Gradient wrt Center Vectors (dJ/dV):\n",
      " [[ 0.          0.          0.        ]\n",
      " [ 0.          0.          0.        ]\n",
      " [-1.26947339 -1.36873189  2.45158957]\n",
      " [ 0.          0.          0.        ]\n",
      " [ 0.          0.          0.        ]]\n",
      "Gradient wrt Outside Vectors (dJ/dU):\n",
      " [[-0.41045956  0.18834851  1.43272264]\n",
      " [ 0.38202831 -0.17530219 -1.33348241]\n",
      " [ 0.07009355 -0.03216399 -0.24466386]\n",
      " [ 0.09472154 -0.04346509 -0.33062865]\n",
      " [-0.13638384  0.06258276  0.47605228]]\n",
      "    \n",
      "Skip-Gram with negSamplingLossAndGradient\n",
      "Your Result:\n",
      "Loss: 16.15119285363322\n",
      "Gradient wrt Center Vectors (dJ/dV):\n",
      " [[ 0.          0.          0.        ]\n",
      " [ 0.          0.          0.        ]\n",
      " [-4.54650789 -1.85942252  0.76397441]\n",
      " [ 0.          0.          0.        ]\n",
      " [ 0.          0.          0.        ]]\n",
      " Gradient wrt Outside Vectors (dJ/dU):\n",
      " [[-0.69148188  0.31730185  2.41364029]\n",
      " [-0.22716495  0.10423969  0.79292674]\n",
      " [-0.45528438  0.20891737  1.58918512]\n",
      " [-0.31602611  0.14501561  1.10309954]\n",
      " [-0.80620296  0.36994417  2.81407799]]\n",
      "\n",
      "Expected Result: Value should approximate these:\n",
      "Loss: 16.15119285363322\n",
      "Gradient wrt Center Vectors (dJ/dV):\n",
      " [[ 0.          0.          0.        ]\n",
      " [ 0.          0.          0.        ]\n",
      " [-4.54650789 -1.85942252  0.76397441]\n",
      " [ 0.          0.          0.        ]\n",
      " [ 0.          0.          0.        ]]\n",
      " Gradient wrt Outside Vectors (dJ/dU):\n",
      " [[-0.69148188  0.31730185  2.41364029]\n",
      " [-0.22716495  0.10423969  0.79292674]\n",
      " [-0.45528438  0.20891737  1.58918512]\n",
      " [-0.31602611  0.14501561  1.10309954]\n",
      " [-0.80620296  0.36994417  2.81407799]]\n",
      "    \n"
     ]
    }
   ],
   "source": [
    "#############################################\n",
    "# Testing functions below. DO NOT MODIFY!   #\n",
    "############################################\n",
    "\n",
    "import random\n",
    "import numpy as np\n",
    "\n",
    "from utils.gradcheck import gradcheck_naive\n",
    "\n",
    "\n",
    "def test_word2vec():\n",
    "    \"\"\" Test the two word2vec implementations, before running on Stanford Sentiment Treebank \"\"\"\n",
    "    dataset = type('dummy', (), {})()\n",
    "\n",
    "    def dummySampleTokenIdx():\n",
    "        return random.randint(0, 4)\n",
    "\n",
    "    def getRandomContext(C):\n",
    "        tokens = [\"a\", \"b\", \"c\", \"d\", \"e\"]\n",
    "        return tokens[random.randint(0, 4)], \\\n",
    "            [tokens[random.randint(0, 4)] for i in range(2*C)]\n",
    "    dataset.sampleTokenIdx = dummySampleTokenIdx\n",
    "    dataset.getRandomContext = getRandomContext\n",
    "\n",
    "    random.seed(31415)\n",
    "    np.random.seed(9265)\n",
    "    dummy_vectors = normalizeRows(np.random.randn(10, 3))\n",
    "    dummy_tokens = dict([(\"a\", 0), (\"b\", 1), (\"c\", 2), (\"d\", 3), (\"e\", 4)])\n",
    "\n",
    "    print(\"==== Gradient check for skip-gram with naiveSoftmaxLossAndGradient ====\")\n",
    "    gradcheck_naive(lambda vec: word2vec_sgd_wrapper(\n",
    "        skipgram, dummy_tokens, vec, dataset, 5, naiveSoftmaxLossAndGradient),\n",
    "        dummy_vectors, \"naiveSoftmaxLossAndGradient Gradient\")\n",
    "\n",
    "    print(\"==== Gradient check for skip-gram with negSamplingLossAndGradient ====\")\n",
    "    gradcheck_naive(lambda vec: word2vec_sgd_wrapper(\n",
    "        skipgram, dummy_tokens, vec, dataset, 5, negSamplingLossAndGradient),\n",
    "        dummy_vectors, \"negSamplingLossAndGradient Gradient\")\n",
    "\n",
    "    print(\"\\n=== Results ===\")\n",
    "    print(\"Skip-Gram with naiveSoftmaxLossAndGradient\")\n",
    "\n",
    "    print(\"Your Result:\")\n",
    "    print(\"Loss: {}\\nGradient wrt Center Vectors (dJ/dV):\\n {}\\nGradient wrt Outside Vectors (dJ/dU):\\n {}\\n\".format(\n",
    "        *skipgram(\"c\", 3, [\"a\", \"b\", \"e\", \"d\", \"b\", \"c\"],\n",
    "                  dummy_tokens, dummy_vectors[:5, :], dummy_vectors[5:, :], dataset)\n",
    "    )\n",
    "    )\n",
    "\n",
    "    print(\"Expected Result: Value should approximate these:\")\n",
    "    print(\"\"\"Loss: 11.16610900153398\n",
    "Gradient wrt Center Vectors (dJ/dV):\n",
    " [[ 0.          0.          0.        ]\n",
    " [ 0.          0.          0.        ]\n",
    " [-1.26947339 -1.36873189  2.45158957]\n",
    " [ 0.          0.          0.        ]\n",
    " [ 0.          0.          0.        ]]\n",
    "Gradient wrt Outside Vectors (dJ/dU):\n",
    " [[-0.41045956  0.18834851  1.43272264]\n",
    " [ 0.38202831 -0.17530219 -1.33348241]\n",
    " [ 0.07009355 -0.03216399 -0.24466386]\n",
    " [ 0.09472154 -0.04346509 -0.33062865]\n",
    " [-0.13638384  0.06258276  0.47605228]]\n",
    "    \"\"\")\n",
    "\n",
    "    print(\"Skip-Gram with negSamplingLossAndGradient\")\n",
    "    print(\"Your Result:\")\n",
    "    print(\"Loss: {}\\nGradient wrt Center Vectors (dJ/dV):\\n {}\\n Gradient wrt Outside Vectors (dJ/dU):\\n {}\\n\".format(\n",
    "        *skipgram(\"c\", 1, [\"a\", \"b\"], dummy_tokens, dummy_vectors[:5, :],\n",
    "                  dummy_vectors[5:, :], dataset, negSamplingLossAndGradient)\n",
    "    )\n",
    "    )\n",
    "    print(\"Expected Result: Value should approximate these:\")\n",
    "    print(\"\"\"Loss: 16.15119285363322\n",
    "Gradient wrt Center Vectors (dJ/dV):\n",
    " [[ 0.          0.          0.        ]\n",
    " [ 0.          0.          0.        ]\n",
    " [-4.54650789 -1.85942252  0.76397441]\n",
    " [ 0.          0.          0.        ]\n",
    " [ 0.          0.          0.        ]]\n",
    " Gradient wrt Outside Vectors (dJ/dU):\n",
    " [[-0.69148188  0.31730185  2.41364029]\n",
    " [-0.22716495  0.10423969  0.79292674]\n",
    " [-0.45528438  0.20891737  1.58918512]\n",
    " [-0.31602611  0.14501561  1.10309954]\n",
    " [-0.80620296  0.36994417  2.81407799]]\n",
    "    \"\"\")\n",
    "    \n",
    "test_word2vec()"
   ]
  },
  {
   "cell_type": "markdown",
   "metadata": {},
   "source": [
    "#### 2.2.3 K-nearest neighbors. (Fill the code: 10 points)"
   ]
  },
  {
   "cell_type": "code",
   "execution_count": 76,
   "metadata": {},
   "outputs": [],
   "source": [
    "def cosine_similartiy(v1, v2):\n",
    "    ''' return the cosine similarity of two vectors\n",
    "        \n",
    "        Inputs:\n",
    "            v1: a numpy ndarray\n",
    "            v2: a numpy ndarray\n",
    "        Outputs:\n",
    "            s: the cosine similarity of v1 and v2\n",
    "    '''\n",
    "    \n",
    "    ### Start your code\n",
    "    s = np.dot(v1,v2) / (np.linalg.norm(v1) * np.linalg.norm(v2))    \n",
    "    ### End\n",
    "    \n",
    "    return s\n",
    "\n",
    "def knn(vec, mat, k):\n",
    "    ''' Implement the KNN algorithm, which will be used for analysis.\n",
    "        \n",
    "        Inputs:\n",
    "            vec: numpy ndarray, the target vector\n",
    "            mat: numpy ndarray, a matrix contains all the vectors (each row is a vector)\n",
    "            k: the number of the nearest neighbors you want to find.\n",
    "            \n",
    "        Outputs:\n",
    "            indices: the k indices of the matrix's rows that are closest to the vec\n",
    "    '''\n",
    "                          \n",
    "    ### Start your code\n",
    "    scores = np.array([cosine_similartiy(vec, v2) for v2 in mat])\n",
    "    indices = (-scores).argsort()[:k]                      \n",
    "    ### End\n",
    "    \n",
    "    return indices"
   ]
  },
  {
   "cell_type": "markdown",
   "metadata": {},
   "source": [
    "#### 2.2.4 Evalution the model with visualization and knn"
   ]
  },
  {
   "cell_type": "markdown",
   "metadata": {},
   "source": [
    "#### Run the following cell to train the word2vec model\n",
    "\n",
    "_Note: The training process may take a long time depending on the efficiency of your implementation. Plan accordingly!_"
   ]
  },
  {
   "cell_type": "code",
   "execution_count": 77,
   "metadata": {},
   "outputs": [],
   "source": [
    "import os.path as op\n",
    "import numpy as np\n",
    "import random\n",
    "import glob\n",
    "import pickle\n",
    "\n",
    "import time\n",
    "from utils.treebank import StanfordSentiment\n",
    "\n",
    "SAVE_PARAMS_EVERY = 5000\n",
    "\n",
    "\n",
    "def load_saved_params():\n",
    "    \"\"\"\n",
    "    A helper function that loads previously saved parameters and resets\n",
    "    iteration start.\n",
    "    \"\"\"\n",
    "    st = 0\n",
    "    for f in glob.glob(\"saved_params_*.npy\"):\n",
    "        iter = int(op.splitext(op.basename(f))[0].split(\"_\")[2])\n",
    "        if (iter > st):\n",
    "            st = iter\n",
    "\n",
    "    if st > 0:\n",
    "        params_file = \"saved_params_%d.npy\" % st\n",
    "        state_file = \"saved_state_%d.pickle\" % st\n",
    "        params = np.load(params_file)\n",
    "        with open(state_file, \"rb\") as f:\n",
    "            state = pickle.load(f)\n",
    "        return st, params, state\n",
    "    else:\n",
    "        return st, None, None\n",
    "\n",
    "\n",
    "def save_params(iter, params):\n",
    "    params_file = \"saved_params_%d.npy\" % iter\n",
    "    np.save(params_file, params)\n",
    "    with open(\"saved_state_%d.pickle\" % iter, \"wb\") as f:\n",
    "        pickle.dump(random.getstate(), f)\n",
    "\n",
    "\n",
    "def sgd(f, x0, step, iterations, postprocessing=None, useSaved=False,\n",
    "        PRINT_EVERY=1000):\n",
    "    \"\"\" Stochastic Gradient Descent\n",
    "\n",
    "    Implement the stochastic gradient descent method in this function.\n",
    "\n",
    "    Arguments:\n",
    "    f -- the function to optimize, it should take a single\n",
    "         argument and yield two outputs, a loss and the gradient\n",
    "         with respect to the arguments\n",
    "    x0 -- the initial point to start SGD from\n",
    "    step -- the step size for SGD\n",
    "    iterations -- total iterations to run SGD for\n",
    "    postprocessing -- postprocessing function for the parameters\n",
    "                      if necessary. In the case of word2vec we will need to\n",
    "                      normalize the word vectors to have unit length.\n",
    "    PRINT_EVERY -- specifies how many iterations to output loss\n",
    "\n",
    "    Return:\n",
    "    x -- the parameter value after SGD finishes\n",
    "    \"\"\"\n",
    "\n",
    "    # Anneal learning rate every several iterations\n",
    "    ANNEAL_EVERY = 20000\n",
    "\n",
    "    if useSaved:\n",
    "        start_iter, oldx, state = load_saved_params()\n",
    "        if start_iter > 0:\n",
    "            x0 = oldx\n",
    "            step *= 0.5 ** (start_iter / ANNEAL_EVERY)\n",
    "\n",
    "        if state:\n",
    "            random.setstate(state)\n",
    "    else:\n",
    "        start_iter = 0\n",
    "\n",
    "    x = x0\n",
    "\n",
    "    if not postprocessing:\n",
    "        def postprocessing(x): return x\n",
    "\n",
    "    exploss = None\n",
    "\n",
    "    last_time = time.time()\n",
    "    for iter in range(start_iter + 1, iterations + 1):\n",
    "        # You might want to print the progress every few iterations.\n",
    "\n",
    "        loss = None\n",
    "        loss, g = f(x)\n",
    "        x -= step * g\n",
    "\n",
    "        x = postprocessing(x)\n",
    "        if iter % PRINT_EVERY == 0:\n",
    "            if not exploss:\n",
    "                exploss = loss\n",
    "            else:\n",
    "                exploss = .95 * exploss + .05 * loss\n",
    "            print(\"iter %d: %f, duration %d\" % (iter, exploss, int(time.time() - last_time)))\n",
    "            last_time = time.time()\n",
    "\n",
    "        if iter % SAVE_PARAMS_EVERY == 0 and useSaved:\n",
    "            save_params(iter, x)\n",
    "\n",
    "        if iter % ANNEAL_EVERY == 0:\n",
    "            step *= 0.5\n",
    "\n",
    "    return x"
   ]
  },
  {
   "cell_type": "code",
   "execution_count": 78,
   "metadata": {},
   "outputs": [
    {
     "data": {
      "application/vnd.jupyter.widget-view+json": {
       "model_id": "1c8a0d908acd46fda1053ef45200682c",
       "version_major": 2,
       "version_minor": 0
      },
      "text/plain": [
       "tokenizing:   0%|          | 0/10000 [00:00<?, ?it/s]"
      ]
     },
     "metadata": {},
     "output_type": "display_data"
    },
    {
     "name": "stdout",
     "output_type": "stream",
     "text": [
      "iter 100: 20.281331, duration 61\n",
      "iter 200: 20.510079, duration 39\n",
      "iter 300: 20.414788, duration 31\n",
      "iter 400: 20.682585, duration 31\n",
      "iter 500: 20.929418, duration 35\n",
      "iter 600: 21.179112, duration 34\n",
      "iter 700: 21.515443, duration 44\n",
      "iter 800: 21.667171, duration 56\n",
      "iter 900: 21.773184, duration 58\n",
      "iter 1000: 21.927303, duration 56\n",
      "iter 1100: 22.134713, duration 57\n",
      "iter 1200: 22.301200, duration 57\n",
      "iter 1300: 22.474631, duration 56\n",
      "iter 1400: 22.494535, duration 58\n",
      "iter 1500: 22.543804, duration 45\n",
      "iter 1600: 22.735418, duration 71\n",
      "iter 1700: 22.772666, duration 60\n",
      "iter 1800: 22.883784, duration 40\n",
      "iter 1900: 22.852067, duration 41\n",
      "iter 2000: 22.783245, duration 41\n",
      "iter 2100: 22.756175, duration 65\n",
      "iter 2200: 23.035257, duration 65\n",
      "iter 2300: 23.086375, duration 65\n",
      "iter 2400: 23.126275, duration 66\n",
      "iter 2500: 23.185242, duration 54\n",
      "iter 2600: 23.484756, duration 41\n",
      "iter 2700: 23.476370, duration 48\n",
      "iter 2800: 23.650850, duration 79\n",
      "iter 2900: 23.594949, duration 34\n",
      "iter 3000: 23.528848, duration 31\n",
      "iter 3100: 23.497006, duration 30\n",
      "iter 3200: 23.378979, duration 30\n",
      "iter 3300: 23.450901, duration 34\n",
      "iter 3400: 23.358442, duration 39\n",
      "iter 3500: 23.433502, duration 41\n",
      "iter 3600: 23.238071, duration 39\n",
      "iter 3700: 23.259412, duration 30\n",
      "iter 3800: 23.335377, duration 47\n",
      "iter 3900: 23.362703, duration 44\n",
      "iter 4000: 23.303651, duration 36\n",
      "iter 4100: 23.376225, duration 35\n",
      "iter 4200: 23.289460, duration 32\n",
      "iter 4300: 23.227556, duration 31\n",
      "iter 4400: 23.115324, duration 31\n",
      "iter 4500: 23.179584, duration 35\n",
      "iter 4600: 23.069354, duration 35\n",
      "iter 4700: 22.960648, duration 36\n",
      "iter 4800: 22.892173, duration 36\n",
      "iter 4900: 22.790463, duration 31\n",
      "iter 5000: 22.726544, duration 30\n",
      "iter 5100: 22.600695, duration 31\n",
      "iter 5200: 22.427974, duration 30\n",
      "iter 5300: 22.336298, duration 33\n",
      "iter 5400: 22.300604, duration 34\n",
      "iter 5500: 22.280873, duration 28\n",
      "iter 5600: 22.413123, duration 28\n",
      "iter 5700: 22.263618, duration 42\n",
      "iter 5800: 22.204621, duration 36\n",
      "iter 5900: 22.087111, duration 32\n",
      "iter 6000: 21.904324, duration 30\n",
      "iter 6100: 21.796554, duration 28\n",
      "iter 6200: 21.711195, duration 29\n",
      "iter 6300: 21.606319, duration 29\n",
      "iter 6400: 21.461347, duration 29\n",
      "iter 6500: 21.306457, duration 29\n",
      "iter 6600: 21.204371, duration 29\n",
      "iter 6700: 21.040748, duration 29\n",
      "iter 6800: 20.903218, duration 32\n",
      "iter 6900: 20.647797, duration 27\n",
      "iter 7000: 20.645885, duration 28\n",
      "iter 7100: 20.435390, duration 54\n",
      "iter 7200: 20.454706, duration 39\n",
      "iter 7300: 20.319705, duration 30\n",
      "iter 7400: 20.203957, duration 29\n",
      "iter 7500: 19.969616, duration 28\n",
      "iter 7600: 19.896895, duration 28\n",
      "iter 7700: 19.835174, duration 27\n",
      "iter 7800: 19.704430, duration 27\n",
      "iter 7900: 19.448197, duration 27\n",
      "iter 8000: 19.252571, duration 27\n",
      "iter 8100: 19.152819, duration 27\n",
      "iter 8200: 19.063740, duration 27\n",
      "iter 8300: 18.845120, duration 27\n",
      "iter 8400: 18.748637, duration 27\n",
      "iter 8500: 18.659971, duration 27\n",
      "iter 8600: 18.516942, duration 27\n",
      "iter 8700: 18.317135, duration 27\n",
      "iter 8800: 18.219498, duration 27\n",
      "iter 8900: 18.123363, duration 27\n",
      "iter 9000: 17.970092, duration 28\n",
      "iter 9100: 17.897865, duration 28\n",
      "iter 9200: 17.730100, duration 28\n",
      "iter 9300: 17.587614, duration 27\n",
      "iter 9400: 17.552278, duration 27\n",
      "iter 9500: 17.414175, duration 28\n",
      "iter 9600: 17.197290, duration 28\n",
      "iter 9700: 17.065489, duration 28\n",
      "iter 9800: 16.945902, duration 32\n",
      "iter 9900: 16.897661, duration 43\n",
      "iter 10000: 16.751241, duration 33\n",
      "iter 10100: 16.560083, duration 29\n",
      "iter 10200: 16.506474, duration 30\n",
      "iter 10300: 16.357498, duration 33\n",
      "iter 10400: 16.277480, duration 32\n",
      "iter 10500: 16.123210, duration 32\n",
      "iter 10600: 16.042323, duration 32\n",
      "iter 10700: 16.058924, duration 32\n",
      "iter 10800: 15.965590, duration 27\n",
      "iter 10900: 15.884305, duration 27\n",
      "iter 11000: 15.760879, duration 27\n",
      "iter 11100: 15.569075, duration 27\n",
      "iter 11200: 15.492453, duration 27\n",
      "iter 11300: 15.415246, duration 27\n",
      "iter 11400: 15.419918, duration 27\n",
      "iter 11500: 15.368984, duration 27\n",
      "iter 11600: 15.253341, duration 27\n",
      "iter 11700: 15.093800, duration 27\n",
      "iter 11800: 14.940613, duration 27\n",
      "iter 11900: 14.872658, duration 27\n",
      "iter 12000: 14.958120, duration 27\n",
      "iter 12100: 14.938154, duration 27\n",
      "iter 12200: 14.994181, duration 27\n",
      "iter 12300: 14.967593, duration 27\n",
      "iter 12400: 14.942330, duration 27\n",
      "iter 12500: 14.862646, duration 27\n",
      "iter 12600: 14.865969, duration 27\n",
      "iter 12700: 14.740547, duration 28\n",
      "iter 12800: 14.647663, duration 27\n",
      "iter 12900: 14.572751, duration 27\n",
      "iter 13000: 14.519334, duration 39\n",
      "iter 13100: 14.393135, duration 37\n",
      "iter 13200: 14.330741, duration 31\n",
      "iter 13300: 14.331218, duration 29\n",
      "iter 13400: 14.227489, duration 27\n",
      "iter 13500: 14.152177, duration 27\n",
      "iter 13600: 14.080285, duration 27\n",
      "iter 13700: 13.971743, duration 27\n",
      "iter 13800: 13.895867, duration 27\n",
      "iter 13900: 13.846149, duration 27\n",
      "iter 14000: 13.790580, duration 27\n",
      "iter 14100: 13.693939, duration 27\n",
      "iter 14200: 13.722068, duration 27\n",
      "iter 14300: 13.599390, duration 27\n",
      "iter 14400: 13.528876, duration 27\n",
      "iter 14500: 13.484107, duration 27\n",
      "iter 14600: 13.462680, duration 27\n",
      "iter 14700: 13.509745, duration 27\n",
      "iter 14800: 13.549352, duration 27\n",
      "iter 14900: 13.437179, duration 27\n",
      "iter 15000: 13.377839, duration 27\n",
      "iter 15100: 13.331145, duration 27\n",
      "iter 15200: 13.187477, duration 27\n",
      "iter 15300: 13.061678, duration 27\n",
      "iter 15400: 13.007299, duration 27\n",
      "iter 15500: 13.063938, duration 27\n",
      "iter 15600: 13.037346, duration 32\n",
      "iter 15700: 13.067814, duration 41\n",
      "iter 15800: 13.103867, duration 35\n",
      "iter 15900: 13.021388, duration 31\n",
      "iter 16000: 13.071994, duration 32\n",
      "iter 16100: 13.019141, duration 27\n",
      "iter 16200: 12.933659, duration 44\n",
      "iter 16300: 12.962906, duration 33\n",
      "iter 16400: 12.871238, duration 30\n",
      "iter 16500: 12.866408, duration 29\n",
      "iter 16600: 12.982020, duration 28\n",
      "iter 16700: 13.006833, duration 29\n",
      "iter 16800: 13.041658, duration 33\n",
      "iter 16900: 13.002093, duration 33\n",
      "iter 17000: 12.988887, duration 33\n",
      "iter 17100: 13.021298, duration 38\n",
      "iter 17200: 13.009904, duration 37\n",
      "iter 17300: 12.984298, duration 31\n",
      "iter 17400: 12.878672, duration 29\n",
      "iter 17500: 12.893885, duration 28\n",
      "iter 17600: 12.895752, duration 27\n",
      "iter 17700: 12.903872, duration 27\n",
      "iter 17800: 12.839774, duration 27\n",
      "iter 17900: 12.752981, duration 27\n",
      "iter 18000: 12.683493, duration 27\n",
      "iter 18100: 12.668260, duration 28\n",
      "iter 18200: 12.641500, duration 28\n",
      "iter 18300: 12.667759, duration 27\n",
      "iter 18400: 12.729534, duration 27\n",
      "iter 18500: 12.757266, duration 27\n",
      "iter 18600: 12.787510, duration 27\n",
      "iter 18700: 12.761524, duration 28\n",
      "iter 18800: 12.781747, duration 30\n",
      "iter 18900: 12.741235, duration 29\n",
      "iter 19000: 12.814764, duration 34\n",
      "iter 19100: 12.752466, duration 27\n",
      "iter 19200: 12.700387, duration 28\n",
      "iter 19300: 12.637851, duration 27\n",
      "iter 19400: 12.569268, duration 27\n",
      "iter 19500: 12.494741, duration 27\n",
      "iter 19600: 12.470999, duration 27\n",
      "iter 19700: 12.438379, duration 32\n",
      "iter 19800: 12.423664, duration 29\n",
      "iter 19900: 12.335291, duration 27\n",
      "iter 20000: 12.293335, duration 27\n",
      "iter 20100: 12.293424, duration 27\n",
      "iter 20200: 12.210736, duration 27\n",
      "iter 20300: 12.134334, duration 27\n",
      "iter 20400: 12.107815, duration 27\n",
      "iter 20500: 12.100777, duration 27\n",
      "iter 20600: 12.090881, duration 28\n",
      "iter 20700: 11.952967, duration 27\n",
      "iter 20800: 11.896603, duration 28\n",
      "iter 20900: 11.963988, duration 27\n",
      "iter 21000: 12.009086, duration 27\n",
      "iter 21100: 12.021476, duration 28\n",
      "iter 21200: 11.975487, duration 27\n",
      "iter 21300: 11.974065, duration 28\n",
      "iter 21400: 11.920838, duration 28\n",
      "iter 21500: 11.954628, duration 27\n",
      "iter 21600: 11.967717, duration 27\n",
      "iter 21700: 11.965326, duration 28\n",
      "iter 21800: 11.946824, duration 27\n",
      "iter 21900: 11.979093, duration 42\n",
      "iter 22000: 11.949591, duration 34\n",
      "iter 22100: 11.892831, duration 30\n",
      "iter 22200: 11.905102, duration 29\n",
      "iter 22300: 11.878687, duration 27\n",
      "iter 22400: 11.831128, duration 29\n",
      "iter 22500: 11.755915, duration 29\n",
      "iter 22600: 11.820127, duration 30\n",
      "iter 22700: 11.762456, duration 29\n",
      "iter 22800: 11.700433, duration 29\n",
      "iter 22900: 11.684749, duration 30\n",
      "iter 23000: 11.637343, duration 29\n",
      "iter 23100: 11.670769, duration 29\n",
      "iter 23200: 11.685296, duration 29\n",
      "iter 23300: 11.635960, duration 29\n",
      "iter 23400: 11.599748, duration 28\n",
      "iter 23500: 11.583764, duration 28\n",
      "iter 23600: 11.613089, duration 28\n",
      "iter 23700: 11.648124, duration 28\n",
      "iter 23800: 11.615351, duration 28\n",
      "iter 23900: 11.538604, duration 28\n",
      "iter 24000: 11.569525, duration 28\n",
      "iter 24100: 11.517695, duration 29\n",
      "iter 24200: 11.508596, duration 28\n",
      "iter 24300: 11.539644, duration 29\n",
      "iter 24400: 11.524697, duration 29\n",
      "iter 24500: 11.561327, duration 29\n",
      "iter 24600: 11.552254, duration 29\n",
      "iter 24700: 11.577112, duration 29\n",
      "iter 24800: 11.525834, duration 29\n",
      "iter 24900: 11.537852, duration 28\n",
      "iter 25000: 11.487479, duration 29\n",
      "iter 25100: 11.491900, duration 29\n",
      "iter 25200: 11.412410, duration 28\n",
      "iter 25300: 11.353926, duration 28\n",
      "iter 25400: 11.349159, duration 29\n",
      "iter 25500: 11.329060, duration 29\n",
      "iter 25600: 11.335727, duration 29\n",
      "iter 25700: 11.384475, duration 28\n",
      "iter 25800: 11.241498, duration 28\n",
      "iter 25900: 11.303312, duration 28\n",
      "iter 26000: 11.325516, duration 28\n",
      "iter 26100: 11.320591, duration 29\n",
      "iter 26200: 11.400643, duration 28\n",
      "iter 26300: 11.428096, duration 29\n",
      "iter 26400: 11.361796, duration 28\n",
      "iter 26500: 11.418529, duration 29\n",
      "iter 26600: 11.391496, duration 28\n",
      "iter 26700: 11.315644, duration 45\n",
      "iter 26800: 11.300310, duration 36\n",
      "iter 26900: 11.266739, duration 31\n",
      "iter 27000: 11.287045, duration 30\n",
      "iter 27100: 11.321517, duration 31\n",
      "iter 27200: 11.349184, duration 30\n",
      "iter 27300: 11.334977, duration 27\n",
      "iter 27400: 11.309448, duration 27\n",
      "iter 27500: 11.362709, duration 27\n",
      "iter 27600: 11.360582, duration 27\n",
      "iter 27700: 11.367798, duration 30\n",
      "iter 27800: 11.470442, duration 30\n",
      "iter 27900: 11.424435, duration 31\n",
      "iter 28000: 11.470536, duration 30\n",
      "iter 28100: 11.357733, duration 30\n",
      "iter 28200: 11.420181, duration 30\n",
      "iter 28300: 11.373553, duration 31\n",
      "iter 28400: 11.390720, duration 30\n",
      "iter 28500: 11.446179, duration 30\n",
      "iter 28600: 11.484551, duration 32\n",
      "iter 28700: 11.405518, duration 32\n",
      "iter 28800: 11.436644, duration 30\n",
      "iter 28900: 11.492683, duration 34\n",
      "iter 29000: 11.473076, duration 34\n",
      "iter 29100: 11.443099, duration 30\n",
      "iter 29200: 11.445401, duration 30\n",
      "iter 29300: 11.347111, duration 30\n",
      "iter 29400: 11.345879, duration 30\n",
      "iter 29500: 11.349610, duration 30\n",
      "iter 29600: 11.313914, duration 30\n",
      "iter 29700: 11.272010, duration 31\n",
      "iter 29800: 11.249553, duration 35\n",
      "iter 29900: 11.242230, duration 34\n",
      "iter 30000: 11.307488, duration 34\n",
      "iter 30100: 11.330820, duration 31\n",
      "iter 30200: 11.301794, duration 34\n",
      "iter 30300: 11.321634, duration 34\n",
      "iter 30400: 11.308813, duration 34\n",
      "iter 30500: 11.383716, duration 33\n",
      "iter 30600: 11.416447, duration 31\n",
      "iter 30700: 11.409824, duration 30\n",
      "iter 30800: 11.415179, duration 30\n",
      "iter 30900: 11.460017, duration 30\n",
      "iter 31000: 11.515670, duration 31\n",
      "iter 31100: 11.423759, duration 30\n",
      "iter 31200: 11.417840, duration 30\n",
      "iter 31300: 11.401781, duration 30\n",
      "iter 31400: 11.480168, duration 33\n",
      "iter 31500: 11.536680, duration 34\n",
      "iter 31600: 11.457412, duration 30\n",
      "iter 31700: 11.478289, duration 30\n",
      "iter 31800: 11.502716, duration 30\n",
      "iter 31900: 11.583578, duration 30\n",
      "iter 32000: 11.544635, duration 49\n",
      "iter 32100: 11.490998, duration 37\n",
      "iter 32200: 11.475851, duration 35\n",
      "iter 32300: 11.580706, duration 29\n",
      "iter 32400: 11.582332, duration 28\n",
      "iter 32500: 11.668893, duration 29\n",
      "iter 32600: 11.649330, duration 33\n",
      "iter 32700: 11.687916, duration 29\n",
      "iter 32800: 11.699387, duration 33\n",
      "iter 32900: 11.665065, duration 32\n",
      "iter 33000: 11.599272, duration 28\n",
      "iter 33100: 11.655505, duration 42\n",
      "iter 33200: 11.664985, duration 35\n",
      "iter 33300: 11.652212, duration 30\n",
      "iter 33400: 11.604088, duration 28\n",
      "iter 33500: 11.613191, duration 27\n",
      "iter 33600: 11.653201, duration 27\n",
      "iter 33700: 11.641655, duration 27\n",
      "iter 33800: 11.683510, duration 27\n",
      "iter 33900: 11.668824, duration 27\n",
      "iter 34000: 11.677988, duration 27\n",
      "iter 34100: 11.607090, duration 26\n",
      "iter 34200: 11.539728, duration 27\n",
      "iter 34300: 11.584209, duration 26\n",
      "iter 34400: 11.521379, duration 26\n",
      "iter 34500: 11.475716, duration 26\n",
      "iter 34600: 11.480420, duration 42\n",
      "iter 34700: 11.479358, duration 33\n",
      "iter 34800: 11.520967, duration 29\n",
      "iter 34900: 11.507239, duration 28\n",
      "iter 35000: 11.467745, duration 27\n",
      "iter 35100: 11.442891, duration 26\n",
      "iter 35200: 11.373678, duration 27\n",
      "iter 35300: 11.388591, duration 27\n",
      "iter 35400: 11.406243, duration 27\n",
      "iter 35500: 11.416973, duration 27\n",
      "iter 35600: 11.355083, duration 27\n",
      "iter 35700: 11.294970, duration 28\n",
      "iter 35800: 11.286901, duration 27\n",
      "iter 35900: 11.304580, duration 27\n",
      "iter 36000: 11.259381, duration 27\n",
      "iter 36100: 11.306811, duration 27\n",
      "iter 36200: 11.282630, duration 27\n",
      "iter 36300: 11.294186, duration 27\n",
      "iter 36400: 11.251388, duration 27\n",
      "iter 36500: 11.248876, duration 27\n",
      "iter 36600: 11.251299, duration 27\n",
      "iter 36700: 11.219965, duration 27\n",
      "iter 36800: 11.302692, duration 27\n",
      "iter 36900: 11.281662, duration 27\n",
      "iter 37000: 11.221721, duration 27\n",
      "iter 37100: 11.135941, duration 27\n",
      "iter 37200: 11.147290, duration 27\n",
      "iter 37300: 11.176025, duration 27\n",
      "iter 37400: 11.235995, duration 27\n",
      "iter 37500: 11.246823, duration 27\n",
      "iter 37600: 11.189538, duration 27\n",
      "iter 37700: 11.177030, duration 27\n",
      "iter 37800: 11.157424, duration 27\n",
      "iter 37900: 11.198812, duration 27\n",
      "iter 38000: 11.196452, duration 27\n",
      "iter 38100: 11.108943, duration 27\n",
      "iter 38200: 11.182753, duration 27\n",
      "iter 38300: 11.148770, duration 27\n",
      "iter 38400: 11.143786, duration 30\n",
      "iter 38500: 11.191924, duration 28\n",
      "iter 38600: 11.127206, duration 27\n",
      "iter 38700: 11.122632, duration 27\n",
      "iter 38800: 11.116422, duration 27\n",
      "iter 38900: 11.020088, duration 27\n",
      "iter 39000: 11.045229, duration 29\n",
      "iter 39100: 11.082894, duration 28\n",
      "iter 39200: 11.135514, duration 27\n",
      "iter 39300: 11.123518, duration 27\n",
      "iter 39400: 11.123196, duration 32\n",
      "iter 39500: 11.159004, duration 42\n",
      "iter 39600: 11.208906, duration 32\n",
      "iter 39700: 11.195301, duration 29\n",
      "iter 39800: 11.178654, duration 27\n",
      "iter 39900: 11.160390, duration 27\n",
      "iter 40000: 11.177964, duration 27\n",
      "sanity check: cost at convergence should be around or below 10\n",
      "training took 12693 seconds\n"
     ]
    }
   ],
   "source": [
    "import time\n",
    "from utils.treebank import StanfordSentiment\n",
    "\n",
    "random.seed(314)\n",
    "dataset = StanfordSentiment()\n",
    "tokens = dataset.tokens()\n",
    "nWords = len(tokens)\n",
    "\n",
    "\n",
    "# We are going to train 10-dimensional vectors for this assignment\n",
    "dimVectors = 10\n",
    "\n",
    "# Context size\n",
    "C = 5\n",
    "\n",
    "# Reset the random seed to make sure that everyone gets the same results\n",
    "random.seed(31415)\n",
    "np.random.seed(9265)\n",
    "\n",
    "startTime = time.time()\n",
    "wordVectors = np.concatenate(\n",
    "    ((np.random.rand(nWords, dimVectors) - 0.5) /\n",
    "     dimVectors, np.zeros((nWords, dimVectors))),\n",
    "    axis=0)\n",
    "\n",
    "wordVectors = sgd(\n",
    "    lambda vec: word2vec_sgd_wrapper(skipgram, tokens, vec, dataset, C,\n",
    "                                     negSamplingLossAndGradient),\n",
    "    wordVectors, 0.3, 40000, None, True, PRINT_EVERY=100)\n",
    "\n",
    "print(\"sanity check: cost at convergence should be around or below 10\")\n",
    "print(\"training took %d seconds\" % (time.time() - startTime))"
   ]
  },
  {
   "cell_type": "markdown",
   "metadata": {},
   "source": [
    "#### Run the following cell to obtain the visulaization of words"
   ]
  },
  {
   "cell_type": "code",
   "execution_count": 79,
   "metadata": {},
   "outputs": [
    {
     "data": {
      "image/png": "[encoded data removed]",
      "text/plain": [
       "<Figure size 432x288 with 1 Axes>"
      ]
     },
     "metadata": {
      "needs_background": "light"
     },
     "output_type": "display_data"
    }
   ],
   "source": [
    "import matplotlib.pyplot as plt\n",
    "%matplotlib inline\n",
    "\n",
    "# concatenate the input and output word vectors\n",
    "wordVectors = np.concatenate(\n",
    "    (wordVectors[:nWords, :], wordVectors[nWords:, :]),\n",
    "    axis=0)\n",
    "\n",
    "visualizeWords = [\n",
    "    'state', 'season', 'company', 'world', 'against', \n",
    "    'president', 'game', 'million', 'oil', 'government'\n",
    "]\n",
    "\n",
    "visualizeIdx = [tokens[word] for word in visualizeWords]\n",
    "visualizeVecs = wordVectors[visualizeIdx, :]\n",
    "temp = (visualizeVecs - np.mean(visualizeVecs, axis=0))\n",
    "covariance = 1.0 / len(visualizeIdx) * temp.T.dot(temp)\n",
    "U, S, V = np.linalg.svd(covariance)\n",
    "coord = temp.dot(U[:, 0:2])\n",
    "\n",
    "for i in range(len(visualizeWords)):\n",
    "    plt.text(coord[i, 0], coord[i, 1], visualizeWords[i],\n",
    "             bbox=dict(facecolor='green', alpha=0.1))\n",
    "\n",
    "plt.xlim((np.min(coord[:, 0]), np.max(coord[:, 0])))\n",
    "plt.ylim((np.min(coord[:, 1]), np.max(coord[:, 1])))\n",
    "\n",
    "plt.savefig('word_vectors.png')\n",
    "plt.show()"
   ]
  },
  {
   "cell_type": "markdown",
   "metadata": {},
   "source": [
    "#### Run the following cell to obtain the k-nearest neighbors"
   ]
  },
  {
   "cell_type": "code",
   "execution_count": 80,
   "metadata": {},
   "outputs": [
    {
     "name": "stdout",
     "output_type": "stream",
     "text": [
      "Word: \"state\" is close to ['state', 'research', 'mirrors', 'whitfield', 'perversely', 'tadic', 'community', 'company', 'tomko', 'science']\n",
      "Word: \"season\" is close to ['season', 'repay', 'time', 'win', 'woman', 'nextel', 'holiday', 'check', 'english', 'cheney']\n",
      "Word: \"company\" is close to ['company', 'united', 'when', 'hsbc', 'recruitment', 'beats', 'bonds', 'google', 'development', 'cost']\n",
      "Word: \"world\" is close to ['world', 'public', 'help', 'electronic', 'wins', 'computers', 'titans', 'cents', 'potentially', 'another']\n",
      "Word: \"against\" is close to ['against', 'primarily', 'rival', 'gallon', 'more', 'discounted', 'aspyr', 'nations', 'ghz', 'championship']\n",
      "Word: \"president\" is close to ['president', 'lays', 'phrase', 'wrong', 'russell', 'shalal', 'giannini', 'trades', 'female', 'radioactive']\n",
      "Word: \"game\" is close to ['game', 'msn', 'francona', 'red', 'theft', 'contentguard', 'fort', 'clothing', 'concerning', 'dorman']\n",
      "Word: \"million\" is close to ['million', 'market', 'machines', 'soon', 'hardware', 'netflix', 'cn', 'starting', 'goolsby', 'leonard']\n",
      "Word: \"oil\" is close to ['oil', 'slogan', 'beasts', 'solely', 'make', 'battle', 'making', 'helped', 'soaring', 'nearly']\n",
      "Word: \"government\" is close to ['government', 'farther', 'rocket', 'bargainers', 'bourses', 'eden', 'suburb', 'leg', 'bambang', 'divisional']\n"
     ]
    }
   ],
   "source": [
    "centerVectors = wordVectors[:nWords, :]\n",
    "outputVectors = wordVectors[nWords:, :]\n",
    "for word in visualizeWords:\n",
    "    idx = tokens[word]\n",
    "    vec = outputVectors[idx]\n",
    "    indices = knn(vec, outputVectors, 10)\n",
    "    closed_words = [list(tokens.keys())[i] for i in indices]\n",
    "    print('Word: \"{}\" is close to {}'.format(word, closed_words))"
   ]
  },
  {
   "cell_type": "markdown",
   "id": "7a3fdf9d",
   "metadata": {},
   "source": [
    "## Analysis and Observation"
   ]
  },
  {
   "cell_type": "markdown",
   "id": "06597cfa",
   "metadata": {},
   "source": [
    "It is observed that the the word embeddings result in to cluster in similar contexts. But considering that the vocabulary and the data is limited which introduces bias. Like 'season' word to associate closely to 'women' and 'government' associating closely to 'leg', which these can be reduced including sufficient large dataset from various sources. This also brings to the notice that media would refer to certain places, words, events, etc."
   ]
  },
  {
   "cell_type": "markdown",
   "id": "212874a8",
   "metadata": {},
   "source": []
  }
 ],
 "metadata": {
  "kernelspec": {
   "display_name": "Python 3",
   "language": "python",
   "name": "python3"
  },
  "language_info": {
   "codemirror_mode": {
    "name": "ipython",
    "version": 3
   },
   "file_extension": ".py",
   "mimetype": "text/x-python",
   "name": "python",
   "nbconvert_exporter": "python",
   "pygments_lexer": "ipython3",
   "version": "3.8.12"
  }
 },
 "nbformat": 4,
 "nbformat_minor": 5
}
