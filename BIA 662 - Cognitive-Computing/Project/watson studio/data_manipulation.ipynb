{
 "cells": [
  {
   "cell_type": "code",
   "execution_count": 1,
   "id": "14686749",
   "metadata": {},
   "outputs": [],
   "source": [
    "import pandas as pd\n",
    "import matplotlib.pyplot as plt\n",
    "import seaborn as sns\n",
    "import numpy as np"
   ]
  },
  {
   "cell_type": "code",
   "execution_count": 3,
   "id": "290e8819",
   "metadata": {},
   "outputs": [
    {
     "data": {
      "text/html": [
       "<div>\n",
       "<style scoped>\n",
       "    .dataframe tbody tr th:only-of-type {\n",
       "        vertical-align: middle;\n",
       "    }\n",
       "\n",
       "    .dataframe tbody tr th {\n",
       "        vertical-align: top;\n",
       "    }\n",
       "\n",
       "    .dataframe thead th {\n",
       "        text-align: right;\n",
       "    }\n",
       "</style>\n",
       "<table border=\"1\" class=\"dataframe\">\n",
       "  <thead>\n",
       "    <tr style=\"text-align: right;\">\n",
       "      <th></th>\n",
       "      <th>BMI</th>\n",
       "      <th>PhysicalHealth</th>\n",
       "      <th>MentalHealth</th>\n",
       "      <th>SleepTime</th>\n",
       "      <th>Smoking</th>\n",
       "      <th>AlcoholDrinking</th>\n",
       "      <th>Stroke</th>\n",
       "      <th>DiffWalking</th>\n",
       "      <th>Sex</th>\n",
       "      <th>AgeCategory</th>\n",
       "      <th>Race</th>\n",
       "      <th>Diabetic</th>\n",
       "      <th>PhysicalActivity</th>\n",
       "      <th>GenHealth</th>\n",
       "      <th>Asthma</th>\n",
       "      <th>KidneyDisease</th>\n",
       "      <th>SkinCancer</th>\n",
       "      <th>HeartDisease</th>\n",
       "    </tr>\n",
       "  </thead>\n",
       "  <tbody>\n",
       "    <tr>\n",
       "      <th>0</th>\n",
       "      <td>16.600000</td>\n",
       "      <td>3.000000</td>\n",
       "      <td>30.000000</td>\n",
       "      <td>5.000000</td>\n",
       "      <td>Yes</td>\n",
       "      <td>No</td>\n",
       "      <td>No</td>\n",
       "      <td>No</td>\n",
       "      <td>Female</td>\n",
       "      <td>55-59</td>\n",
       "      <td>White</td>\n",
       "      <td>Yes</td>\n",
       "      <td>Yes</td>\n",
       "      <td>Very good</td>\n",
       "      <td>Yes</td>\n",
       "      <td>No</td>\n",
       "      <td>Yes</td>\n",
       "      <td>No</td>\n",
       "    </tr>\n",
       "    <tr>\n",
       "      <th>1</th>\n",
       "      <td>20.340000</td>\n",
       "      <td>0.000000</td>\n",
       "      <td>0.000000</td>\n",
       "      <td>7.000000</td>\n",
       "      <td>No</td>\n",
       "      <td>No</td>\n",
       "      <td>Yes</td>\n",
       "      <td>No</td>\n",
       "      <td>Female</td>\n",
       "      <td>80 or older</td>\n",
       "      <td>White</td>\n",
       "      <td>No</td>\n",
       "      <td>Yes</td>\n",
       "      <td>Very good</td>\n",
       "      <td>No</td>\n",
       "      <td>No</td>\n",
       "      <td>No</td>\n",
       "      <td>No</td>\n",
       "    </tr>\n",
       "    <tr>\n",
       "      <th>2</th>\n",
       "      <td>26.580000</td>\n",
       "      <td>20.000000</td>\n",
       "      <td>30.000000</td>\n",
       "      <td>8.000000</td>\n",
       "      <td>Yes</td>\n",
       "      <td>No</td>\n",
       "      <td>No</td>\n",
       "      <td>No</td>\n",
       "      <td>Male</td>\n",
       "      <td>65-69</td>\n",
       "      <td>White</td>\n",
       "      <td>Yes</td>\n",
       "      <td>Yes</td>\n",
       "      <td>Fair</td>\n",
       "      <td>Yes</td>\n",
       "      <td>No</td>\n",
       "      <td>No</td>\n",
       "      <td>No</td>\n",
       "    </tr>\n",
       "    <tr>\n",
       "      <th>3</th>\n",
       "      <td>24.210000</td>\n",
       "      <td>0.000000</td>\n",
       "      <td>0.000000</td>\n",
       "      <td>6.000000</td>\n",
       "      <td>No</td>\n",
       "      <td>No</td>\n",
       "      <td>No</td>\n",
       "      <td>No</td>\n",
       "      <td>Female</td>\n",
       "      <td>75-79</td>\n",
       "      <td>White</td>\n",
       "      <td>No</td>\n",
       "      <td>No</td>\n",
       "      <td>Good</td>\n",
       "      <td>No</td>\n",
       "      <td>No</td>\n",
       "      <td>Yes</td>\n",
       "      <td>No</td>\n",
       "    </tr>\n",
       "    <tr>\n",
       "      <th>4</th>\n",
       "      <td>23.710000</td>\n",
       "      <td>28.000000</td>\n",
       "      <td>0.000000</td>\n",
       "      <td>8.000000</td>\n",
       "      <td>No</td>\n",
       "      <td>No</td>\n",
       "      <td>No</td>\n",
       "      <td>Yes</td>\n",
       "      <td>Female</td>\n",
       "      <td>40-44</td>\n",
       "      <td>White</td>\n",
       "      <td>No</td>\n",
       "      <td>Yes</td>\n",
       "      <td>Very good</td>\n",
       "      <td>No</td>\n",
       "      <td>No</td>\n",
       "      <td>No</td>\n",
       "      <td>No</td>\n",
       "    </tr>\n",
       "    <tr>\n",
       "      <th>...</th>\n",
       "      <td>...</td>\n",
       "      <td>...</td>\n",
       "      <td>...</td>\n",
       "      <td>...</td>\n",
       "      <td>...</td>\n",
       "      <td>...</td>\n",
       "      <td>...</td>\n",
       "      <td>...</td>\n",
       "      <td>...</td>\n",
       "      <td>...</td>\n",
       "      <td>...</td>\n",
       "      <td>...</td>\n",
       "      <td>...</td>\n",
       "      <td>...</td>\n",
       "      <td>...</td>\n",
       "      <td>...</td>\n",
       "      <td>...</td>\n",
       "      <td>...</td>\n",
       "    </tr>\n",
       "    <tr>\n",
       "      <th>584839</th>\n",
       "      <td>31.405813</td>\n",
       "      <td>18.872095</td>\n",
       "      <td>0.000000</td>\n",
       "      <td>7.645349</td>\n",
       "      <td>Yes</td>\n",
       "      <td>No</td>\n",
       "      <td>Yes</td>\n",
       "      <td>Yes</td>\n",
       "      <td>Male</td>\n",
       "      <td>80 or older</td>\n",
       "      <td>White</td>\n",
       "      <td>Yes</td>\n",
       "      <td>No</td>\n",
       "      <td>Fair</td>\n",
       "      <td>No</td>\n",
       "      <td>No</td>\n",
       "      <td>Yes</td>\n",
       "      <td>Yes</td>\n",
       "    </tr>\n",
       "    <tr>\n",
       "      <th>584840</th>\n",
       "      <td>30.301090</td>\n",
       "      <td>0.000000</td>\n",
       "      <td>1.555862</td>\n",
       "      <td>6.000000</td>\n",
       "      <td>Yes</td>\n",
       "      <td>No</td>\n",
       "      <td>No</td>\n",
       "      <td>No</td>\n",
       "      <td>Male</td>\n",
       "      <td>55-59</td>\n",
       "      <td>White</td>\n",
       "      <td>No</td>\n",
       "      <td>Yes</td>\n",
       "      <td>Good</td>\n",
       "      <td>No</td>\n",
       "      <td>No</td>\n",
       "      <td>No</td>\n",
       "      <td>Yes</td>\n",
       "    </tr>\n",
       "    <tr>\n",
       "      <th>584841</th>\n",
       "      <td>22.148483</td>\n",
       "      <td>9.544908</td>\n",
       "      <td>1.696605</td>\n",
       "      <td>7.848303</td>\n",
       "      <td>No</td>\n",
       "      <td>No</td>\n",
       "      <td>No</td>\n",
       "      <td>No</td>\n",
       "      <td>Female</td>\n",
       "      <td>75-79</td>\n",
       "      <td>White</td>\n",
       "      <td>No</td>\n",
       "      <td>Yes</td>\n",
       "      <td>Good</td>\n",
       "      <td>No</td>\n",
       "      <td>No</td>\n",
       "      <td>No</td>\n",
       "      <td>Yes</td>\n",
       "    </tr>\n",
       "    <tr>\n",
       "      <th>584842</th>\n",
       "      <td>28.525741</td>\n",
       "      <td>0.000000</td>\n",
       "      <td>0.000000</td>\n",
       "      <td>8.000000</td>\n",
       "      <td>No</td>\n",
       "      <td>No</td>\n",
       "      <td>No</td>\n",
       "      <td>No</td>\n",
       "      <td>Male</td>\n",
       "      <td>65-69</td>\n",
       "      <td>White</td>\n",
       "      <td>No</td>\n",
       "      <td>Yes</td>\n",
       "      <td>Good</td>\n",
       "      <td>No</td>\n",
       "      <td>No</td>\n",
       "      <td>No</td>\n",
       "      <td>Yes</td>\n",
       "    </tr>\n",
       "    <tr>\n",
       "      <th>584843</th>\n",
       "      <td>38.730518</td>\n",
       "      <td>15.000000</td>\n",
       "      <td>0.000000</td>\n",
       "      <td>4.956901</td>\n",
       "      <td>No</td>\n",
       "      <td>No</td>\n",
       "      <td>No</td>\n",
       "      <td>No</td>\n",
       "      <td>Male</td>\n",
       "      <td>60-64</td>\n",
       "      <td>White</td>\n",
       "      <td>Yes</td>\n",
       "      <td>Yes</td>\n",
       "      <td>Poor</td>\n",
       "      <td>Yes</td>\n",
       "      <td>No</td>\n",
       "      <td>No</td>\n",
       "      <td>Yes</td>\n",
       "    </tr>\n",
       "  </tbody>\n",
       "</table>\n",
       "<p>584844 rows × 18 columns</p>\n",
       "</div>"
      ],
      "text/plain": [
       "              BMI  PhysicalHealth  MentalHealth  SleepTime Smoking  \\\n",
       "0       16.600000        3.000000     30.000000   5.000000     Yes   \n",
       "1       20.340000        0.000000      0.000000   7.000000      No   \n",
       "2       26.580000       20.000000     30.000000   8.000000     Yes   \n",
       "3       24.210000        0.000000      0.000000   6.000000      No   \n",
       "4       23.710000       28.000000      0.000000   8.000000      No   \n",
       "...           ...             ...           ...        ...     ...   \n",
       "584839  31.405813       18.872095      0.000000   7.645349     Yes   \n",
       "584840  30.301090        0.000000      1.555862   6.000000     Yes   \n",
       "584841  22.148483        9.544908      1.696605   7.848303      No   \n",
       "584842  28.525741        0.000000      0.000000   8.000000      No   \n",
       "584843  38.730518       15.000000      0.000000   4.956901      No   \n",
       "\n",
       "       AlcoholDrinking Stroke DiffWalking     Sex  AgeCategory   Race  \\\n",
       "0                   No     No          No  Female        55-59  White   \n",
       "1                   No    Yes          No  Female  80 or older  White   \n",
       "2                   No     No          No    Male        65-69  White   \n",
       "3                   No     No          No  Female        75-79  White   \n",
       "4                   No     No         Yes  Female        40-44  White   \n",
       "...                ...    ...         ...     ...          ...    ...   \n",
       "584839              No    Yes         Yes    Male  80 or older  White   \n",
       "584840              No     No          No    Male        55-59  White   \n",
       "584841              No     No          No  Female        75-79  White   \n",
       "584842              No     No          No    Male        65-69  White   \n",
       "584843              No     No          No    Male        60-64  White   \n",
       "\n",
       "       Diabetic PhysicalActivity  GenHealth Asthma KidneyDisease SkinCancer  \\\n",
       "0           Yes              Yes  Very good    Yes            No        Yes   \n",
       "1            No              Yes  Very good     No            No         No   \n",
       "2           Yes              Yes       Fair    Yes            No         No   \n",
       "3            No               No       Good     No            No        Yes   \n",
       "4            No              Yes  Very good     No            No         No   \n",
       "...         ...              ...        ...    ...           ...        ...   \n",
       "584839      Yes               No       Fair     No            No        Yes   \n",
       "584840       No              Yes       Good     No            No         No   \n",
       "584841       No              Yes       Good     No            No         No   \n",
       "584842       No              Yes       Good     No            No         No   \n",
       "584843      Yes              Yes       Poor    Yes            No         No   \n",
       "\n",
       "       HeartDisease  \n",
       "0                No  \n",
       "1                No  \n",
       "2                No  \n",
       "3                No  \n",
       "4                No  \n",
       "...             ...  \n",
       "584839          Yes  \n",
       "584840          Yes  \n",
       "584841          Yes  \n",
       "584842          Yes  \n",
       "584843          Yes  \n",
       "\n",
       "[584844 rows x 18 columns]"
      ]
     },
     "execution_count": 3,
     "metadata": {},
     "output_type": "execute_result"
    }
   ],
   "source": [
    "data = pd.read_csv('heart_2020_oversampled.csv')\n",
    "data"
   ]
  },
  {
   "cell_type": "code",
   "execution_count": 4,
   "id": "18eab2ae",
   "metadata": {},
   "outputs": [
    {
     "data": {
      "text/plain": [
       "Index(['BMI', 'PhysicalHealth', 'MentalHealth', 'SleepTime', 'Smoking',\n",
       "       'AlcoholDrinking', 'Stroke', 'DiffWalking', 'Sex', 'AgeCategory',\n",
       "       'Race', 'Diabetic', 'PhysicalActivity', 'GenHealth', 'Asthma',\n",
       "       'KidneyDisease', 'SkinCancer', 'HeartDisease'],\n",
       "      dtype='object')"
      ]
     },
     "execution_count": 4,
     "metadata": {},
     "output_type": "execute_result"
    }
   ],
   "source": [
    "data.columns"
   ]
  },
  {
   "cell_type": "code",
   "execution_count": 16,
   "id": "ac3bde21",
   "metadata": {},
   "outputs": [
    {
     "data": {
      "text/plain": [
       "HeartDisease\n",
       "Yes    292422\n",
       "Name: Smoking, dtype: int64"
      ]
     },
     "execution_count": 16,
     "metadata": {},
     "output_type": "execute_result"
    }
   ],
   "source": [
    "data[data['HeartDisease']=='Yes'].groupby(['HeartDisease']).Smoking.count()"
   ]
  },
  {
   "cell_type": "code",
   "execution_count": 14,
   "id": "bc97f9d3",
   "metadata": {},
   "outputs": [
    {
     "data": {
      "text/plain": [
       "HeartDisease\n",
       "Yes    157828\n",
       "Name: Smoking, dtype: int64"
      ]
     },
     "execution_count": 14,
     "metadata": {},
     "output_type": "execute_result"
    }
   ],
   "source": [
    "data[(data['HeartDisease']=='Yes') & (data['Smoking']=='Yes') ].groupby(['HeartDisease']).Smoking.count()"
   ]
  },
  {
   "cell_type": "markdown",
   "id": "65cb3db7",
   "metadata": {},
   "source": [
    "53.97%"
   ]
  },
  {
   "cell_type": "code",
   "execution_count": 17,
   "id": "cc0c68fe",
   "metadata": {},
   "outputs": [
    {
     "data": {
      "text/plain": [
       "HeartDisease\n",
       "Yes    4212\n",
       "Name: AlcoholDrinking, dtype: int64"
      ]
     },
     "execution_count": 17,
     "metadata": {},
     "output_type": "execute_result"
    }
   ],
   "source": [
    "data[(data['HeartDisease']=='Yes') & (data['AlcoholDrinking']=='Yes') ].groupby(['HeartDisease']).AlcoholDrinking.count()"
   ]
  },
  {
   "cell_type": "markdown",
   "id": "694b7a88",
   "metadata": {},
   "source": [
    "1.44%"
   ]
  },
  {
   "cell_type": "code",
   "execution_count": 19,
   "id": "543ec938",
   "metadata": {},
   "outputs": [
    {
     "data": {
      "text/plain": [
       "HeartDisease\n",
       "Yes    95529\n",
       "Name: Diabetic, dtype: int64"
      ]
     },
     "execution_count": 19,
     "metadata": {},
     "output_type": "execute_result"
    }
   ],
   "source": [
    "data[(data['HeartDisease']=='Yes') & (data['Diabetic']=='Yes') ].groupby(['HeartDisease']).Diabetic.count()"
   ]
  },
  {
   "cell_type": "markdown",
   "id": "e656dbbb",
   "metadata": {},
   "source": [
    "32.67%"
   ]
  },
  {
   "cell_type": "code",
   "execution_count": 20,
   "id": "58c8bc0e",
   "metadata": {},
   "outputs": [
    {
     "data": {
      "text/plain": [
       "HeartDisease\n",
       "Yes    39116\n",
       "Name: SkinCancer, dtype: int64"
      ]
     },
     "execution_count": 20,
     "metadata": {},
     "output_type": "execute_result"
    }
   ],
   "source": [
    "data[(data['HeartDisease']=='Yes') & (data['SkinCancer']=='Yes') ].groupby(['HeartDisease']).SkinCancer.count()"
   ]
  },
  {
   "cell_type": "code",
   "execution_count": 32,
   "id": "678877cf",
   "metadata": {},
   "outputs": [
    {
     "data": {
      "text/plain": [
       "0          3.000000\n",
       "1          0.000000\n",
       "2         20.000000\n",
       "3          0.000000\n",
       "4         28.000000\n",
       "            ...    \n",
       "584839    18.872095\n",
       "584840     0.000000\n",
       "584841     9.544908\n",
       "584842     0.000000\n",
       "584843    15.000000\n",
       "Name: PhysicalHealth, Length: 584844, dtype: float64"
      ]
     },
     "execution_count": 32,
     "metadata": {},
     "output_type": "execute_result"
    }
   ],
   "source": [
    "data['PhysicalHealth']"
   ]
  },
  {
   "cell_type": "code",
   "execution_count": 27,
   "id": "082f9274",
   "metadata": {},
   "outputs": [
    {
     "data": {
      "text/plain": [
       "HeartDisease\n",
       "Yes    174625\n",
       "Name: MentalHealth, dtype: int64"
      ]
     },
     "execution_count": 27,
     "metadata": {},
     "output_type": "execute_result"
    }
   ],
   "source": [
    "data[(data['HeartDisease']=='Yes') & (data['MentalHealth']==0) ].groupby(['HeartDisease']).MentalHealth.count()"
   ]
  },
  {
   "cell_type": "markdown",
   "id": "2fd0d06c",
   "metadata": {},
   "source": [
    "59.72%"
   ]
  },
  {
   "cell_type": "code",
   "execution_count": 28,
   "id": "9ce5d30e",
   "metadata": {},
   "outputs": [
    {
     "data": {
      "text/plain": [
       "HeartDisease\n",
       "Yes    21441\n",
       "Name: MentalHealth, dtype: int64"
      ]
     },
     "execution_count": 28,
     "metadata": {},
     "output_type": "execute_result"
    }
   ],
   "source": [
    "data[(data['HeartDisease']=='Yes') & (data['MentalHealth']==30) ].groupby(['HeartDisease']).MentalHealth.count()"
   ]
  },
  {
   "cell_type": "markdown",
   "id": "5f98f847",
   "metadata": {},
   "source": [
    "7.3%"
   ]
  },
  {
   "cell_type": "code",
   "execution_count": 33,
   "id": "a807d129",
   "metadata": {},
   "outputs": [
    {
     "data": {
      "text/plain": [
       "HeartDisease\n",
       "Yes    133383\n",
       "Name: PhysicalHealth, dtype: int64"
      ]
     },
     "execution_count": 33,
     "metadata": {},
     "output_type": "execute_result"
    }
   ],
   "source": [
    "data[(data['HeartDisease']=='Yes') & (data['PhysicalHealth']==0) ].groupby(['HeartDisease']).PhysicalHealth.count()"
   ]
  },
  {
   "cell_type": "markdown",
   "id": "66620496",
   "metadata": {},
   "source": [
    "45.61%"
   ]
  }
 ],
 "metadata": {
  "kernelspec": {
   "display_name": "Python 3 (ipykernel)",
   "language": "python",
   "name": "python3"
  },
  "language_info": {
   "codemirror_mode": {
    "name": "ipython",
    "version": 3
   },
   "file_extension": ".py",
   "mimetype": "text/x-python",
   "name": "python",
   "nbconvert_exporter": "python",
   "pygments_lexer": "ipython3",
   "version": "3.8.8"
  }
 },
 "nbformat": 4,
 "nbformat_minor": 5
}
