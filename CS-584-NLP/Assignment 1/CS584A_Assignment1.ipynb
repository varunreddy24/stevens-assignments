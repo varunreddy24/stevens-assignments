{
 "cells": [
  {
   "cell_type": "markdown",
   "metadata": {},
   "source": [
    "# CS 584 Assignment 1 -- Text Classification (Machine Learning and NLP Basics)\n",
    "\n",
    "#### Name: Varun Kumar Reddy D"
   ]
  },
  {
   "cell_type": "markdown",
   "metadata": {},
   "source": [
    "## In this assignment, you are required to follow the steps below:\n",
    "1. Review the lecture slides.\n",
    "2. Implement the preprocessing.\n",
    "3. Implement tokenization.\n",
    "4. Implement feature extraction.\n",
    "5. Implement Logistic Regression.\n",
    "6. Implement Stochastic Gradient Descent and Mini-batch Gradient Descent.\n",
    "7. Evaluate all the experiments and compare all the results.\n",
    "\n",
    "*** Please read the code very carefully and install these packages (NumPy, Pandas, sklearn, tqdm, and matplotlib) before you start ***"
   ]
  },
  {
   "cell_type": "markdown",
   "metadata": {},
   "source": [
    "## 1. Data Processing (30 points)\n",
    "\n",
    "* Download the dataset from Canvas\n",
    "* Load data by using Pandas\n",
    "* Preprocessing\n",
    "* Tokenization\n",
    "* Split data\n",
    "* Feature extraction (TF-IDF)"
   ]
  },
  {
   "cell_type": "markdown",
   "metadata": {},
   "source": [
    "### 1.1 Load Data\n",
    "\n",
    "Run the following cells (Please make sure the paths of data files are correct.)"
   ]
  },
  {
   "cell_type": "code",
   "execution_count": 1,
   "metadata": {},
   "outputs": [
    {
     "data": {
      "text/html": [
       "<div>\n",
       "<style scoped>\n",
       "    .dataframe tbody tr th:only-of-type {\n",
       "        vertical-align: middle;\n",
       "    }\n",
       "\n",
       "    .dataframe tbody tr th {\n",
       "        vertical-align: top;\n",
       "    }\n",
       "\n",
       "    .dataframe thead th {\n",
       "        text-align: right;\n",
       "    }\n",
       "</style>\n",
       "<table border=\"1\" class=\"dataframe\">\n",
       "  <thead>\n",
       "    <tr style=\"text-align: right;\">\n",
       "      <th></th>\n",
       "      <th>label</th>\n",
       "      <th>title</th>\n",
       "      <th>text</th>\n",
       "    </tr>\n",
       "  </thead>\n",
       "  <tbody>\n",
       "    <tr>\n",
       "      <th>0</th>\n",
       "      <td>3</td>\n",
       "      <td>Wall St. Bears Claw Back Into the Black (Reuters)</td>\n",
       "      <td>Reuters - Short-sellers, Wall Street's dwindli...</td>\n",
       "    </tr>\n",
       "    <tr>\n",
       "      <th>1</th>\n",
       "      <td>3</td>\n",
       "      <td>Carlyle Looks Toward Commercial Aerospace (Reu...</td>\n",
       "      <td>Reuters - Private investment firm Carlyle Grou...</td>\n",
       "    </tr>\n",
       "    <tr>\n",
       "      <th>2</th>\n",
       "      <td>3</td>\n",
       "      <td>Oil and Economy Cloud Stocks' Outlook (Reuters)</td>\n",
       "      <td>Reuters - Soaring crude prices plus worries\\ab...</td>\n",
       "    </tr>\n",
       "    <tr>\n",
       "      <th>3</th>\n",
       "      <td>3</td>\n",
       "      <td>Iraq Halts Oil Exports from Main Southern Pipe...</td>\n",
       "      <td>Reuters - Authorities have halted oil export\\f...</td>\n",
       "    </tr>\n",
       "    <tr>\n",
       "      <th>4</th>\n",
       "      <td>3</td>\n",
       "      <td>Oil prices soar to all-time record, posing new...</td>\n",
       "      <td>AFP - Tearaway world oil prices, toppling reco...</td>\n",
       "    </tr>\n",
       "  </tbody>\n",
       "</table>\n",
       "</div>"
      ],
      "text/plain": [
       "   label                                              title  \\\n",
       "0      3  Wall St. Bears Claw Back Into the Black (Reuters)   \n",
       "1      3  Carlyle Looks Toward Commercial Aerospace (Reu...   \n",
       "2      3    Oil and Economy Cloud Stocks' Outlook (Reuters)   \n",
       "3      3  Iraq Halts Oil Exports from Main Southern Pipe...   \n",
       "4      3  Oil prices soar to all-time record, posing new...   \n",
       "\n",
       "                                                text  \n",
       "0  Reuters - Short-sellers, Wall Street's dwindli...  \n",
       "1  Reuters - Private investment firm Carlyle Grou...  \n",
       "2  Reuters - Soaring crude prices plus worries\\ab...  \n",
       "3  Reuters - Authorities have halted oil export\\f...  \n",
       "4  AFP - Tearaway world oil prices, toppling reco...  "
      ]
     },
     "execution_count": 1,
     "metadata": {},
     "output_type": "execute_result"
    }
   ],
   "source": [
    "import pandas as pd\n",
    "\n",
    "train_df = pd.read_csv('./data/train.csv', header=None)\n",
    "train_df.columns = ['label', 'title', 'text']\n",
    "train_df.head()"
   ]
  },
  {
   "cell_type": "code",
   "execution_count": 2,
   "metadata": {},
   "outputs": [
    {
     "data": {
      "text/html": [
       "<div>\n",
       "<style scoped>\n",
       "    .dataframe tbody tr th:only-of-type {\n",
       "        vertical-align: middle;\n",
       "    }\n",
       "\n",
       "    .dataframe tbody tr th {\n",
       "        vertical-align: top;\n",
       "    }\n",
       "\n",
       "    .dataframe thead th {\n",
       "        text-align: right;\n",
       "    }\n",
       "</style>\n",
       "<table border=\"1\" class=\"dataframe\">\n",
       "  <thead>\n",
       "    <tr style=\"text-align: right;\">\n",
       "      <th></th>\n",
       "      <th>label</th>\n",
       "      <th>title</th>\n",
       "      <th>text</th>\n",
       "    </tr>\n",
       "  </thead>\n",
       "  <tbody>\n",
       "    <tr>\n",
       "      <th>0</th>\n",
       "      <td>3</td>\n",
       "      <td>Fears for T N pension after talks</td>\n",
       "      <td>Unions representing workers at Turner   Newall...</td>\n",
       "    </tr>\n",
       "    <tr>\n",
       "      <th>1</th>\n",
       "      <td>4</td>\n",
       "      <td>The Race is On: Second Private Team Sets Launc...</td>\n",
       "      <td>SPACE.com - TORONTO, Canada -- A second\\team o...</td>\n",
       "    </tr>\n",
       "    <tr>\n",
       "      <th>2</th>\n",
       "      <td>4</td>\n",
       "      <td>Ky. Company Wins Grant to Study Peptides (AP)</td>\n",
       "      <td>AP - A company founded by a chemistry research...</td>\n",
       "    </tr>\n",
       "    <tr>\n",
       "      <th>3</th>\n",
       "      <td>4</td>\n",
       "      <td>Prediction Unit Helps Forecast Wildfires (AP)</td>\n",
       "      <td>AP - It's barely dawn when Mike Fitzpatrick st...</td>\n",
       "    </tr>\n",
       "    <tr>\n",
       "      <th>4</th>\n",
       "      <td>4</td>\n",
       "      <td>Calif. Aims to Limit Farm-Related Smog (AP)</td>\n",
       "      <td>AP - Southern California's smog-fighting agenc...</td>\n",
       "    </tr>\n",
       "  </tbody>\n",
       "</table>\n",
       "</div>"
      ],
      "text/plain": [
       "   label                                              title  \\\n",
       "0      3                  Fears for T N pension after talks   \n",
       "1      4  The Race is On: Second Private Team Sets Launc...   \n",
       "2      4      Ky. Company Wins Grant to Study Peptides (AP)   \n",
       "3      4      Prediction Unit Helps Forecast Wildfires (AP)   \n",
       "4      4        Calif. Aims to Limit Farm-Related Smog (AP)   \n",
       "\n",
       "                                                text  \n",
       "0  Unions representing workers at Turner   Newall...  \n",
       "1  SPACE.com - TORONTO, Canada -- A second\\team o...  \n",
       "2  AP - A company founded by a chemistry research...  \n",
       "3  AP - It's barely dawn when Mike Fitzpatrick st...  \n",
       "4  AP - Southern California's smog-fighting agenc...  "
      ]
     },
     "execution_count": 2,
     "metadata": {},
     "output_type": "execute_result"
    }
   ],
   "source": [
    "test_df = pd.read_csv('./data/test.csv', header=None)\n",
    "test_df.columns = ['label', 'title', 'text']\n",
    "test_df.head()"
   ]
  },
  {
   "cell_type": "markdown",
   "metadata": {},
   "source": [
    "### 1.2 Preprocess (Fill the code: 10 points)\n",
    "In this section, you need to remove all the unrelated characters, including punctuation, urls, and numbers. Please fill up the functions and test them by running the following cell."
   ]
  },
  {
   "cell_type": "code",
   "execution_count": 3,
   "metadata": {},
   "outputs": [],
   "source": [
    "import re\n",
    "import string\n",
    "\n",
    "class Preprocesser(object):\n",
    "    def __init__(self, punctuation=True, url=True, number=True):\n",
    "        self.punctuation = punctuation\n",
    "        self.url = url\n",
    "        self.number = number\n",
    "    \n",
    "    def apply(self, text):\n",
    "        \n",
    "        text = self._lowercase(text)\n",
    "        \n",
    "        if self.url:\n",
    "            text = self._remove_url(text)\n",
    "            \n",
    "        if self.punctuation:\n",
    "            text = self._remove_punctuation(text)\n",
    "            \n",
    "        if self.number:\n",
    "            text = self._remove_number(text)\n",
    "        \n",
    "        text = re.sub(r'\\s+', ' ', text)\n",
    "            \n",
    "        return text\n",
    "    \n",
    "        \n",
    "    def _remove_punctuation(self, text):\n",
    "        ''' Please fill this function to remove all the punctuations in the text\n",
    "        '''\n",
    "        ### Start your code\n",
    "        text = text.translate(str.maketrans('','', string.punctuation))     \n",
    "        ### End\n",
    "        \n",
    "        return text\n",
    "    \n",
    "    def _remove_url(self, text):\n",
    "        ''' Please fill this function to remove all the urls in the text\n",
    "        '''\n",
    "        ### Start your code\n",
    "        url_pattern = re.compile(\"(https?:\\/\\/(?:www\\.|(?!www))[a-zA-Z0-9][a-zA-Z0-9-]+[a-zA-Z0-9]\\.[^\\s]{2,}|www\\.[a-zA-Z0-9][a-zA-Z0-9-]+[a-zA-Z0-9]\\.[^\\s]{2,}|https?:\\/\\/(?:www\\.|(?!www))[a-zA-Z0-9]+\\.[^\\s]{2,}|www\\.[a-zA-Z0-9]+\\.[^\\s]{2,})\")\n",
    "        text = url_pattern.sub('', text)\n",
    "        ### End\n",
    "        \n",
    "        return text\n",
    "    \n",
    "    def _remove_number(self, text):\n",
    "        ''' Please fill this function to remove all the numbers in the text\n",
    "        '''\n",
    "        \n",
    "        ### Start your code\n",
    "        text = text.translate(str.maketrans('','',string.digits))\n",
    "        ### End\n",
    "        \n",
    "        return text\n",
    "    \n",
    "    def _lowercase(self, text):\n",
    "        ''' Please fill this function to lowercase the text\n",
    "        '''\n",
    "        \n",
    "        ### Start your code\n",
    "        text = text.lower()\n",
    "        ### End\n",
    "        \n",
    "        return text"
   ]
  },
  {
   "cell_type": "markdown",
   "metadata": {},
   "source": [
    "##### Test your implementation by running the following cell."
   ]
  },
  {
   "cell_type": "code",
   "execution_count": 4,
   "metadata": {},
   "outputs": [
    {
     "name": "stdout",
     "output_type": "stream",
     "text": [
      "\"Interest rates are trimmed to 7.5 by the South African central bank (https://www.xxx.xxx), but the lack of warning hits the rand and surprises markets.\"\n",
      "===>\n",
      "\"interest rates are trimmed to by the south african central bank but the lack of warning hits the rand and surprises markets\"\n"
     ]
    }
   ],
   "source": [
    "text = \"Interest rates are trimmed to 7.5 by the South African central bank (https://www.xxx.xxx), but the lack of warning hits the rand and surprises markets.\"\n",
    "\n",
    "processer = Preprocesser()\n",
    "clean_text = processer.apply(text)\n",
    "\n",
    "print(f'\"{text}\"') \n",
    "print('===>')\n",
    "print(f'\"{clean_text}\"')"
   ]
  },
  {
   "cell_type": "markdown",
   "metadata": {},
   "source": [
    "### 1.3 Tokenization (Fill the code: 5 points)"
   ]
  },
  {
   "cell_type": "code",
   "execution_count": 5,
   "metadata": {},
   "outputs": [],
   "source": [
    "import nltk\n",
    "\n",
    "def tokenize(text):\n",
    "    ''' Please fill this function to tokenize text.\n",
    "            1. Tokenize the text.\n",
    "            2. Remove stop words.\n",
    "            3. Optional: lemmatize words accordingly.\n",
    "    '''\n",
    "    \n",
    "    ### Start your code\n",
    "    tokens = nltk.tokenize.word_tokenize(text)\n",
    "    stopwords = nltk.corpus.stopwords.words('english')\n",
    "    tokens = [token for token in tokens if token not in stopwords]\n",
    "    lemmatizer = nltk.stem.WordNetLemmatizer()\n",
    "    tokens = [lemmatizer.lemmatize(token) for token in tokens]\n",
    "    ### End\n",
    "    \n",
    "    return tokens"
   ]
  },
  {
   "cell_type": "markdown",
   "metadata": {},
   "source": [
    "##### Test your implementation by running the following cell."
   ]
  },
  {
   "cell_type": "code",
   "execution_count": 6,
   "metadata": {},
   "outputs": [
    {
     "name": "stdout",
     "output_type": "stream",
     "text": [
      "Interest rates are trimmed to 7.5 by the South African central bank (https://www.xxx.xxx), but the lack of warning hits the rand and surprises markets. ==> ['interest', 'rate', 'trimmed', 'south', 'african', 'central', 'bank', 'lack', 'warning', 'hit', 'rand', 'surprise', 'market']\n"
     ]
    }
   ],
   "source": [
    "text = \"Interest rates are trimmed to 7.5 by the South African central bank (https://www.xxx.xxx), but the lack of warning hits the rand and surprises markets.\"\n",
    "\n",
    "processer = Preprocesser()\n",
    "clean_text = processer.apply(text)\n",
    "tokens = tokenize(clean_text)\n",
    "\n",
    "print(f'{text} ==> {tokens}')"
   ]
  },
  {
   "cell_type": "markdown",
   "metadata": {},
   "source": [
    "### 1.4 Data split (Fill the code: 5 points)"
   ]
  },
  {
   "cell_type": "code",
   "execution_count": 7,
   "metadata": {},
   "outputs": [
    {
     "name": "stdout",
     "output_type": "stream",
     "text": [
      "The size of training set: 90000\n",
      "The size of validation set: 30000\n",
      "The size of test set: 7600\n"
     ]
    }
   ],
   "source": [
    "from sklearn.model_selection import train_test_split\n",
    "\n",
    "text_train = train_df['text'].values.astype(str)\n",
    "label_train = train_df['label'].values.astype(int) - 1 # -1 because labels start from 1\n",
    "\n",
    "text_test = test_df['text'].values.astype(str)\n",
    "label_test = test_df['label'].values.astype(int) - 1 # -1 because labels start from 1\n",
    "\n",
    "\n",
    "### Start your code, split the text_train and label_train into training and validation\n",
    "### Make sure the names of varables are \"text_train\", \"label_train\", \"text_valid\", and \"label_valid\"\n",
    "\n",
    "text_train, text_valid, label_train, label_valid = train_test_split(text_train, label_train, shuffle=False)\n",
    "### End\n",
    "\n",
    "print('The size of training set:', text_train.shape[0])\n",
    "print('The size of validation set:', text_valid.shape[0])\n",
    "print('The size of test set:', text_test.shape[0])"
   ]
  },
  {
   "cell_type": "markdown",
   "metadata": {},
   "source": [
    "### 1.5 Feature Extraction (Fill the code: 10 points)"
   ]
  },
  {
   "cell_type": "code",
   "execution_count": 8,
   "metadata": {},
   "outputs": [],
   "source": [
    "from collections import defaultdict, Counter\n",
    "import numpy as np\n",
    "from tqdm.notebook import tqdm\n",
    "\n",
    "class TfIdfExtractor(object):\n",
    "    \n",
    "    def __init__(self, vocab_size=None):\n",
    "        self.vocab_size = vocab_size\n",
    "        \n",
    "        self.vocab = defaultdict(lambda: 0)\n",
    "        self.word2idx = {}\n",
    "        self.df = defaultdict(lambda: 0)\n",
    "        self.num_doc = 0\n",
    "        \n",
    "        self.processer = Preprocesser()\n",
    "        \n",
    "        \n",
    "    def fit(self, texts):\n",
    "        ''' In this function, you are required to implement the fitting process.\n",
    "                1. Construct the vocabulary (self.vocab).\n",
    "                2. Construct the document frequency dictionary (self.df).\n",
    "                3. Sort the vocabulary based on the frequency (self.vocab).\n",
    "            Input:\n",
    "                texts: a list of text (training set)\n",
    "            Output:\n",
    "                None\n",
    "        '''\n",
    "        self.num_doc = len(texts)\n",
    "        \n",
    "        for text in tqdm(texts, desc='fitting text'):\n",
    "            clean_text = self.processer.apply(text)\n",
    "            tokens = tokenize(clean_text)\n",
    "            \n",
    "            ### Start your code (step 1 & 2)\n",
    "            tokens_counter = Counter(tokens)\n",
    "            for i,j in tokens_counter.items():\n",
    "                self.vocab[i] += j\n",
    "                self.df[i] += 1\n",
    "            ### End\n",
    "        \n",
    "        ### Start your code (Step 3)\n",
    "        self.vocab = {i:j for i,j in sorted(self.vocab.items(), key=lambda x:x[1], reverse=True)}\n",
    "        ### End\n",
    "        \n",
    "        if self.vocab_size is not None:\n",
    "            self.vocab = {key: self.vocab[key] for key in list(self.vocab.keys())[:self.vocab_size]}\n",
    "        \n",
    "        self.word2idx = {key: idx for idx, key in enumerate(self.vocab.keys())}\n",
    "\n",
    "\n",
    "    def transform(self, texts):\n",
    "        ''' In this function, you need to encode the input text into TF-IDF vector.\n",
    "            Input:\n",
    "                texts: a list of text.\n",
    "            Ouput:\n",
    "                a N-d matrix (Tf-Idf) \n",
    "        '''\n",
    "        tfidf = np.zeros((len(texts), len(self.vocab)))\n",
    "        \n",
    "        for i, text in tqdm(enumerate(texts), desc='transforming', total=len(texts)):\n",
    "            clean_text = self.processer.apply(text)\n",
    "            tokens = tokenize(clean_text)\n",
    "            \n",
    "            ### Start your code\n",
    "            tokens_counter = Counter(tokens)\n",
    "\n",
    "            for token, counter in tokens_counter.items():\n",
    "                if token in self.vocab:\n",
    "                    tfidf[i][self.word2idx[token]] = counter/min(len(tokens),self.vocab_size)\n",
    "\n",
    "        idf_values = np.zeros((self.vocab_size))\n",
    "\n",
    "        for i,j in self.df.items():\n",
    "            if i in self.vocab:\n",
    "                idf_values[self.word2idx[i]] = np.log((self.num_doc + 1)/(j + 1))+1\n",
    "                \n",
    "        tfidf = tfidf*idf_values[None:,]\n",
    "            ### End\n",
    "        \n",
    "        return tfidf\n",
    "                "
   ]
  },
  {
   "cell_type": "markdown",
   "metadata": {},
   "source": [
    "##### Test your implementation by running the following cell."
   ]
  },
  {
   "cell_type": "code",
   "execution_count": 9,
   "metadata": {},
   "outputs": [
    {
     "data": {
      "application/vnd.jupyter.widget-view+json": {
       "model_id": "c0f6f86a11f04de9b81ec3687f1f5b18",
       "version_major": 2,
       "version_minor": 0
      },
      "text/plain": [
       "fitting text:   0%|          | 0/100 [00:00<?, ?it/s]"
      ]
     },
     "metadata": {},
     "output_type": "display_data"
    },
    {
     "data": {
      "application/vnd.jupyter.widget-view+json": {
       "model_id": "59f9c382242d48bfb002cf858404975b",
       "version_major": 2,
       "version_minor": 0
      },
      "text/plain": [
       "transforming:   0%|          | 0/10 [00:00<?, ?it/s]"
      ]
     },
     "metadata": {},
     "output_type": "display_data"
    },
    {
     "data": {
      "text/plain": [
       "array([[0.30463334, 0.        , 0.        , 0.        , 0.        ,\n",
       "        0.        , 0.        , 0.        , 0.        , 0.        ],\n",
       "       [0.24370667, 0.        , 0.        , 0.        , 0.31302139,\n",
       "        0.        , 0.        , 0.        , 0.        , 0.        ],\n",
       "       [0.24370667, 0.        , 0.        , 0.        , 0.31302139,\n",
       "        0.        , 0.        , 0.3535679 , 0.34178959, 0.        ],\n",
       "       [0.24370667, 0.        , 0.        , 0.28425318, 0.        ,\n",
       "        0.66250708, 0.        , 0.        , 0.        , 0.        ],\n",
       "       [0.        , 0.27247488, 0.        , 0.        , 0.        ,\n",
       "        0.33125354, 0.        , 0.3535679 , 0.        , 0.        ]])"
      ]
     },
     "execution_count": 9,
     "metadata": {},
     "output_type": "execute_result"
    }
   ],
   "source": [
    "extractor = TfIdfExtractor(vocab_size=10)\n",
    "extractor.fit(text_train[:100])\n",
    "X = extractor.transform(text_train[:10])\n",
    "\n",
    "X[:5]\n"
   ]
  },
  {
   "cell_type": "markdown",
   "metadata": {},
   "source": [
    "#### 1.5.4 Run the following code to obtain the TD-IDF and One-hot labels"
   ]
  },
  {
   "cell_type": "code",
   "execution_count": 10,
   "metadata": {},
   "outputs": [
    {
     "data": {
      "application/vnd.jupyter.widget-view+json": {
       "model_id": "b3c0794c60794a8eb76ce26b22a99def",
       "version_major": 2,
       "version_minor": 0
      },
      "text/plain": [
       "fitting text:   0%|          | 0/90000 [00:00<?, ?it/s]"
      ]
     },
     "metadata": {},
     "output_type": "display_data"
    },
    {
     "data": {
      "application/vnd.jupyter.widget-view+json": {
       "model_id": "7c49668cef024389b79b221536543ec8",
       "version_major": 2,
       "version_minor": 0
      },
      "text/plain": [
       "transforming:   0%|          | 0/90000 [00:00<?, ?it/s]"
      ]
     },
     "metadata": {},
     "output_type": "display_data"
    },
    {
     "data": {
      "application/vnd.jupyter.widget-view+json": {
       "model_id": "8ad350f4bc564d8e831a5277e221d15b",
       "version_major": 2,
       "version_minor": 0
      },
      "text/plain": [
       "transforming:   0%|          | 0/30000 [00:00<?, ?it/s]"
      ]
     },
     "metadata": {},
     "output_type": "display_data"
    },
    {
     "data": {
      "application/vnd.jupyter.widget-view+json": {
       "model_id": "0c601263b6a341f2bc1992f11faccf55",
       "version_major": 2,
       "version_minor": 0
      },
      "text/plain": [
       "transforming:   0%|          | 0/7600 [00:00<?, ?it/s]"
      ]
     },
     "metadata": {},
     "output_type": "display_data"
    },
    {
     "name": "stdout",
     "output_type": "stream",
     "text": [
      "The size of training set: (90000, 4000)\n",
      "The size of validation set: (30000, 4000)\n",
      "The size of test set: (7600, 4000)\n"
     ]
    }
   ],
   "source": [
    "# You can change this number to see the difference of the performances. (larger vocab size needs more memory)\n",
    "vocab_size = 4000 \n",
    "num_class = 4\n",
    "\n",
    "extractor = TfIdfExtractor(vocab_size=vocab_size)\n",
    "extractor.fit(text_train)\n",
    "\n",
    "x_train = extractor.transform(text_train)\n",
    "x_valid = extractor.transform(text_valid)\n",
    "x_test = extractor.transform(text_test)\n",
    "\n",
    "\n",
    "# convert label to one-hot vector\n",
    "y_train = np.zeros((label_train.shape[0], num_class))\n",
    "y_train[np.arange(label_train.shape[0]), label_train] = 1\n",
    "\n",
    "y_valid = np.zeros((label_valid.shape[0], num_class))\n",
    "y_valid[np.arange(label_valid.shape[0]), label_valid] = 1\n",
    "\n",
    "y_test = np.zeros((label_test.shape[0], num_class))\n",
    "y_test[np.arange(label_test.shape[0]), label_test] = 1\n",
    "\n",
    "\n",
    "print('The size of training set:', x_train.shape)\n",
    "print('The size of validation set:', x_valid.shape)\n",
    "print('The size of test set:', x_test.shape)"
   ]
  },
  {
   "cell_type": "markdown",
   "metadata": {},
   "source": [
    "## 2. Logistic Regression (60 points)\n",
    "In this section, you are required to implement a Logistic Regression(LR) model with $L_2$ regularization from scratch. \n",
    "\n",
    "\n",
    "The objective function of LR:\n",
    "\n",
    "<center> $J = -\\frac{1}{N}\\sum_{i=1}^{N}\\sum_{k=1}^{K}y_{ik}log\\frac{e^{f_k}}{\\sum_{c=1}^{K}e^{f_c}} + \\lambda \\sum_{j=1}^{d}w_{kj}^2$ </center>\n",
    "\n",
    "**Deliverable 1**: Given the objective function, please show the steps to derive the graident of J with respecty of $w_k$. You can either list the steps in the notebook or submit a pdf with all the steps in the submission. **(10 points)**"
   ]
  },
  {
   "cell_type": "markdown",
   "metadata": {},
   "source": [
    "### 2.1 LR and softmax function (Fill the code, 20 points)"
   ]
  },
  {
   "cell_type": "code",
   "execution_count": 11,
   "metadata": {},
   "outputs": [],
   "source": [
    "def softmax(x):\n",
    "    ''' Compute the softmax function for each row of the input x.\n",
    "        \n",
    "        Inputs:\n",
    "            x: A D dimensional vector or N x D dimensional numpy matrix.\n",
    "        Outputs:\n",
    "            x: You are allowed to modify x in-place\n",
    "    '''\n",
    "    ### Start your code\n",
    "    x = np.exp(x)/np.sum(np.exp(x), axis=1, keepdims=True)\n",
    "    ### End\n",
    "\n",
    "    return x\n",
    "\n",
    "\n",
    "class LogisticRegression(object):\n",
    "    \n",
    "    def __init__(self, vocab_size, num_class, lam):\n",
    "        self.vocab_size = vocab_size\n",
    "        self.num_class = num_class\n",
    "        self.lam = lam\n",
    "        \n",
    "        ### Start your code (initialize weight(w) and bias(b))\n",
    "        ### hint: you could use np.random.rand() to randomly initialize the parameters\n",
    "        self.w = np.random.rand(self.num_class, self.vocab_size)\n",
    "        self.b = np.random.rand(self.num_class)\n",
    "        ### End\n",
    "        \n",
    "    def objective(self, x, y):\n",
    "        ''' Implement the objective function\n",
    "            Inputs:\n",
    "                x: N-d matrix\n",
    "                y: N-K matrix\n",
    "            Output:\n",
    "                the objective value of LR (scalar)\n",
    "        '''\n",
    "        loss = 0\n",
    "        \n",
    "        ### Start your code\n",
    "        h = softmax(np.matmul(x,self.w.T) + self.b)\n",
    "        loss = (-1/x.shape[0])*np.sum(y*np.log(h)) + self.lam*np.sum(self.w**2)\n",
    "        ### End\n",
    "        \n",
    "        return loss\n",
    "        \n",
    "    \n",
    "    def gradient(self, x, y):\n",
    "        ''' Implement the gradient of J with respect to w (in Deliverable 1)\n",
    "            Inputs:\n",
    "                x: N-d matrix\n",
    "                y: N-K matrix\n",
    "            Output:\n",
    "                w_grad: the gradient of J w.r.t weight\n",
    "                b_grad: the gradient of J w.r.t bias (K dimensional vector)\n",
    "        '''\n",
    "\n",
    "        n = x.shape[0]\n",
    "        \n",
    "        w_grad = 0. # 0 is just a placeholder, it should be a d-K matrix\n",
    "        b_grad = 0. # 0 is just a placeholder, it should be a K dimensional matrix\n",
    "        \n",
    "        ### Start your code\n",
    "        h = softmax(np.dot(x,self.w.T) + self.b)\n",
    "        w_grad = (1/n)*np.matmul((h-y).T,x) + 2*self.lam*self.w\n",
    "        b_grad = (1/n)*np.sum((h-y),axis=0)\n",
    "        ### End\n",
    "        \n",
    "        return w_grad, b_grad\n",
    "    \n",
    "    \n",
    "    def gradient_descent(self, w_grad, b_grad, lr):\n",
    "        ''' Implement the graident descent. \n",
    "            Updating weights and bias based on Equation: w = w - learning_rate * gradient)\n",
    "            \n",
    "            Inputs:\n",
    "                w_grad: a matrix which is the gradient of J w.r.t to weight\n",
    "                b_grad: a vector wich is the graident of J w.r.t to bias\n",
    "            Output:\n",
    "                None\n",
    "        '''\n",
    "        \n",
    "        ### Start your code\n",
    "        self.w = self.w - lr*w_grad\n",
    "        self.b = self.b - lr*b_grad\n",
    "        ### End\n",
    "        \n",
    "\n",
    "    \n",
    "    def predict(self, x):\n",
    "        y_hat = softmax(np.matmul(x, self.w.T)+self.b).squeeze()\n",
    "        return np.argmax(y_hat, axis=-1)"
   ]
  },
  {
   "cell_type": "markdown",
   "metadata": {},
   "source": [
    "### 2.2 Stochastic Gradient Descent (SGD) (Fill the code, 15 points)"
   ]
  },
  {
   "cell_type": "code",
   "execution_count": 12,
   "metadata": {},
   "outputs": [],
   "source": [
    "def sgd(model:LogisticRegression , X, y, X_valid, y_valid, lr, lam, num_epoch=100, progress_bar=True):\n",
    "    ''' Implement SGD\n",
    "        Inputs:\n",
    "            X: N-d matrix\n",
    "            y: N-K matrix\n",
    "            lr: learning rate\n",
    "            lam: lambda\n",
    "            num_epoch: the number of epochs\n",
    "        Output:\n",
    "            1. A list of training losses against epoch\n",
    "            2. A list of validation losses against epoch\n",
    "    '''\n",
    "    train_losses = []\n",
    "    valid_losses = []\n",
    "    \n",
    "    n, _ = X.shape\n",
    "    \n",
    "    for e in range(num_epoch):\n",
    "        train_loss = 0.\n",
    "        \n",
    "        ### Start your code here (Please implement SGD and obtain the training loss)\n",
    "        losses = []\n",
    "        for i in tqdm(range(n), desc='Epoch %d/%d: \\t'%(e+1, num_epoch), total=n, display=progress_bar):\n",
    "            train_loss += model.objective(X[i].reshape(1,-1), y[i].reshape(1,-1))\n",
    "            w_grad, b_grad = model.gradient(X[i].reshape(1,-1), y[i].reshape(1,-1))\n",
    "            model.gradient_descent(w_grad, b_grad, lr)\n",
    "        train_loss /= n\n",
    "        ### End\n",
    "        \n",
    "        valid_loss = 0.\n",
    "        \n",
    "        ### Start your code (Using validation set to obtain the validation loss)\n",
    "        valid_loss = model.objective(X_valid,y_valid)\n",
    "        ### End\n",
    "        \n",
    "        \n",
    "        print(f'At epoch {e+1}, training loss: {train_loss:.4f}, validation loss: {valid_loss:.4f}.')\n",
    "        train_losses.append(train_loss)\n",
    "        # train_losses.append(np.mean(losses))\n",
    "        valid_losses.append(valid_loss)\n",
    "        # valid_losses.append(np.mean(losses))\n",
    "\n",
    "            \n",
    "    return train_losses, valid_losses"
   ]
  },
  {
   "cell_type": "markdown",
   "id": "65ae6038",
   "metadata": {},
   "source": [
    "Run SGD"
   ]
  },
  {
   "cell_type": "code",
   "execution_count": 13,
   "metadata": {},
   "outputs": [
    {
     "data": {
      "application/vnd.jupyter.widget-view+json": {
       "model_id": "52046aad9f7e46d88396aa5cd141ec87",
       "version_major": 2,
       "version_minor": 0
      },
      "text/plain": [
       "Epoch 1/20: \t:   0%|          | 0/90000 [00:00<?, ?it/s]"
      ]
     },
     "metadata": {},
     "output_type": "display_data"
    },
    {
     "name": "stdout",
     "output_type": "stream",
     "text": [
      "At epoch 1, training loss: 1.3152, validation loss: 1.2330.\n"
     ]
    },
    {
     "data": {
      "application/vnd.jupyter.widget-view+json": {
       "model_id": "2ef0528efe6440e1889ba3d56a0eb55c",
       "version_major": 2,
       "version_minor": 0
      },
      "text/plain": [
       "Epoch 2/20: \t:   0%|          | 0/90000 [00:00<?, ?it/s]"
      ]
     },
     "metadata": {},
     "output_type": "display_data"
    },
    {
     "name": "stdout",
     "output_type": "stream",
     "text": [
      "At epoch 2, training loss: 1.1373, validation loss: 1.0904.\n"
     ]
    },
    {
     "data": {
      "application/vnd.jupyter.widget-view+json": {
       "model_id": "5ae4500893e04044ac07d1136dba7585",
       "version_major": 2,
       "version_minor": 0
      },
      "text/plain": [
       "Epoch 3/20: \t:   0%|          | 0/90000 [00:00<?, ?it/s]"
      ]
     },
     "metadata": {},
     "output_type": "display_data"
    },
    {
     "name": "stdout",
     "output_type": "stream",
     "text": [
      "At epoch 3, training loss: 1.0061, validation loss: 0.9837.\n"
     ]
    },
    {
     "data": {
      "application/vnd.jupyter.widget-view+json": {
       "model_id": "eb20cc64dbc64b03abbbbeb39e9c0201",
       "version_major": 2,
       "version_minor": 0
      },
      "text/plain": [
       "Epoch 4/20: \t:   0%|          | 0/90000 [00:00<?, ?it/s]"
      ]
     },
     "metadata": {},
     "output_type": "display_data"
    },
    {
     "name": "stdout",
     "output_type": "stream",
     "text": [
      "At epoch 4, training loss: 0.9085, validation loss: 0.9028.\n"
     ]
    },
    {
     "data": {
      "application/vnd.jupyter.widget-view+json": {
       "model_id": "bc6215646bb24ac785eba2b994416843",
       "version_major": 2,
       "version_minor": 0
      },
      "text/plain": [
       "Epoch 5/20: \t:   0%|          | 0/90000 [00:00<?, ?it/s]"
      ]
     },
     "metadata": {},
     "output_type": "display_data"
    },
    {
     "name": "stdout",
     "output_type": "stream",
     "text": [
      "At epoch 5, training loss: 0.8344, validation loss: 0.8401.\n"
     ]
    },
    {
     "data": {
      "application/vnd.jupyter.widget-view+json": {
       "model_id": "31091b7b2ecf4035a5c78d7dee271a9e",
       "version_major": 2,
       "version_minor": 0
      },
      "text/plain": [
       "Epoch 6/20: \t:   0%|          | 0/90000 [00:00<?, ?it/s]"
      ]
     },
     "metadata": {},
     "output_type": "display_data"
    },
    {
     "name": "stdout",
     "output_type": "stream",
     "text": [
      "At epoch 6, training loss: 0.7770, validation loss: 0.7905.\n"
     ]
    },
    {
     "data": {
      "application/vnd.jupyter.widget-view+json": {
       "model_id": "9df6d5c4ab7a41b3a032232fe1cbb852",
       "version_major": 2,
       "version_minor": 0
      },
      "text/plain": [
       "Epoch 7/20: \t:   0%|          | 0/90000 [00:00<?, ?it/s]"
      ]
     },
     "metadata": {},
     "output_type": "display_data"
    },
    {
     "name": "stdout",
     "output_type": "stream",
     "text": [
      "At epoch 7, training loss: 0.7314, validation loss: 0.7503.\n"
     ]
    },
    {
     "data": {
      "application/vnd.jupyter.widget-view+json": {
       "model_id": "5172f7731467436e8893db334de0bbba",
       "version_major": 2,
       "version_minor": 0
      },
      "text/plain": [
       "Epoch 8/20: \t:   0%|          | 0/90000 [00:00<?, ?it/s]"
      ]
     },
     "metadata": {},
     "output_type": "display_data"
    },
    {
     "name": "stdout",
     "output_type": "stream",
     "text": [
      "At epoch 8, training loss: 0.6945, validation loss: 0.7172.\n"
     ]
    },
    {
     "data": {
      "application/vnd.jupyter.widget-view+json": {
       "model_id": "0f3eb49a31f843629471183d0140ebe4",
       "version_major": 2,
       "version_minor": 0
      },
      "text/plain": [
       "Epoch 9/20: \t:   0%|          | 0/90000 [00:00<?, ?it/s]"
      ]
     },
     "metadata": {},
     "output_type": "display_data"
    },
    {
     "name": "stdout",
     "output_type": "stream",
     "text": [
      "At epoch 9, training loss: 0.6639, validation loss: 0.6894.\n"
     ]
    },
    {
     "data": {
      "application/vnd.jupyter.widget-view+json": {
       "model_id": "6ecb36538fb54acd8a0b0812b3500d01",
       "version_major": 2,
       "version_minor": 0
      },
      "text/plain": [
       "Epoch 10/20: \t:   0%|          | 0/90000 [00:00<?, ?it/s]"
      ]
     },
     "metadata": {},
     "output_type": "display_data"
    },
    {
     "name": "stdout",
     "output_type": "stream",
     "text": [
      "At epoch 10, training loss: 0.6383, validation loss: 0.6658.\n"
     ]
    },
    {
     "data": {
      "application/vnd.jupyter.widget-view+json": {
       "model_id": "5346658d9f364df3b749f1819f5fa126",
       "version_major": 2,
       "version_minor": 0
      },
      "text/plain": [
       "Epoch 11/20: \t:   0%|          | 0/90000 [00:00<?, ?it/s]"
      ]
     },
     "metadata": {},
     "output_type": "display_data"
    },
    {
     "name": "stdout",
     "output_type": "stream",
     "text": [
      "At epoch 11, training loss: 0.6165, validation loss: 0.6455.\n"
     ]
    },
    {
     "data": {
      "application/vnd.jupyter.widget-view+json": {
       "model_id": "7091f5a120014d86bf466881555bc9e2",
       "version_major": 2,
       "version_minor": 0
      },
      "text/plain": [
       "Epoch 12/20: \t:   0%|          | 0/90000 [00:00<?, ?it/s]"
      ]
     },
     "metadata": {},
     "output_type": "display_data"
    },
    {
     "name": "stdout",
     "output_type": "stream",
     "text": [
      "At epoch 12, training loss: 0.5976, validation loss: 0.6278.\n"
     ]
    },
    {
     "data": {
      "application/vnd.jupyter.widget-view+json": {
       "model_id": "8572d33f7e854b7ba724410cbdf2ffac",
       "version_major": 2,
       "version_minor": 0
      },
      "text/plain": [
       "Epoch 13/20: \t:   0%|          | 0/90000 [00:00<?, ?it/s]"
      ]
     },
     "metadata": {},
     "output_type": "display_data"
    },
    {
     "name": "stdout",
     "output_type": "stream",
     "text": [
      "At epoch 13, training loss: 0.5812, validation loss: 0.6122.\n"
     ]
    },
    {
     "data": {
      "application/vnd.jupyter.widget-view+json": {
       "model_id": "14e105f732e64c5b9d3b589116bd3596",
       "version_major": 2,
       "version_minor": 0
      },
      "text/plain": [
       "Epoch 14/20: \t:   0%|          | 0/90000 [00:00<?, ?it/s]"
      ]
     },
     "metadata": {},
     "output_type": "display_data"
    },
    {
     "name": "stdout",
     "output_type": "stream",
     "text": [
      "At epoch 14, training loss: 0.5668, validation loss: 0.5984.\n"
     ]
    },
    {
     "data": {
      "application/vnd.jupyter.widget-view+json": {
       "model_id": "0e3c4dea49094063961d9ae899bba5fd",
       "version_major": 2,
       "version_minor": 0
      },
      "text/plain": [
       "Epoch 15/20: \t:   0%|          | 0/90000 [00:00<?, ?it/s]"
      ]
     },
     "metadata": {},
     "output_type": "display_data"
    },
    {
     "name": "stdout",
     "output_type": "stream",
     "text": [
      "At epoch 15, training loss: 0.5539, validation loss: 0.5860.\n"
     ]
    },
    {
     "data": {
      "application/vnd.jupyter.widget-view+json": {
       "model_id": "efdc602114314eda9b66e24dfafba4d4",
       "version_major": 2,
       "version_minor": 0
      },
      "text/plain": [
       "Epoch 16/20: \t:   0%|          | 0/90000 [00:00<?, ?it/s]"
      ]
     },
     "metadata": {},
     "output_type": "display_data"
    },
    {
     "name": "stdout",
     "output_type": "stream",
     "text": [
      "At epoch 16, training loss: 0.5425, validation loss: 0.5749.\n"
     ]
    },
    {
     "data": {
      "application/vnd.jupyter.widget-view+json": {
       "model_id": "ee46cf3e867842d38481eed56b48b699",
       "version_major": 2,
       "version_minor": 0
      },
      "text/plain": [
       "Epoch 17/20: \t:   0%|          | 0/90000 [00:00<?, ?it/s]"
      ]
     },
     "metadata": {},
     "output_type": "display_data"
    },
    {
     "name": "stdout",
     "output_type": "stream",
     "text": [
      "At epoch 17, training loss: 0.5321, validation loss: 0.5649.\n"
     ]
    },
    {
     "data": {
      "application/vnd.jupyter.widget-view+json": {
       "model_id": "d7a97e00561844d5b0bced7ed0369317",
       "version_major": 2,
       "version_minor": 0
      },
      "text/plain": [
       "Epoch 18/20: \t:   0%|          | 0/90000 [00:00<?, ?it/s]"
      ]
     },
     "metadata": {},
     "output_type": "display_data"
    },
    {
     "name": "stdout",
     "output_type": "stream",
     "text": [
      "At epoch 18, training loss: 0.5228, validation loss: 0.5557.\n"
     ]
    },
    {
     "data": {
      "application/vnd.jupyter.widget-view+json": {
       "model_id": "1f0942a28cf44190a709c75ccdcfa711",
       "version_major": 2,
       "version_minor": 0
      },
      "text/plain": [
       "Epoch 19/20: \t:   0%|          | 0/90000 [00:00<?, ?it/s]"
      ]
     },
     "metadata": {},
     "output_type": "display_data"
    },
    {
     "name": "stdout",
     "output_type": "stream",
     "text": [
      "At epoch 19, training loss: 0.5142, validation loss: 0.5474.\n"
     ]
    },
    {
     "data": {
      "application/vnd.jupyter.widget-view+json": {
       "model_id": "d44045b1031444f0934d427b549a7712",
       "version_major": 2,
       "version_minor": 0
      },
      "text/plain": [
       "Epoch 20/20: \t:   0%|          | 0/90000 [00:00<?, ?it/s]"
      ]
     },
     "metadata": {},
     "output_type": "display_data"
    },
    {
     "name": "stdout",
     "output_type": "stream",
     "text": [
      "At epoch 20, training loss: 0.5064, validation loss: 0.5397.\n"
     ]
    }
   ],
   "source": [
    "''' Update the hyper-parameters (num_epoch, lr, and lam) according to your observation to achieve better performance.\n",
    "'''\n",
    "num_epoch = 20\n",
    "lr = 0.001\n",
    "lam = 1E-6\n",
    "\n",
    "sgd_lr = LogisticRegression(vocab_size, num_class, lam)\n",
    "sgd_train_losses, sgd_valid_losses = sgd(sgd_lr, x_train, y_train,x_valid, y_valid, lr, lam, num_epoch)"
   ]
  },
  {
   "cell_type": "markdown",
   "metadata": {},
   "source": [
    "### 2.3 Mini-batch Gradient Descent (Fill the code: 15 points)"
   ]
  },
  {
   "cell_type": "code",
   "execution_count": 14,
   "metadata": {},
   "outputs": [],
   "source": [
    "def mini_batch_gd(model, X, y, X_valid, y_valid, batch_size, lr, lam, num_epoch=100, progress_bar=True):\n",
    "    ''' Implement SGD\n",
    "        Inputs:\n",
    "            X: N-d matrix\n",
    "            y: N-K matrix\n",
    "            lr: learning rate\n",
    "            lam: lambda\n",
    "            num_epoch: the number of epochs\n",
    "        Output:\n",
    "            1. A list of training losses against epoch\n",
    "            2. A list of validation losses against epoch\n",
    "    '''\n",
    "    train_losses = []\n",
    "    valid_losses = []\n",
    "    \n",
    "    n, _ = X.shape\n",
    "    \n",
    "    for e in range(num_epoch):\n",
    "        train_loss = 0.\n",
    "        \n",
    "        ### Start your code here (Implement Mini-batch GD)\n",
    "        loop_count = int(np.ceil(n/batch_size))\n",
    "        \n",
    "        for i in tqdm(range(loop_count), desc='Epoch %d/%d'%(e+1, num_epoch), total=loop_count, display=progress_bar):\n",
    "            train_loss += model.objective(X[i*batch_size:(i+1)*batch_size], y[i*batch_size:(i+1)*batch_size])\n",
    "            w_grad, b_grad = model.gradient(X[i*batch_size:(i+1)*batch_size], y[i*batch_size:(i+1)*batch_size])\n",
    "            model.gradient_descent(w_grad, b_grad, lr)\n",
    "        \n",
    "        train_loss /= loop_count\n",
    "                      \n",
    "        ### End\n",
    "        \n",
    "        valid_loss = 0.\n",
    "        \n",
    "        ### Start your code (Using validation set to obtain the validation loss)\n",
    "        valid_loss = model.objective(X_valid,y_valid)\n",
    "        ### End\n",
    "        \n",
    "        train_losses.append(train_loss)\n",
    "        valid_losses.append(valid_loss)\n",
    "        print(f'At epoch {e+1}, training loss: {train_loss:.4f}, validation loss: {valid_loss:.4f}.')\n",
    "            \n",
    "    return train_losses, valid_losses"
   ]
  },
  {
   "cell_type": "markdown",
   "metadata": {},
   "source": [
    "Run Mini-batch GD"
   ]
  },
  {
   "cell_type": "code",
   "execution_count": 15,
   "metadata": {},
   "outputs": [
    {
     "data": {
      "application/vnd.jupyter.widget-view+json": {
       "model_id": "90530d8fcadc4c7fae01b732c04d6c9f",
       "version_major": 2,
       "version_minor": 0
      },
      "text/plain": [
       "Epoch 1/20:   0%|          | 0/2813 [00:00<?, ?it/s]"
      ]
     },
     "metadata": {},
     "output_type": "display_data"
    },
    {
     "name": "stdout",
     "output_type": "stream",
     "text": [
      "At epoch 1, training loss: 1.4193, validation loss: 1.3859.\n"
     ]
    },
    {
     "data": {
      "application/vnd.jupyter.widget-view+json": {
       "model_id": "9a21ef83be2344ef9976a37346a6aa0f",
       "version_major": 2,
       "version_minor": 0
      },
      "text/plain": [
       "Epoch 2/20:   0%|          | 0/2813 [00:00<?, ?it/s]"
      ]
     },
     "metadata": {},
     "output_type": "display_data"
    },
    {
     "name": "stdout",
     "output_type": "stream",
     "text": [
      "At epoch 2, training loss: 1.3466, validation loss: 1.3235.\n"
     ]
    },
    {
     "data": {
      "application/vnd.jupyter.widget-view+json": {
       "model_id": "5c143dde1955494fbd6830e0b630d254",
       "version_major": 2,
       "version_minor": 0
      },
      "text/plain": [
       "Epoch 3/20:   0%|          | 0/2813 [00:00<?, ?it/s]"
      ]
     },
     "metadata": {},
     "output_type": "display_data"
    },
    {
     "name": "stdout",
     "output_type": "stream",
     "text": [
      "At epoch 3, training loss: 1.2824, validation loss: 1.2664.\n"
     ]
    },
    {
     "data": {
      "application/vnd.jupyter.widget-view+json": {
       "model_id": "e774bd255ddf4d6d8caa33d6e1b3d8b3",
       "version_major": 2,
       "version_minor": 0
      },
      "text/plain": [
       "Epoch 4/20:   0%|          | 0/2813 [00:00<?, ?it/s]"
      ]
     },
     "metadata": {},
     "output_type": "display_data"
    },
    {
     "name": "stdout",
     "output_type": "stream",
     "text": [
      "At epoch 4, training loss: 1.2239, validation loss: 1.2141.\n"
     ]
    },
    {
     "data": {
      "application/vnd.jupyter.widget-view+json": {
       "model_id": "809cd82c8c4144a2b20aaee4950ed8b8",
       "version_major": 2,
       "version_minor": 0
      },
      "text/plain": [
       "Epoch 5/20:   0%|          | 0/2813 [00:00<?, ?it/s]"
      ]
     },
     "metadata": {},
     "output_type": "display_data"
    },
    {
     "name": "stdout",
     "output_type": "stream",
     "text": [
      "At epoch 5, training loss: 1.1705, validation loss: 1.1665.\n"
     ]
    },
    {
     "data": {
      "application/vnd.jupyter.widget-view+json": {
       "model_id": "ab62746e535546b8912026abfdda8927",
       "version_major": 2,
       "version_minor": 0
      },
      "text/plain": [
       "Epoch 6/20:   0%|          | 0/2813 [00:00<?, ?it/s]"
      ]
     },
     "metadata": {},
     "output_type": "display_data"
    },
    {
     "name": "stdout",
     "output_type": "stream",
     "text": [
      "At epoch 6, training loss: 1.1220, validation loss: 1.1230.\n"
     ]
    },
    {
     "data": {
      "application/vnd.jupyter.widget-view+json": {
       "model_id": "4f75e6b72b394e59bc5d84afe018ebfe",
       "version_major": 2,
       "version_minor": 0
      },
      "text/plain": [
       "Epoch 7/20:   0%|          | 0/2813 [00:00<?, ?it/s]"
      ]
     },
     "metadata": {},
     "output_type": "display_data"
    },
    {
     "name": "stdout",
     "output_type": "stream",
     "text": [
      "At epoch 7, training loss: 1.0779, validation loss: 1.0833.\n"
     ]
    },
    {
     "data": {
      "application/vnd.jupyter.widget-view+json": {
       "model_id": "1f79b3e912354500a7b5f4b0682e4e20",
       "version_major": 2,
       "version_minor": 0
      },
      "text/plain": [
       "Epoch 8/20:   0%|          | 0/2813 [00:00<?, ?it/s]"
      ]
     },
     "metadata": {},
     "output_type": "display_data"
    },
    {
     "name": "stdout",
     "output_type": "stream",
     "text": [
      "At epoch 8, training loss: 1.0378, validation loss: 1.0471.\n"
     ]
    },
    {
     "data": {
      "application/vnd.jupyter.widget-view+json": {
       "model_id": "53fce0bf126042fcb268ace68cf063cb",
       "version_major": 2,
       "version_minor": 0
      },
      "text/plain": [
       "Epoch 9/20:   0%|          | 0/2813 [00:00<?, ?it/s]"
      ]
     },
     "metadata": {},
     "output_type": "display_data"
    },
    {
     "name": "stdout",
     "output_type": "stream",
     "text": [
      "At epoch 9, training loss: 1.0013, validation loss: 1.0140.\n"
     ]
    },
    {
     "data": {
      "application/vnd.jupyter.widget-view+json": {
       "model_id": "aae715ede2994a62b73544ba382d0d0e",
       "version_major": 2,
       "version_minor": 0
      },
      "text/plain": [
       "Epoch 10/20:   0%|          | 0/2813 [00:00<?, ?it/s]"
      ]
     },
     "metadata": {},
     "output_type": "display_data"
    },
    {
     "name": "stdout",
     "output_type": "stream",
     "text": [
      "At epoch 10, training loss: 0.9681, validation loss: 0.9837.\n"
     ]
    },
    {
     "data": {
      "application/vnd.jupyter.widget-view+json": {
       "model_id": "21fddd2d057a416c826b60448effcce9",
       "version_major": 2,
       "version_minor": 0
      },
      "text/plain": [
       "Epoch 11/20:   0%|          | 0/2813 [00:00<?, ?it/s]"
      ]
     },
     "metadata": {},
     "output_type": "display_data"
    },
    {
     "name": "stdout",
     "output_type": "stream",
     "text": [
      "At epoch 11, training loss: 0.9377, validation loss: 0.9560.\n"
     ]
    },
    {
     "data": {
      "application/vnd.jupyter.widget-view+json": {
       "model_id": "c2903c0101ab45a3825f1737fd1ca583",
       "version_major": 2,
       "version_minor": 0
      },
      "text/plain": [
       "Epoch 12/20:   0%|          | 0/2813 [00:00<?, ?it/s]"
      ]
     },
     "metadata": {},
     "output_type": "display_data"
    },
    {
     "name": "stdout",
     "output_type": "stream",
     "text": [
      "At epoch 12, training loss: 0.9100, validation loss: 0.9305.\n"
     ]
    },
    {
     "data": {
      "application/vnd.jupyter.widget-view+json": {
       "model_id": "03ee773ffd41468ab98388973e810ea4",
       "version_major": 2,
       "version_minor": 0
      },
      "text/plain": [
       "Epoch 13/20:   0%|          | 0/2813 [00:00<?, ?it/s]"
      ]
     },
     "metadata": {},
     "output_type": "display_data"
    },
    {
     "name": "stdout",
     "output_type": "stream",
     "text": [
      "At epoch 13, training loss: 0.8846, validation loss: 0.9070.\n"
     ]
    },
    {
     "data": {
      "application/vnd.jupyter.widget-view+json": {
       "model_id": "a94cf2209e2e4fe3a267e1a29b893648",
       "version_major": 2,
       "version_minor": 0
      },
      "text/plain": [
       "Epoch 14/20:   0%|          | 0/2813 [00:00<?, ?it/s]"
      ]
     },
     "metadata": {},
     "output_type": "display_data"
    },
    {
     "name": "stdout",
     "output_type": "stream",
     "text": [
      "At epoch 14, training loss: 0.8612, validation loss: 0.8853.\n"
     ]
    },
    {
     "data": {
      "application/vnd.jupyter.widget-view+json": {
       "model_id": "902743be3b7b44d5a7a3164eb10fd186",
       "version_major": 2,
       "version_minor": 0
      },
      "text/plain": [
       "Epoch 15/20:   0%|          | 0/2813 [00:00<?, ?it/s]"
      ]
     },
     "metadata": {},
     "output_type": "display_data"
    },
    {
     "name": "stdout",
     "output_type": "stream",
     "text": [
      "At epoch 15, training loss: 0.8397, validation loss: 0.8653.\n"
     ]
    },
    {
     "data": {
      "application/vnd.jupyter.widget-view+json": {
       "model_id": "b8e154d243994138b6081bed7bf979cf",
       "version_major": 2,
       "version_minor": 0
      },
      "text/plain": [
       "Epoch 16/20:   0%|          | 0/2813 [00:00<?, ?it/s]"
      ]
     },
     "metadata": {},
     "output_type": "display_data"
    },
    {
     "name": "stdout",
     "output_type": "stream",
     "text": [
      "At epoch 16, training loss: 0.8198, validation loss: 0.8467.\n"
     ]
    },
    {
     "data": {
      "application/vnd.jupyter.widget-view+json": {
       "model_id": "ab032b5b046d46f3935cf985baebb360",
       "version_major": 2,
       "version_minor": 0
      },
      "text/plain": [
       "Epoch 17/20:   0%|          | 0/2813 [00:00<?, ?it/s]"
      ]
     },
     "metadata": {},
     "output_type": "display_data"
    },
    {
     "name": "stdout",
     "output_type": "stream",
     "text": [
      "At epoch 17, training loss: 0.8015, validation loss: 0.8295.\n"
     ]
    },
    {
     "data": {
      "application/vnd.jupyter.widget-view+json": {
       "model_id": "6f3b0d67ac544c13960d989cebda4b83",
       "version_major": 2,
       "version_minor": 0
      },
      "text/plain": [
       "Epoch 18/20:   0%|          | 0/2813 [00:00<?, ?it/s]"
      ]
     },
     "metadata": {},
     "output_type": "display_data"
    },
    {
     "name": "stdout",
     "output_type": "stream",
     "text": [
      "At epoch 18, training loss: 0.7844, validation loss: 0.8134.\n"
     ]
    },
    {
     "data": {
      "application/vnd.jupyter.widget-view+json": {
       "model_id": "80734cb55e7049499fbe53e89f09068c",
       "version_major": 2,
       "version_minor": 0
      },
      "text/plain": [
       "Epoch 19/20:   0%|          | 0/2813 [00:00<?, ?it/s]"
      ]
     },
     "metadata": {},
     "output_type": "display_data"
    },
    {
     "name": "stdout",
     "output_type": "stream",
     "text": [
      "At epoch 19, training loss: 0.7686, validation loss: 0.7984.\n"
     ]
    },
    {
     "data": {
      "application/vnd.jupyter.widget-view+json": {
       "model_id": "d9a93d0be21743abb3efcb156086c933",
       "version_major": 2,
       "version_minor": 0
      },
      "text/plain": [
       "Epoch 20/20:   0%|          | 0/2813 [00:00<?, ?it/s]"
      ]
     },
     "metadata": {},
     "output_type": "display_data"
    },
    {
     "name": "stdout",
     "output_type": "stream",
     "text": [
      "At epoch 20, training loss: 0.7539, validation loss: 0.7844.\n"
     ]
    }
   ],
   "source": [
    "''' Update the hyper-parameters (num_epoch, lr, lam, and batch_size) according to your observation \n",
    "    to achieve better performance.\n",
    "'''\n",
    "\n",
    "num_epoch = 20\n",
    "lr = 0.01\n",
    "lam = 1E-6\n",
    "batch_size = 32\n",
    "\n",
    "mini_gd_lr = LogisticRegression(vocab_size, num_class, lam)\n",
    "mini_gd_train_losses, mini_gd_valid_losses = mini_batch_gd(mini_gd_lr, x_train, y_train, x_valid, y_valid, batch_size, lr, lam, num_epoch)"
   ]
  },
  {
   "cell_type": "markdown",
   "metadata": {},
   "source": [
    "### 2.4 Evaluation\n",
    "You are required to report the precision and recall for each category on test set and plot the training loss and validation loss for both SGD and Mini-batch GD"
   ]
  },
  {
   "cell_type": "markdown",
   "metadata": {},
   "source": [
    "##### Please run the following cell to evaluate your model with SGD"
   ]
  },
  {
   "cell_type": "code",
   "execution_count": 16,
   "metadata": {},
   "outputs": [
    {
     "name": "stdout",
     "output_type": "stream",
     "text": [
      "SGD\n",
      "\n",
      "  Precision:\n",
      "    class 0: 0.8879, class 1: 0.8844, class 2: 0.8064, class 3: 0.8168\n",
      "\n",
      "  Recall:\n",
      "    class 0: 0.8379, class 1: 0.9542, class 2: 0.8068, class 3: 0.7979\n"
     ]
    }
   ],
   "source": [
    "from sklearn.metrics import precision_score, recall_score\n",
    "\n",
    "y_hat = sgd_lr.predict(x_test)\n",
    "y_true = np.argmax(y_test, axis=1)\n",
    "\n",
    "precision = precision_score(y_true, y_hat, average=None)\n",
    "recall = recall_score(y_true, y_hat, average=None)\n",
    "\n",
    "print('SGD')\n",
    "print()\n",
    "print('  Precision:')\n",
    "print(f'    class {0}: {precision[0]:.4f}, class {1}: {precision[1]:.4f}, class {2}: {precision[2]:.4f}, class {3}: {precision[3]:.4f}')\n",
    "print()\n",
    "print('  Recall:')\n",
    "print(f'    class {0}: {recall[0]:.4f}, class {1}: {recall[1]:.4f}, class {2}: {recall[2]:.4f}, class {3}: {recall[3]:.4f}')"
   ]
  },
  {
   "cell_type": "markdown",
   "metadata": {},
   "source": [
    "##### Please run the following cell to plot training loss and validation loss for SGD"
   ]
  },
  {
   "cell_type": "code",
   "execution_count": 17,
   "metadata": {},
   "outputs": [
    {
     "data": {
      "image/png": "[encoded data removed]",
      "text/plain": [
       "<Figure size 432x288 with 1 Axes>"
      ]
     },
     "metadata": {
      "needs_background": "light"
     },
     "output_type": "display_data"
    }
   ],
   "source": [
    "import matplotlib.pyplot as plt\n",
    "\n",
    "%matplotlib inline\n",
    "\n",
    "\n",
    "plt.plot(range(num_epoch), sgd_train_losses, sgd_valid_losses)\n",
    "plt.xlabel('Epoch')\n",
    "plt.ylabel('Loss')\n",
    "plt.legend([\"Training loss\", \"Validation loss\"])\n",
    "plt.title('SGD')\n",
    "plt.show()"
   ]
  },
  {
   "cell_type": "markdown",
   "metadata": {},
   "source": [
    "##### Please run the following cell to evaluate your model with Mini-batch GD"
   ]
  },
  {
   "cell_type": "code",
   "execution_count": 18,
   "metadata": {},
   "outputs": [
    {
     "name": "stdout",
     "output_type": "stream",
     "text": [
      "Mini-batch GD\n",
      "\n",
      "  Precision:\n",
      "    class 0: 0.8375, class 1: 0.8405, class 2: 0.7662, class 3: 0.7505\n",
      "\n",
      "  Recall:\n",
      "    class 0: 0.7947, class 1: 0.9095, class 2: 0.7553, class 3: 0.7379\n"
     ]
    }
   ],
   "source": [
    "y_hat = mini_gd_lr.predict(x_test)\n",
    "y_true = np.argmax(y_test, axis=1)\n",
    "\n",
    "precision = precision_score(y_true, y_hat, average=None)\n",
    "recall = recall_score(y_true, y_hat, average=None)\n",
    "\n",
    "print('Mini-batch GD')\n",
    "print()\n",
    "print('  Precision:')\n",
    "print(f'    class {0}: {precision[0]:.4f}, class {1}: {precision[1]:.4f}, class {2}: {precision[2]:.4f}, class {3}: {precision[3]:.4f}')\n",
    "print()\n",
    "print('  Recall:')\n",
    "print(f'    class {0}: {recall[0]:.4f}, class {1}: {recall[1]:.4f}, class {2}: {recall[2]:.4f}, class {3}: {recall[3]:.4f}')"
   ]
  },
  {
   "cell_type": "markdown",
   "metadata": {},
   "source": [
    "##### Please run the following cell to plot training loss and validation loss for Mini-batch GD"
   ]
  },
  {
   "cell_type": "code",
   "execution_count": 19,
   "metadata": {},
   "outputs": [
    {
     "data": {
      "image/png": "[encoded data removed]",
      "text/plain": [
       "<Figure size 432x288 with 1 Axes>"
      ]
     },
     "metadata": {
      "needs_background": "light"
     },
     "output_type": "display_data"
    }
   ],
   "source": [
    "plt.plot(range(num_epoch), mini_gd_train_losses, mini_gd_valid_losses)\n",
    "plt.xlabel('Epoch')\n",
    "plt.ylabel('Loss')\n",
    "plt.legend([\"Training loss\", \"Validation loss\"])\n",
    "plt.title('Mini-batch GD')\n",
    "plt.show()"
   ]
  },
  {
   "cell_type": "markdown",
   "metadata": {},
   "source": [
    "## 3. Cross-Validation (10 points)\n",
    "\n",
    "You are required to implement cross-validation, and use it to choose the best $\\lambda$.\n"
   ]
  },
  {
   "cell_type": "markdown",
   "metadata": {},
   "source": [
    "### 3.1 Reload dataset"
   ]
  },
  {
   "cell_type": "code",
   "execution_count": 20,
   "metadata": {},
   "outputs": [],
   "source": [
    "text_train = train_df['text'].values.astype(str)\n",
    "label_train = train_df['label'].values.astype(int) - 1 # -1 because labels start from 1\n",
    "\n",
    "text_test = test_df['text'].values.astype(str)\n",
    "label_test = test_df['label'].values.astype(int) - 1 # -1 because labels start from 1"
   ]
  },
  {
   "cell_type": "markdown",
   "metadata": {},
   "source": [
    "### 3.2 Define the range of $\\lambda$. (Fill the code)"
   ]
  },
  {
   "cell_type": "code",
   "execution_count": 21,
   "metadata": {},
   "outputs": [],
   "source": [
    "lambdas = [1E-2,1E-4,1E-6,1E-8] ## Fill the values of lambda you want to evaluate in the list"
   ]
  },
  {
   "cell_type": "markdown",
   "metadata": {},
   "source": [
    "### 3.3 Imlement cross-validation. (Fill the code)"
   ]
  },
  {
   "cell_type": "code",
   "execution_count": 22,
   "metadata": {},
   "outputs": [
    {
     "data": {
      "application/vnd.jupyter.widget-view+json": {
       "model_id": "47340ac4295042308055cba2ffb0917f",
       "version_major": 2,
       "version_minor": 0
      },
      "text/plain": [
       "fitting text:   0%|          | 0/120000 [00:00<?, ?it/s]"
      ]
     },
     "metadata": {},
     "output_type": "display_data"
    },
    {
     "data": {
      "application/vnd.jupyter.widget-view+json": {
       "model_id": "4355ace9c3464e38b5420c9249d5f0d2",
       "version_major": 2,
       "version_minor": 0
      },
      "text/plain": [
       "transforming:   0%|          | 0/120000 [00:00<?, ?it/s]"
      ]
     },
     "metadata": {},
     "output_type": "display_data"
    },
    {
     "data": {
      "application/vnd.jupyter.widget-view+json": {
       "model_id": "3fae23f32757492da6155b7a2a2e3fca",
       "version_major": 2,
       "version_minor": 0
      },
      "text/plain": [
       "transforming:   0%|          | 0/7600 [00:00<?, ?it/s]"
      ]
     },
     "metadata": {},
     "output_type": "display_data"
    },
    {
     "name": "stdout",
     "output_type": "stream",
     "text": [
      "The size of training set: (120000, 4000)\n",
      "The size of test set: (7600, 4000)\n"
     ]
    }
   ],
   "source": [
    "### Start your code\n",
    "vocab_size = 4000 \n",
    "num_class = 4\n",
    "\n",
    "extractor = TfIdfExtractor(vocab_size=vocab_size)\n",
    "extractor.fit(text_train)\n",
    "\n",
    "x_train = extractor.transform(text_train)\n",
    "x_test = extractor.transform(text_test)\n",
    "\n",
    "y_train = np.zeros((label_train.shape[0], num_class))\n",
    "y_train[np.arange(label_train.shape[0]), label_train] = 1\n",
    "\n",
    "y_test = np.zeros((label_test.shape[0], num_class))\n",
    "y_test[np.arange(label_test.shape[0]), label_test] = 1\n",
    "\n",
    "print('The size of training set:', x_train.shape)\n",
    "print('The size of test set:', x_test.shape)\n",
    "### End"
   ]
  },
  {
   "cell_type": "code",
   "execution_count": 23,
   "id": "c50137cf",
   "metadata": {},
   "outputs": [
    {
     "data": {
      "application/vnd.jupyter.widget-view+json": {
       "model_id": "627e0d066b4e42f297c2730b58dbf109",
       "version_major": 2,
       "version_minor": 0
      },
      "text/plain": [
       "Lambda values:   0%|          | 0/4 [00:00<?, ?it/s]"
      ]
     },
     "metadata": {},
     "output_type": "display_data"
    },
    {
     "data": {
      "application/vnd.jupyter.widget-view+json": {
       "model_id": "5284bc789ae0482aaf1b10f04a7cc76b",
       "version_major": 2,
       "version_minor": 0
      },
      "text/plain": [
       "K Fold iteration:   0%|          | 0/5 [00:00<?, ?it/s]"
      ]
     },
     "metadata": {},
     "output_type": "display_data"
    },
    {
     "name": "stdout",
     "output_type": "stream",
     "text": [
      "At epoch 1, training loss: 2.6926, validation loss: 1.3659.\n",
      "At epoch 1, training loss: 32.5213, validation loss: 17.4584.\n",
      "At epoch 1, training loss: 1.3029, validation loss: 1.3522.\n",
      "At epoch 1, training loss: 10.7094, validation loss: 6.1761.\n",
      "At epoch 1, training loss: 1.3029, validation loss: 1.3514.\n",
      "At epoch 1, training loss: 4.1493, validation loss: 2.7824.\n",
      "At epoch 1, training loss: 1.3024, validation loss: 1.3532.\n",
      "At epoch 1, training loss: 2.1756, validation loss: 1.7632.\n",
      "At epoch 1, training loss: 1.3006, validation loss: 1.3457.\n",
      "At epoch 1, training loss: 1.5808, validation loss: 1.4620.\n"
     ]
    },
    {
     "data": {
      "application/vnd.jupyter.widget-view+json": {
       "model_id": "01830e5824f045818a737762505a63fa",
       "version_major": 2,
       "version_minor": 0
      },
      "text/plain": [
       "K Fold iteration:   0%|          | 0/5 [00:00<?, ?it/s]"
      ]
     },
     "metadata": {},
     "output_type": "display_data"
    },
    {
     "name": "stdout",
     "output_type": "stream",
     "text": [
      "At epoch 1, training loss: 1.9777, validation loss: 1.9619.\n",
      "At epoch 1, training loss: 2.0435, validation loss: 2.0242.\n",
      "At epoch 1, training loss: 1.9419, validation loss: 1.9308.\n",
      "At epoch 1, training loss: 2.0339, validation loss: 2.0194.\n",
      "At epoch 1, training loss: 1.9168, validation loss: 1.8991.\n",
      "At epoch 1, training loss: 2.0233, validation loss: 2.0237.\n",
      "At epoch 1, training loss: 1.8914, validation loss: 1.8742.\n",
      "At epoch 1, training loss: 2.0154, validation loss: 2.0219.\n",
      "At epoch 1, training loss: 1.8647, validation loss: 1.8578.\n",
      "At epoch 1, training loss: 2.0092, validation loss: 2.0165.\n"
     ]
    },
    {
     "data": {
      "application/vnd.jupyter.widget-view+json": {
       "model_id": "09406784775f4b9bb9db3d29eb2876d0",
       "version_major": 2,
       "version_minor": 0
      },
      "text/plain": [
       "K Fold iteration:   0%|          | 0/5 [00:00<?, ?it/s]"
      ]
     },
     "metadata": {},
     "output_type": "display_data"
    },
    {
     "name": "stdout",
     "output_type": "stream",
     "text": [
      "At epoch 1, training loss: 1.4777, validation loss: 1.4686.\n",
      "At epoch 1, training loss: 1.4822, validation loss: 1.4847.\n",
      "At epoch 1, training loss: 1.4774, validation loss: 1.4638.\n",
      "At epoch 1, training loss: 1.4834, validation loss: 1.4795.\n",
      "At epoch 1, training loss: 1.4730, validation loss: 1.4757.\n",
      "At epoch 1, training loss: 1.4822, validation loss: 1.4839.\n",
      "At epoch 1, training loss: 1.4710, validation loss: 1.4784.\n",
      "At epoch 1, training loss: 1.4804, validation loss: 1.4906.\n",
      "At epoch 1, training loss: 1.4697, validation loss: 1.4786.\n",
      "At epoch 1, training loss: 1.4845, validation loss: 1.4738.\n"
     ]
    },
    {
     "data": {
      "application/vnd.jupyter.widget-view+json": {
       "model_id": "9c06e3893d6345709f256f5f4d95b698",
       "version_major": 2,
       "version_minor": 0
      },
      "text/plain": [
       "K Fold iteration:   0%|          | 0/5 [00:00<?, ?it/s]"
      ]
     },
     "metadata": {},
     "output_type": "display_data"
    },
    {
     "name": "stdout",
     "output_type": "stream",
     "text": [
      "At epoch 1, training loss: 1.4408, validation loss: 1.4678.\n",
      "At epoch 1, training loss: 1.4814, validation loss: 1.4748.\n",
      "At epoch 1, training loss: 1.4454, validation loss: 1.4492.\n",
      "At epoch 1, training loss: 1.4773, validation loss: 1.4908.\n",
      "At epoch 1, training loss: 1.4489, validation loss: 1.4353.\n",
      "At epoch 1, training loss: 1.4779, validation loss: 1.4887.\n",
      "At epoch 1, training loss: 1.4477, validation loss: 1.4397.\n",
      "At epoch 1, training loss: 1.4852, validation loss: 1.4596.\n",
      "At epoch 1, training loss: 1.4480, validation loss: 1.4387.\n",
      "At epoch 1, training loss: 1.4785, validation loss: 1.4863.\n"
     ]
    },
    {
     "data": {
      "text/html": [
       "<div>\n",
       "<style scoped>\n",
       "    .dataframe tbody tr th:only-of-type {\n",
       "        vertical-align: middle;\n",
       "    }\n",
       "\n",
       "    .dataframe tbody tr th {\n",
       "        vertical-align: top;\n",
       "    }\n",
       "\n",
       "    .dataframe thead th {\n",
       "        text-align: right;\n",
       "    }\n",
       "</style>\n",
       "<table border=\"1\" class=\"dataframe\">\n",
       "  <thead>\n",
       "    <tr style=\"text-align: right;\">\n",
       "      <th></th>\n",
       "      <th>Lambda</th>\n",
       "      <th>SGD Loss</th>\n",
       "      <th>Mini batch Loss</th>\n",
       "    </tr>\n",
       "  </thead>\n",
       "  <tbody>\n",
       "    <tr>\n",
       "      <th>0</th>\n",
       "      <td>1.000000e-02</td>\n",
       "      <td>1.353690</td>\n",
       "      <td>5.928428</td>\n",
       "    </tr>\n",
       "    <tr>\n",
       "      <th>1</th>\n",
       "      <td>1.000000e-04</td>\n",
       "      <td>1.904731</td>\n",
       "      <td>2.021139</td>\n",
       "    </tr>\n",
       "    <tr>\n",
       "      <th>2</th>\n",
       "      <td>1.000000e-06</td>\n",
       "      <td>1.473024</td>\n",
       "      <td>1.482518</td>\n",
       "    </tr>\n",
       "    <tr>\n",
       "      <th>3</th>\n",
       "      <td>1.000000e-08</td>\n",
       "      <td>1.446154</td>\n",
       "      <td>1.480043</td>\n",
       "    </tr>\n",
       "  </tbody>\n",
       "</table>\n",
       "</div>"
      ],
      "text/plain": [
       "         Lambda  SGD Loss  Mini batch Loss\n",
       "0  1.000000e-02  1.353690         5.928428\n",
       "1  1.000000e-04  1.904731         2.021139\n",
       "2  1.000000e-06  1.473024         1.482518\n",
       "3  1.000000e-08  1.446154         1.480043"
      ]
     },
     "execution_count": 23,
     "metadata": {},
     "output_type": "execute_result"
    }
   ],
   "source": [
    "k = 5\n",
    "\n",
    "x_train_batches = np.split(x_train, k)\n",
    "y_train_batches = np.split(y_train, k)\n",
    "\n",
    "\n",
    "mini_batch_losses = []\n",
    "sgd_losses = []\n",
    "for i in tqdm(lambdas, desc='Lambda values', total=len(lambdas)):\n",
    "    sgd_lr = LogisticRegression(vocab_size, num_class, i)\n",
    "    mini_gd_lr = LogisticRegression(vocab_size, num_class, i)\n",
    "    mini_batch_loss = 0\n",
    "    sgd_loss = 0\n",
    "    for k_counter in tqdm(range(k), desc='K Fold iteration', total=k):\n",
    "        xk_val = x_train_batches[k_counter]\n",
    "        yk_val = y_train_batches[k_counter]\n",
    "        xk_train = np.vstack((x_train_batches[:k_counter]+x_train_batches[k_counter+1:]))\n",
    "        yk_train = np.vstack((y_train_batches[:k_counter]+y_train_batches[k_counter+1:]))\n",
    "        k_sgd_train_losses, k_sgd_valid_losses = sgd(sgd_lr, xk_train, yk_train,xk_val, yk_val, i, lam, 1, False)\n",
    "        k_mini_gd_train_losses,k_mini_gd_valid_losses = mini_batch_gd(mini_gd_lr, xk_train, yk_train, xk_val, yk_val, batch_size, i, lam, 1, False)\n",
    "        sgd_loss += k_sgd_valid_losses[-1]\n",
    "        mini_batch_loss += k_mini_gd_valid_losses[-1]\n",
    "    sgd_loss /= k\n",
    "    mini_batch_loss /= k\n",
    "    sgd_losses.append(sgd_loss)\n",
    "    mini_batch_losses.append(mini_batch_loss)\n",
    "\n",
    "k_fold_table = pd.DataFrame({'Lambda': lambdas, 'SGD Loss': sgd_losses, 'Mini batch Loss': mini_batch_losses})\n",
    "k_fold_table"
   ]
  },
  {
   "cell_type": "code",
   "execution_count": 24,
   "id": "de257ba3",
   "metadata": {},
   "outputs": [
    {
     "name": "stdout",
     "output_type": "stream",
     "text": [
      "best lambda value was 1E-6\n"
     ]
    },
    {
     "data": {
      "application/vnd.jupyter.widget-view+json": {
       "model_id": "0537aaefb0544fb897ed595525460736",
       "version_major": 2,
       "version_minor": 0
      },
      "text/plain": [
       "Epoch 1/20:   0%|          | 0/3750 [00:00<?, ?it/s]"
      ]
     },
     "metadata": {},
     "output_type": "display_data"
    },
    {
     "name": "stdout",
     "output_type": "stream",
     "text": [
      "At epoch 1, training loss: 1.4219, validation loss: 1.3750.\n"
     ]
    },
    {
     "data": {
      "application/vnd.jupyter.widget-view+json": {
       "model_id": "2c8cd88707eb488f84e088c08b03e2d9",
       "version_major": 2,
       "version_minor": 0
      },
      "text/plain": [
       "Epoch 2/20:   0%|          | 0/3750 [00:00<?, ?it/s]"
      ]
     },
     "metadata": {},
     "output_type": "display_data"
    },
    {
     "name": "stdout",
     "output_type": "stream",
     "text": [
      "At epoch 2, training loss: 1.3276, validation loss: 1.2907.\n"
     ]
    },
    {
     "data": {
      "application/vnd.jupyter.widget-view+json": {
       "model_id": "283f23fa3a2a47988811ef6e7adaac86",
       "version_major": 2,
       "version_minor": 0
      },
      "text/plain": [
       "Epoch 3/20:   0%|          | 0/3750 [00:00<?, ?it/s]"
      ]
     },
     "metadata": {},
     "output_type": "display_data"
    },
    {
     "name": "stdout",
     "output_type": "stream",
     "text": [
      "At epoch 3, training loss: 1.2474, validation loss: 1.2159.\n"
     ]
    },
    {
     "data": {
      "application/vnd.jupyter.widget-view+json": {
       "model_id": "31b05ad7461b4ee7bea85310d4ea58ab",
       "version_major": 2,
       "version_minor": 0
      },
      "text/plain": [
       "Epoch 4/20:   0%|          | 0/3750 [00:00<?, ?it/s]"
      ]
     },
     "metadata": {},
     "output_type": "display_data"
    },
    {
     "name": "stdout",
     "output_type": "stream",
     "text": [
      "At epoch 4, training loss: 1.1763, validation loss: 1.1499.\n"
     ]
    },
    {
     "data": {
      "application/vnd.jupyter.widget-view+json": {
       "model_id": "24496ece538b4b1bae9357ba385d17b3",
       "version_major": 2,
       "version_minor": 0
      },
      "text/plain": [
       "Epoch 5/20:   0%|          | 0/3750 [00:00<?, ?it/s]"
      ]
     },
     "metadata": {},
     "output_type": "display_data"
    },
    {
     "name": "stdout",
     "output_type": "stream",
     "text": [
      "At epoch 5, training loss: 1.1135, validation loss: 1.0916.\n"
     ]
    },
    {
     "data": {
      "application/vnd.jupyter.widget-view+json": {
       "model_id": "442c46ce40564a9d94140fbbc42a6ca0",
       "version_major": 2,
       "version_minor": 0
      },
      "text/plain": [
       "Epoch 6/20:   0%|          | 0/3750 [00:00<?, ?it/s]"
      ]
     },
     "metadata": {},
     "output_type": "display_data"
    },
    {
     "name": "stdout",
     "output_type": "stream",
     "text": [
      "At epoch 6, training loss: 1.0580, validation loss: 1.0402.\n"
     ]
    },
    {
     "data": {
      "application/vnd.jupyter.widget-view+json": {
       "model_id": "1b8b7f60eb7942058904ff020d019b19",
       "version_major": 2,
       "version_minor": 0
      },
      "text/plain": [
       "Epoch 7/20:   0%|          | 0/3750 [00:00<?, ?it/s]"
      ]
     },
     "metadata": {},
     "output_type": "display_data"
    },
    {
     "name": "stdout",
     "output_type": "stream",
     "text": [
      "At epoch 7, training loss: 1.0090, validation loss: 0.9947.\n"
     ]
    },
    {
     "data": {
      "application/vnd.jupyter.widget-view+json": {
       "model_id": "074d392dce5e4c648cd456736e8ad7a7",
       "version_major": 2,
       "version_minor": 0
      },
      "text/plain": [
       "Epoch 8/20:   0%|          | 0/3750 [00:00<?, ?it/s]"
      ]
     },
     "metadata": {},
     "output_type": "display_data"
    },
    {
     "name": "stdout",
     "output_type": "stream",
     "text": [
      "At epoch 8, training loss: 0.9655, validation loss: 0.9544.\n"
     ]
    },
    {
     "data": {
      "application/vnd.jupyter.widget-view+json": {
       "model_id": "3406e4e686e94a308c9c33efdf5512a4",
       "version_major": 2,
       "version_minor": 0
      },
      "text/plain": [
       "Epoch 9/20:   0%|          | 0/3750 [00:00<?, ?it/s]"
      ]
     },
     "metadata": {},
     "output_type": "display_data"
    },
    {
     "name": "stdout",
     "output_type": "stream",
     "text": [
      "At epoch 9, training loss: 0.9269, validation loss: 0.9186.\n"
     ]
    },
    {
     "data": {
      "application/vnd.jupyter.widget-view+json": {
       "model_id": "c83ca1603ace4b0d805e58f8c1a6fc58",
       "version_major": 2,
       "version_minor": 0
      },
      "text/plain": [
       "Epoch 10/20:   0%|          | 0/3750 [00:00<?, ?it/s]"
      ]
     },
     "metadata": {},
     "output_type": "display_data"
    },
    {
     "name": "stdout",
     "output_type": "stream",
     "text": [
      "At epoch 10, training loss: 0.8926, validation loss: 0.8867.\n"
     ]
    },
    {
     "data": {
      "application/vnd.jupyter.widget-view+json": {
       "model_id": "3c5135e2c2c8443697ce2ef1621089cb",
       "version_major": 2,
       "version_minor": 0
      },
      "text/plain": [
       "Epoch 11/20:   0%|          | 0/3750 [00:00<?, ?it/s]"
      ]
     },
     "metadata": {},
     "output_type": "display_data"
    },
    {
     "name": "stdout",
     "output_type": "stream",
     "text": [
      "At epoch 11, training loss: 0.8618, validation loss: 0.8580.\n"
     ]
    },
    {
     "data": {
      "application/vnd.jupyter.widget-view+json": {
       "model_id": "a927ab6be8244b26aabb647902e50823",
       "version_major": 2,
       "version_minor": 0
      },
      "text/plain": [
       "Epoch 12/20:   0%|          | 0/3750 [00:00<?, ?it/s]"
      ]
     },
     "metadata": {},
     "output_type": "display_data"
    },
    {
     "name": "stdout",
     "output_type": "stream",
     "text": [
      "At epoch 12, training loss: 0.8341, validation loss: 0.8323.\n"
     ]
    },
    {
     "data": {
      "application/vnd.jupyter.widget-view+json": {
       "model_id": "1b73ac3922744386bde651be0828e04c",
       "version_major": 2,
       "version_minor": 0
      },
      "text/plain": [
       "Epoch 13/20:   0%|          | 0/3750 [00:00<?, ?it/s]"
      ]
     },
     "metadata": {},
     "output_type": "display_data"
    },
    {
     "name": "stdout",
     "output_type": "stream",
     "text": [
      "At epoch 13, training loss: 0.8092, validation loss: 0.8091.\n"
     ]
    },
    {
     "data": {
      "application/vnd.jupyter.widget-view+json": {
       "model_id": "fc4a0a7a4c6e436281483bcc63e950fb",
       "version_major": 2,
       "version_minor": 0
      },
      "text/plain": [
       "Epoch 14/20:   0%|          | 0/3750 [00:00<?, ?it/s]"
      ]
     },
     "metadata": {},
     "output_type": "display_data"
    },
    {
     "name": "stdout",
     "output_type": "stream",
     "text": [
      "At epoch 14, training loss: 0.7866, validation loss: 0.7880.\n"
     ]
    },
    {
     "data": {
      "application/vnd.jupyter.widget-view+json": {
       "model_id": "e8bbee7d6ad64a66b5877a5f77bf0c63",
       "version_major": 2,
       "version_minor": 0
      },
      "text/plain": [
       "Epoch 15/20:   0%|          | 0/3750 [00:00<?, ?it/s]"
      ]
     },
     "metadata": {},
     "output_type": "display_data"
    },
    {
     "name": "stdout",
     "output_type": "stream",
     "text": [
      "At epoch 15, training loss: 0.7661, validation loss: 0.7689.\n"
     ]
    },
    {
     "data": {
      "application/vnd.jupyter.widget-view+json": {
       "model_id": "8d8db10891bc4614958b66e30dc07c72",
       "version_major": 2,
       "version_minor": 0
      },
      "text/plain": [
       "Epoch 16/20:   0%|          | 0/3750 [00:00<?, ?it/s]"
      ]
     },
     "metadata": {},
     "output_type": "display_data"
    },
    {
     "name": "stdout",
     "output_type": "stream",
     "text": [
      "At epoch 16, training loss: 0.7474, validation loss: 0.7514.\n"
     ]
    },
    {
     "data": {
      "application/vnd.jupyter.widget-view+json": {
       "model_id": "0fae097f0cf344c799167a0fb97440e3",
       "version_major": 2,
       "version_minor": 0
      },
      "text/plain": [
       "Epoch 17/20:   0%|          | 0/3750 [00:00<?, ?it/s]"
      ]
     },
     "metadata": {},
     "output_type": "display_data"
    },
    {
     "name": "stdout",
     "output_type": "stream",
     "text": [
      "At epoch 17, training loss: 0.7302, validation loss: 0.7354.\n"
     ]
    },
    {
     "data": {
      "application/vnd.jupyter.widget-view+json": {
       "model_id": "63a8af8d78544c3382d322f4d52ef0d2",
       "version_major": 2,
       "version_minor": 0
      },
      "text/plain": [
       "Epoch 18/20:   0%|          | 0/3750 [00:00<?, ?it/s]"
      ]
     },
     "metadata": {},
     "output_type": "display_data"
    },
    {
     "name": "stdout",
     "output_type": "stream",
     "text": [
      "At epoch 18, training loss: 0.7144, validation loss: 0.7206.\n"
     ]
    },
    {
     "data": {
      "application/vnd.jupyter.widget-view+json": {
       "model_id": "09eef58be4d04659a46d158f309520a7",
       "version_major": 2,
       "version_minor": 0
      },
      "text/plain": [
       "Epoch 19/20:   0%|          | 0/3750 [00:00<?, ?it/s]"
      ]
     },
     "metadata": {},
     "output_type": "display_data"
    },
    {
     "name": "stdout",
     "output_type": "stream",
     "text": [
      "At epoch 19, training loss: 0.6999, validation loss: 0.7071.\n"
     ]
    },
    {
     "data": {
      "application/vnd.jupyter.widget-view+json": {
       "model_id": "9e0bbe4bf509417b8b9bfd07381ce0fa",
       "version_major": 2,
       "version_minor": 0
      },
      "text/plain": [
       "Epoch 20/20:   0%|          | 0/3750 [00:00<?, ?it/s]"
      ]
     },
     "metadata": {},
     "output_type": "display_data"
    },
    {
     "name": "stdout",
     "output_type": "stream",
     "text": [
      "At epoch 20, training loss: 0.6865, validation loss: 0.6945.\n",
      "Mini-batch GD\n",
      "\n",
      "  Precision:\n",
      "    class 0: 0.8507, class 1: 0.8510, class 2: 0.7719, class 3: 0.7984\n",
      "\n",
      "  Recall:\n",
      "    class 0: 0.8247, class 1: 0.9289, class 2: 0.7874, class 3: 0.7337\n"
     ]
    }
   ],
   "source": [
    "num_epoch = 20\n",
    "lam = 1E-6\n",
    "print('best lambda value was 1E-6')\n",
    "mini_gd_lr = LogisticRegression(vocab_size, num_class, lam)\n",
    "mini_gd_train_losses, mini_gd_valid_losses = mini_batch_gd(mini_gd_lr, x_train, y_train, x_test, y_test, batch_size, lr, lam, num_epoch)\n",
    "\n",
    "y_hat = mini_gd_lr.predict(x_test)\n",
    "y_true = np.argmax(y_test, axis=1)\n",
    "\n",
    "precision = precision_score(y_true, y_hat, average=None)\n",
    "recall = recall_score(y_true, y_hat, average=None)\n",
    "\n",
    "print('Mini-batch GD')\n",
    "print()\n",
    "print('  Precision:')\n",
    "print(f'    class {0}: {precision[0]:.4f}, class {1}: {precision[1]:.4f}, class {2}: {precision[2]:.4f}, class {3}: {precision[3]:.4f}')\n",
    "print()\n",
    "print('  Recall:')\n",
    "print(f'    class {0}: {recall[0]:.4f}, class {1}: {recall[1]:.4f}, class {2}: {recall[2]:.4f}, class {3}: {recall[3]:.4f}')"
   ]
  },
  {
   "cell_type": "markdown",
   "metadata": {},
   "source": [
    "### 3.4 Report the best $lambda$ value, and report the recall and precision for each category on the test set."
   ]
  },
  {
   "cell_type": "markdown",
   "metadata": {},
   "source": [
    "The best lambda value is 1.000000e-08\n",
    "\n",
    "Precision:\n",
    "    class 0: 0.8434, class 1: 0.8584, class 2: 0.7703, class 3: 0.7943\n",
    "\n",
    "  Recall:\n",
    "    class 0: 0.8305, class 1: 0.9284, class 2: 0.7821, class 3: 0.7295"
   ]
  },
  {
   "cell_type": "markdown",
   "metadata": {},
   "source": [
    "# 4. Conclusion\n",
    "\n",
    "provide an analysis for the results"
   ]
  },
  {
   "cell_type": "markdown",
   "metadata": {},
   "source": [
    "From executing the code above we get to know that the SGD takes a substantial amount of time compared to mini batch Gd because of using batches to update the weight, but we also observe that SGD appraches to optimum w,b values faster than mini batch. After running K-fold cross validation over the list of lambda values, we observe that the model with lambda value of 1.000000e-08 provides a better result by giving minimum loss in validation set.\n",
    "\n",
    "Another analysis made is that, increasing tha batch size does descrease the time for each epoch but the minimal validatyion loss was to be found at 32/64 batch size. Also realised that the batch size was taken in power of 2 for storing the data in the ram with least page faults."
   ]
  },
  {
   "cell_type": "markdown",
   "id": "c0f315f0",
   "metadata": {},
   "source": []
  }
 ],
 "metadata": {
  "kernelspec": {
   "display_name": "Python 3",
   "language": "python",
   "name": "python3"
  },
  "language_info": {
   "codemirror_mode": {
    "name": "ipython",
    "version": 3
   },
   "file_extension": ".py",
   "mimetype": "text/x-python",
   "name": "python",
   "nbconvert_exporter": "python",
   "pygments_lexer": "ipython3",
   "version": "3.9.10"
  }
 },
 "nbformat": 4,
 "nbformat_minor": 5
}
