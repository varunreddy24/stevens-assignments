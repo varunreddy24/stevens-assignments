{
 "cells": [
  {
   "cell_type": "code",
   "execution_count": null,
   "metadata": {},
   "outputs": [],
   "source": [
    "import numpy as np\n",
    "import tensorflow as tf\n",
    "from tensorflow.keras.layers import Dense, Input, Conv2D, Flatten, Dropout, MaxPool2D\n",
    "from tensorflow.keras import Sequential\n",
    "from tensorflow.keras.losses import CategoricalCrossentropy\n",
    "from tensorflow.keras.callbacks import TensorBoard\n",
    "from tensorflow.keras.utils import to_categorical\n",
    "%load_ext tensorboard"
   ]
  },
  {
   "cell_type": "code",
   "execution_count": null,
   "metadata": {},
   "outputs": [],
   "source": [
    "(x_train, y_train), (x_test, y_test) = tf.keras.datasets.mnist.load_data()\n",
    "\n",
    "x_train = x_train.astype('float64')\n",
    "x_test = x_test.astype('float64')\n",
    "\n",
    "x_train, x_test = (x_train/255.0) - 0.5, (x_test/255.0) - 0.5\n",
    "\n",
    "\n",
    "y_train = to_categorical(y_train, 10)\n",
    "y_test = to_categorical(y_test, 10)\n",
    "\n",
    "print(\"Training samples shape:\", x_train.shape)\n",
    "print(\"Test samples shape:\", x_test.shape)\n",
    "print(\"Training output shape:\", y_train.shape)\n",
    "print(\"Test output shape:\", y_test.shape)"
   ]
  },
  {
   "cell_type": "code",
   "execution_count": null,
   "metadata": {},
   "outputs": [],
   "source": [
    "early_stopping_callback = tf.keras.callbacks.EarlyStopping(\n",
    "    monitor=\"val_loss\",\n",
    "    patience=5,\n",
    "    mode=\"auto\",\n",
    "    restore_best_weights=True\n",
    ")"
   ]
  },
  {
   "cell_type": "code",
   "execution_count": null,
   "metadata": {},
   "outputs": [],
   "source": [
    "LRModel = Sequential(\n",
    "    layers = [\n",
    "              Input(shape=(28,28,1)),\n",
    "              Flatten(),\n",
    "              Dense(10, activation='softmax')\n",
    "              ],\n",
    "              name='LR'\n",
    ")\n",
    "\n",
    "LRModel.compile(loss=CategoricalCrossentropy(), metrics=['accuracy'])\n",
    "LRModel.fit(x_train, y_train, epochs=250, validation_data=(x_test, y_test), batch_size=128,\n",
    "          callbacks=[TensorBoard(log_dir='logs/LR1',update_freq='batch'), \n",
    "                     TensorBoard(log_dir='logs/LR2', update_freq='epoch'),\n",
    "                     early_stopping_callback])"
   ]
  },
  {
   "cell_type": "code",
   "execution_count": null,
   "metadata": {},
   "outputs": [],
   "source": [
    "%tensorboard --logdir='logs/LR1'"
   ]
  },
  {
   "cell_type": "code",
   "execution_count": null,
   "metadata": {},
   "outputs": [],
   "source": [
    "%tensorboard --logdir='logs/LR2'"
   ]
  },
  {
   "cell_type": "code",
   "execution_count": null,
   "metadata": {},
   "outputs": [],
   "source": [
    "FFNModel = Sequential(layers=[\n",
    "                            Input(shape=(28,28)),\n",
    "                           Flatten(),\n",
    "                           Dense(500),\n",
    "                           Dense(500),\n",
    "                           Dense(10, activation='softmax')\n",
    "] ,name='FFN')\n",
    "\n",
    "FFNModel.compile(loss=CategoricalCrossentropy(), metrics=['accuracy'])\n",
    "\n",
    "FFNModel.fit(x_train, y_train, epochs=250, validation_data=(x_test, y_test), batch_size=128,\n",
    "          callbacks=[TensorBoard(log_dir='logs/VanillaFFN1',update_freq='batch'), \n",
    "                     TensorBoard(log_dir='logs/VanillaFFN2', update_freq='epoch'),\n",
    "                     early_stopping_callback])"
   ]
  },
  {
   "cell_type": "code",
   "execution_count": null,
   "metadata": {},
   "outputs": [],
   "source": [
    "%tensorboard --logdir='logs/VanillaFFN1'"
   ]
  },
  {
   "cell_type": "code",
   "execution_count": null,
   "metadata": {},
   "outputs": [],
   "source": [
    "%tensorboard --logdir='logs/VanillaFFN2'"
   ]
  },
  {
   "cell_type": "code",
   "execution_count": null,
   "metadata": {},
   "outputs": [],
   "source": [
    "FFNModelReg = Sequential(layers=[\n",
    "                           Flatten(input_shape=(28,28)),\n",
    "                           Dense(500, kernel_regularizer='l2'),\n",
    "                           Dense(500, kernel_regularizer='l2'),\n",
    "                           Dense(10, activation='softmax')\n",
    "] ,name='FFNReg')\n",
    "\n",
    "FFNModelReg.compile(loss=CategoricalCrossentropy(), metrics=['accuracy'])\n",
    "FFNModelReg.fit(x_train, y_train, epochs=250, validation_data=(x_test, y_test), batch_size=128, \n",
    "          callbacks=[TensorBoard(log_dir='logs/RegFFN1',update_freq='batch'), \n",
    "                     TensorBoard(log_dir='logs/RegFFN2', update_freq='epoch'),\n",
    "                     early_stopping_callback])"
   ]
  },
  {
   "cell_type": "code",
   "execution_count": null,
   "metadata": {},
   "outputs": [],
   "source": [
    "%tensorboard --logdir='logs/RegFFN1'"
   ]
  },
  {
   "cell_type": "code",
   "execution_count": null,
   "metadata": {},
   "outputs": [],
   "source": [
    "%tensorboard --logdir='logs/RegFFN2'"
   ]
  },
  {
   "cell_type": "code",
   "execution_count": null,
   "metadata": {},
   "outputs": [],
   "source": [
    "FFNModelDrop = Sequential(layers=[\n",
    "                           Flatten(input_shape=(28,28)),\n",
    "                           Dense(500),\n",
    "                           Dropout(0.2),\n",
    "                           Dense(500),\n",
    "                           Dropout(0.2),\n",
    "                           Dense(10, activation='softmax')\n",
    "] ,name='FFNDrop')\n",
    "\n",
    "FFNModelDrop.compile(loss=CategoricalCrossentropy(), metrics=['accuracy'])\n",
    "FFNModelDrop.fit(x_train, y_train, epochs=250, validation_data=(x_test, y_test), batch_size=128,\n",
    "          callbacks=[TensorBoard(log_dir='logs/DropFFN1',update_freq='batch'), \n",
    "                     TensorBoard(log_dir='logs/DropFFN2', update_freq='epoch'),\n",
    "                     early_stopping_callback])"
   ]
  },
  {
   "cell_type": "code",
   "execution_count": null,
   "metadata": {},
   "outputs": [],
   "source": [
    "%tensorboard --logdir='logs/DropFFN1'"
   ]
  },
  {
   "cell_type": "code",
   "execution_count": null,
   "metadata": {},
   "outputs": [],
   "source": [
    "%tensorboard --logdir='logs/DropFFN2'"
   ]
  },
  {
   "cell_type": "code",
   "execution_count": null,
   "metadata": {},
   "outputs": [],
   "source": [
    "CNNModelDrop = Sequential(layers=[\n",
    "                            Conv2D(32,(3,3),padding='valid', input_shape=(28,28,1)),\n",
    "                            MaxPool2D((2,2)), \n",
    "                            Conv2D(64,(3,3), padding='valid'),\n",
    "                            MaxPool2D((2,2)),\n",
    "                            Dropout(0.2),\n",
    "                            Flatten(),\n",
    "                            Dense(64, kernel_regularizer='l2'),\n",
    "                            Dense(10,activation='softmax')\n",
    "] ,name='CNNDrop')\n",
    "\n",
    "CNNModelDrop.compile(loss=CategoricalCrossentropy(), metrics=['accuracy'])\n",
    "CNNModelDrop.fit(x_train, y_train, epochs=250, validation_data=(x_test, y_test), batch_size=128,\n",
    "          callbacks=[TensorBoard(log_dir='logs/DropCNN1',update_freq='batch'), \n",
    "                     TensorBoard(log_dir='logs/DropCNN2', update_freq='epoch'),\n",
    "                     early_stopping_callback])"
   ]
  },
  {
   "cell_type": "code",
   "execution_count": null,
   "metadata": {},
   "outputs": [],
   "source": [
    "%tensorboard --logdir='logs/DropCNN1'"
   ]
  },
  {
   "cell_type": "code",
   "execution_count": null,
   "metadata": {},
   "outputs": [],
   "source": [
    "%tensorboard --logdir='logs/DropCNN2'"
   ]
  },
  {
   "cell_type": "code",
   "execution_count": null,
   "metadata": {},
   "outputs": [],
   "source": [
    "%tensorboard --logdir='logs'"
   ]
  },
  {
   "cell_type": "code",
   "execution_count": null,
   "metadata": {},
   "outputs": [],
   "source": [
    "!zip -r \"logs.zip\" \"logs\""
   ]
  }
 ],
 "metadata": {
  "language_info": {
   "name": "python"
  },
  "orig_nbformat": 4
 },
 "nbformat": 4,
 "nbformat_minor": 2
}
